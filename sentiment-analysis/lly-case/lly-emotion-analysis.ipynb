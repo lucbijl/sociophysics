{
 "cells": [
  {
   "attachments": {},
   "cell_type": "markdown",
   "metadata": {},
   "source": [
    "# Sentiment and emotion analysis on LLY event\n",
    "\n",
    "Sentiment analysis on the Eli Lilly free insulin event on 11 November 2022, with a dataset from Mastodon. Using sentiment scores determined by a imdb-trained bert and determining the vad scores with a emobank-trained bert. \n",
    "\n",
    "Written by Luc Bijl."
   ]
  },
  {
   "attachments": {},
   "cell_type": "markdown",
   "metadata": {},
   "source": [
    "We define the date of the event."
   ]
  },
  {
   "cell_type": "code",
   "execution_count": 1,
   "metadata": {},
   "outputs": [],
   "source": [
    "import pandas as pd\n",
    "\n",
    "date_of_event = pd.to_datetime('2022-11-10 18:36')\n",
    "\n",
    "date_start = date_of_event - pd.Timedelta(days=2)\n",
    "date_end =  date_of_event + pd.Timedelta(days=7)"
   ]
  },
  {
   "attachments": {},
   "cell_type": "markdown",
   "metadata": {},
   "source": [
    "## Emotion analysis of the topic: Lilly"
   ]
  },
  {
   "cell_type": "markdown",
   "metadata": {},
   "source": [
    "Loading the Lilly topics dataset."
   ]
  },
  {
   "cell_type": "code",
   "execution_count": 2,
   "metadata": {},
   "outputs": [
    {
     "data": {
      "text/plain": [
       "104"
      ]
     },
     "execution_count": 2,
     "metadata": {},
     "output_type": "execute_result"
    }
   ],
   "source": [
    "import pickle\n",
    "\n",
    "with open('../datasets/bert-scored/lilly.pkl','rb') as file:\n",
    "    df_lilly_raw = pickle.load(file)\n",
    "\n",
    "df_lilly = df_lilly_raw[['Text', 'BERT sentiment score']].rename(columns={'BERT sentiment score': 'S'})\n",
    "\n",
    "len(df_lilly)"
   ]
  },
  {
   "attachments": {},
   "cell_type": "markdown",
   "metadata": {},
   "source": [
    "Preparing the text for the network this includes tokenization, encoding and creating dataloaders."
   ]
  },
  {
   "cell_type": "code",
   "execution_count": 3,
   "metadata": {},
   "outputs": [
    {
     "name": "stderr",
     "output_type": "stream",
     "text": [
      "/home/luc/packages/anaconda/lib/python3.9/site-packages/transformers/utils/generic.py:311: UserWarning: torch.utils._pytree._register_pytree_node is deprecated. Please use torch.utils._pytree.register_pytree_node instead.\n",
      "  torch.utils._pytree._register_pytree_node(\n"
     ]
    }
   ],
   "source": [
    "import torch\n",
    "from transformers import DistilBertTokenizerFast\n",
    "from torch.utils.data import DataLoader\n",
    "from transformers import DistilBertForSequenceClassification\n",
    "\n",
    "model_name = \"distilbert-base-uncased\"\n",
    "tokenizer = DistilBertTokenizerFast.from_pretrained(model_name)\n",
    "\n",
    "lilly_encodings = tokenizer(df_lilly['Text'].tolist(), truncation=True, padding=True, return_tensors='pt')\n",
    "\n",
    "lilly_dataset = torch.utils.data.TensorDataset(\n",
    "    lilly_encodings['input_ids'], \n",
    "    lilly_encodings['attention_mask']\n",
    ")\n",
    "lilly_dataloader = DataLoader(lilly_dataset, batch_size=8, shuffle=False)"
   ]
  },
  {
   "attachments": {},
   "cell_type": "markdown",
   "metadata": {},
   "source": [
    "Loading the model."
   ]
  },
  {
   "cell_type": "code",
   "execution_count": 11,
   "metadata": {},
   "outputs": [],
   "source": [
    "model = torch.load('bert-emobank.pth')"
   ]
  },
  {
   "attachments": {},
   "cell_type": "markdown",
   "metadata": {},
   "source": [
    "Using the model to perform emotion analysis on the dataset."
   ]
  },
  {
   "cell_type": "code",
   "execution_count": 12,
   "metadata": {},
   "outputs": [
    {
     "data": {
      "text/html": [
       "<div>\n",
       "<style scoped>\n",
       "    .dataframe tbody tr th:only-of-type {\n",
       "        vertical-align: middle;\n",
       "    }\n",
       "\n",
       "    .dataframe tbody tr th {\n",
       "        vertical-align: top;\n",
       "    }\n",
       "\n",
       "    .dataframe thead th {\n",
       "        text-align: right;\n",
       "    }\n",
       "</style>\n",
       "<table border=\"1\" class=\"dataframe\">\n",
       "  <thead>\n",
       "    <tr style=\"text-align: right;\">\n",
       "      <th></th>\n",
       "      <th>Text</th>\n",
       "      <th>S</th>\n",
       "      <th>V</th>\n",
       "      <th>A</th>\n",
       "      <th>D</th>\n",
       "    </tr>\n",
       "    <tr>\n",
       "      <th>Date</th>\n",
       "      <th></th>\n",
       "      <th></th>\n",
       "      <th></th>\n",
       "      <th></th>\n",
       "      <th></th>\n",
       "    </tr>\n",
       "  </thead>\n",
       "  <tbody>\n",
       "    <tr>\n",
       "      <th>2022-12-08 14:42:58</th>\n",
       "      <td>ICYMI yesterday, our new cardiovascular report...</td>\n",
       "      <td>0.339886</td>\n",
       "      <td>0.175648</td>\n",
       "      <td>0.194201</td>\n",
       "      <td>0.217700</td>\n",
       "    </tr>\n",
       "    <tr>\n",
       "      <th>2022-12-05 17:58:35</th>\n",
       "      <td>skimgoth and water lillies?</td>\n",
       "      <td>0.025848</td>\n",
       "      <td>0.213328</td>\n",
       "      <td>0.174497</td>\n",
       "      <td>0.196348</td>\n",
       "    </tr>\n",
       "    <tr>\n",
       "      <th>2022-12-01 20:33:41</th>\n",
       "      <td>Sophia has nursery toys Charlie and Lilly for ...</td>\n",
       "      <td>0.354358</td>\n",
       "      <td>0.307794</td>\n",
       "      <td>0.221295</td>\n",
       "      <td>0.262469</td>\n",
       "    </tr>\n",
       "    <tr>\n",
       "      <th>2022-11-30 18:53:33</th>\n",
       "      <td>Eli Lilly CEO says insulin tweet flap “probabl...</td>\n",
       "      <td>-0.059616</td>\n",
       "      <td>0.153949</td>\n",
       "      <td>0.216449</td>\n",
       "      <td>0.206950</td>\n",
       "    </tr>\n",
       "    <tr>\n",
       "      <th>2022-11-28 03:01:05</th>\n",
       "      <td>Tickets acquired to see The Mountain Goats and...</td>\n",
       "      <td>0.588035</td>\n",
       "      <td>0.544307</td>\n",
       "      <td>0.455064</td>\n",
       "      <td>0.302969</td>\n",
       "    </tr>\n",
       "    <tr>\n",
       "      <th>2022-11-26 20:51:18</th>\n",
       "      <td>\"co-winner of the 1923 Nobel Prize for Physiol...</td>\n",
       "      <td>-0.083449</td>\n",
       "      <td>0.105105</td>\n",
       "      <td>0.239729</td>\n",
       "      <td>0.199464</td>\n",
       "    </tr>\n",
       "    <tr>\n",
       "      <th>2022-11-26 15:08:56</th>\n",
       "      <td>excellent video (7 minutes, subtitled) by the ...</td>\n",
       "      <td>0.074707</td>\n",
       "      <td>0.215042</td>\n",
       "      <td>0.248881</td>\n",
       "      <td>0.222221</td>\n",
       "    </tr>\n",
       "    <tr>\n",
       "      <th>2022-11-25 00:53:04</th>\n",
       "      <td>Pretty easy to be thankful some days.</td>\n",
       "      <td>0.112512</td>\n",
       "      <td>0.322024</td>\n",
       "      <td>0.186560</td>\n",
       "      <td>0.223358</td>\n",
       "    </tr>\n",
       "    <tr>\n",
       "      <th>2022-11-23 11:55:28</th>\n",
       "      <td>Handling permissions in Android with all the e...</td>\n",
       "      <td>0.137852</td>\n",
       "      <td>0.237974</td>\n",
       "      <td>0.128814</td>\n",
       "      <td>0.226450</td>\n",
       "    </tr>\n",
       "    <tr>\n",
       "      <th>2022-11-22 17:48:35</th>\n",
       "      <td>I don't scan a lot of film which can make my p...</td>\n",
       "      <td>0.413945</td>\n",
       "      <td>0.301835</td>\n",
       "      <td>0.225895</td>\n",
       "      <td>0.274970</td>\n",
       "    </tr>\n",
       "  </tbody>\n",
       "</table>\n",
       "</div>"
      ],
      "text/plain": [
       "                                                                  Text  \\\n",
       "Date                                                                     \n",
       "2022-12-08 14:42:58  ICYMI yesterday, our new cardiovascular report...   \n",
       "2022-12-05 17:58:35                        skimgoth and water lillies?   \n",
       "2022-12-01 20:33:41  Sophia has nursery toys Charlie and Lilly for ...   \n",
       "2022-11-30 18:53:33  Eli Lilly CEO says insulin tweet flap “probabl...   \n",
       "2022-11-28 03:01:05  Tickets acquired to see The Mountain Goats and...   \n",
       "2022-11-26 20:51:18  \"co-winner of the 1923 Nobel Prize for Physiol...   \n",
       "2022-11-26 15:08:56  excellent video (7 minutes, subtitled) by the ...   \n",
       "2022-11-25 00:53:04              Pretty easy to be thankful some days.   \n",
       "2022-11-23 11:55:28  Handling permissions in Android with all the e...   \n",
       "2022-11-22 17:48:35  I don't scan a lot of film which can make my p...   \n",
       "\n",
       "                            S         V         A         D  \n",
       "Date                                                         \n",
       "2022-12-08 14:42:58  0.339886  0.175648  0.194201  0.217700  \n",
       "2022-12-05 17:58:35  0.025848  0.213328  0.174497  0.196348  \n",
       "2022-12-01 20:33:41  0.354358  0.307794  0.221295  0.262469  \n",
       "2022-11-30 18:53:33 -0.059616  0.153949  0.216449  0.206950  \n",
       "2022-11-28 03:01:05  0.588035  0.544307  0.455064  0.302969  \n",
       "2022-11-26 20:51:18 -0.083449  0.105105  0.239729  0.199464  \n",
       "2022-11-26 15:08:56  0.074707  0.215042  0.248881  0.222221  \n",
       "2022-11-25 00:53:04  0.112512  0.322024  0.186560  0.223358  \n",
       "2022-11-23 11:55:28  0.137852  0.237974  0.128814  0.226450  \n",
       "2022-11-22 17:48:35  0.413945  0.301835  0.225895  0.274970  "
      ]
     },
     "execution_count": 12,
     "metadata": {},
     "output_type": "execute_result"
    }
   ],
   "source": [
    "model.eval()\n",
    "list_predicted_scores = {'V': [], 'A': [], 'D': []}\n",
    "\n",
    "for batch in lilly_dataloader:\n",
    "    with torch.no_grad():\n",
    "        input_ids, attention_mask = batch\n",
    "\n",
    "        # Obtaining the scores\n",
    "        output = model(input_ids=input_ids, attention_mask=attention_mask)\n",
    "        predicted_scores = output.logits\n",
    "\n",
    "        # Writing the scores to the list\n",
    "        list_predicted_scores['V'].extend(predicted_scores[:, 0].tolist())\n",
    "        list_predicted_scores['A'].extend(predicted_scores[:, 1].tolist())\n",
    "        list_predicted_scores['D'].extend(predicted_scores[:, 2].tolist())\n",
    "\n",
    "# Inserting the scores in df_lilly\n",
    "for i in ['V', 'A', 'D']:\n",
    "    df_lilly[i] = list_predicted_scores[i]\n",
    "\n",
    "df_lilly.head(10)"
   ]
  },
  {
   "attachments": {},
   "cell_type": "markdown",
   "metadata": {},
   "source": [
    "Evaluating the summary statistics."
   ]
  },
  {
   "cell_type": "code",
   "execution_count": 13,
   "metadata": {},
   "outputs": [
    {
     "data": {
      "text/html": [
       "<div>\n",
       "<style scoped>\n",
       "    .dataframe tbody tr th:only-of-type {\n",
       "        vertical-align: middle;\n",
       "    }\n",
       "\n",
       "    .dataframe tbody tr th {\n",
       "        vertical-align: top;\n",
       "    }\n",
       "\n",
       "    .dataframe thead th {\n",
       "        text-align: right;\n",
       "    }\n",
       "</style>\n",
       "<table border=\"1\" class=\"dataframe\">\n",
       "  <thead>\n",
       "    <tr style=\"text-align: right;\">\n",
       "      <th></th>\n",
       "      <th>S</th>\n",
       "      <th>V</th>\n",
       "      <th>A</th>\n",
       "      <th>D</th>\n",
       "    </tr>\n",
       "  </thead>\n",
       "  <tbody>\n",
       "    <tr>\n",
       "      <th>count</th>\n",
       "      <td>104.000000</td>\n",
       "      <td>104.000000</td>\n",
       "      <td>104.000000</td>\n",
       "      <td>104.000000</td>\n",
       "    </tr>\n",
       "    <tr>\n",
       "      <th>mean</th>\n",
       "      <td>-0.034357</td>\n",
       "      <td>0.168357</td>\n",
       "      <td>0.233780</td>\n",
       "      <td>0.228780</td>\n",
       "    </tr>\n",
       "    <tr>\n",
       "      <th>std</th>\n",
       "      <td>0.284442</td>\n",
       "      <td>0.100115</td>\n",
       "      <td>0.076152</td>\n",
       "      <td>0.028468</td>\n",
       "    </tr>\n",
       "    <tr>\n",
       "      <th>min</th>\n",
       "      <td>-0.701116</td>\n",
       "      <td>-0.077785</td>\n",
       "      <td>0.081932</td>\n",
       "      <td>0.172494</td>\n",
       "    </tr>\n",
       "    <tr>\n",
       "      <th>25%</th>\n",
       "      <td>-0.235667</td>\n",
       "      <td>0.104997</td>\n",
       "      <td>0.182599</td>\n",
       "      <td>0.209539</td>\n",
       "    </tr>\n",
       "    <tr>\n",
       "      <th>50%</th>\n",
       "      <td>-0.059021</td>\n",
       "      <td>0.177715</td>\n",
       "      <td>0.236129</td>\n",
       "      <td>0.228510</td>\n",
       "    </tr>\n",
       "    <tr>\n",
       "      <th>75%</th>\n",
       "      <td>0.182023</td>\n",
       "      <td>0.205968</td>\n",
       "      <td>0.272902</td>\n",
       "      <td>0.248508</td>\n",
       "    </tr>\n",
       "    <tr>\n",
       "      <th>max</th>\n",
       "      <td>0.588035</td>\n",
       "      <td>0.544307</td>\n",
       "      <td>0.562354</td>\n",
       "      <td>0.302969</td>\n",
       "    </tr>\n",
       "  </tbody>\n",
       "</table>\n",
       "</div>"
      ],
      "text/plain": [
       "                S           V           A           D\n",
       "count  104.000000  104.000000  104.000000  104.000000\n",
       "mean    -0.034357    0.168357    0.233780    0.228780\n",
       "std      0.284442    0.100115    0.076152    0.028468\n",
       "min     -0.701116   -0.077785    0.081932    0.172494\n",
       "25%     -0.235667    0.104997    0.182599    0.209539\n",
       "50%     -0.059021    0.177715    0.236129    0.228510\n",
       "75%      0.182023    0.205968    0.272902    0.248508\n",
       "max      0.588035    0.544307    0.562354    0.302969"
      ]
     },
     "execution_count": 13,
     "metadata": {},
     "output_type": "execute_result"
    }
   ],
   "source": [
    "df_lilly[['S', 'V', 'A', 'D']].describe()"
   ]
  },
  {
   "attachments": {},
   "cell_type": "markdown",
   "metadata": {},
   "source": [
    "Printing the most extreme sentences in the lilly dataset in either of the 4 dimensions."
   ]
  },
  {
   "cell_type": "code",
   "execution_count": 14,
   "metadata": {},
   "outputs": [
    {
     "name": "stdout",
     "output_type": "stream",
     "text": [
      "Min S:\n",
      "Text    ‘More work to do’: Eli Lilly admits insulin pr...\n",
      "S                                               -0.701116\n",
      "V                                               -0.077785\n",
      "A                                                 0.35421\n",
      "D                                                0.208192\n",
      "Name: 2022-11-19 19:43:11, dtype: object\n",
      "\n",
      "Max S:\n",
      "Text    Tickets acquired to see The Mountain Goats and...\n",
      "S                                                0.588035\n",
      "V                                                0.544307\n",
      "A                                                0.455064\n",
      "D                                                0.302969\n",
      "Name: 2022-11-28 03:01:05, dtype: object\n",
      "\n",
      "\n",
      "Min V:\n",
      "Text    ‘More work to do’: Eli Lilly admits insulin pr...\n",
      "S                                               -0.701116\n",
      "V                                               -0.077785\n",
      "A                                                 0.35421\n",
      "D                                                0.208192\n",
      "Name: 2022-11-19 19:43:11, dtype: object\n",
      "\n",
      "Max V:\n",
      "Text    Tickets acquired to see The Mountain Goats and...\n",
      "S                                                0.588035\n",
      "V                                                0.544307\n",
      "A                                                0.455064\n",
      "D                                                0.302969\n",
      "Name: 2022-11-28 03:01:05, dtype: object\n",
      "\n",
      "\n",
      "Min A:\n",
      "Text    Gestern beim Spaziergang in Heidelberg auf dem...\n",
      "S                                                0.277919\n",
      "V                                                 0.20352\n",
      "A                                                0.081932\n",
      "D                                                0.217513\n",
      "Name: 2022-11-14 07:55:21, dtype: object\n",
      "\n",
      "Max A:\n",
      "Text    whoa! that was WILD. i completely dissociated ...\n",
      "S                                               -0.338223\n",
      "V                                                0.003659\n",
      "A                                                0.562354\n",
      "D                                                0.249703\n",
      "Name: 2022-11-19 09:34:21, dtype: object\n",
      "\n",
      "\n",
      "Min D:\n",
      "Text    Can’t say I am not ok this type of consequences \n",
      "S                                              -0.205438\n",
      "V                                              -0.050886\n",
      "A                                               0.289081\n",
      "D                                               0.172494\n",
      "Name: 2022-11-11 19:17:12, dtype: object\n",
      "\n",
      "Max D:\n",
      "Text    Tickets acquired to see The Mountain Goats and...\n",
      "S                                                0.588035\n",
      "V                                                0.544307\n",
      "A                                                0.455064\n",
      "D                                                0.302969\n",
      "Name: 2022-11-28 03:01:05, dtype: object\n",
      "\n",
      "\n"
     ]
    }
   ],
   "source": [
    "for i in ['S', 'V', 'A', 'D']:\n",
    "    print(\"Min {}:\\n{}\".format(i, df_lilly.iloc[df_lilly[i].argmin()]))\n",
    "    print()\n",
    "    print(\"Max {}:\\n{}\".format(i, df_lilly.iloc[df_lilly[i].argmax()]))\n",
    "    print()\n",
    "    print()"
   ]
  },
  {
   "attachments": {},
   "cell_type": "markdown",
   "metadata": {},
   "source": [
    "Importing a seperate dataset."
   ]
  },
  {
   "cell_type": "code",
   "execution_count": 29,
   "metadata": {},
   "outputs": [],
   "source": [
    "import pandas as pd\n",
    "\n",
    "date_of_event = pd.to_datetime('2022-11-10 18:36')\n",
    "time_start = pd.to_datetime('2022-11-10 10:30:00')\n",
    "time_end = pd.to_datetime('2022-11-12 15:30:00')"
   ]
  },
  {
   "cell_type": "code",
   "execution_count": 3,
   "metadata": {},
   "outputs": [
    {
     "data": {
      "text/plain": [
       "104"
      ]
     },
     "execution_count": 3,
     "metadata": {},
     "output_type": "execute_result"
    }
   ],
   "source": [
    "import_posts = '../../datasets/lly-case/svad-scored/lilly.csv'\n",
    "df_posts = pd.read_csv(import_posts)\n",
    "df_posts['date'] = pd.to_datetime(df_posts['date'])\n",
    "\n",
    "df_posts_date = df_posts.set_index('date').sort_index()\n",
    "len(df_posts_date)"
   ]
  },
  {
   "attachments": {},
   "cell_type": "markdown",
   "metadata": {},
   "source": [
    "Plotting the filtered mean of the sentiment, valence, arousal and dominance scores against the date."
   ]
  },
  {
   "cell_type": "code",
   "execution_count": 33,
   "metadata": {},
   "outputs": [
    {
     "data": {
      "image/png": "[encoded data removed]",
      "text/plain": [
       "<Figure size 800x600 with 1 Axes>"
      ]
     },
     "metadata": {},
     "output_type": "display_data"
    }
   ],
   "source": [
    "import seaborn as sns\n",
    "import matplotlib.pyplot as plt\n",
    "from matplotlib.dates import DateFormatter\n",
    "from scipy.ndimage import gaussian_filter1d\n",
    "\n",
    "resample_period = '30min'\n",
    "sigma = 3\n",
    "\n",
    "posts_resampled = {'s': [], 'v': [], 'a': [], 'd': []}\n",
    "smoothed_scores = {'s': [], 'v': [], 'a': [], 'd': []}\n",
    "\n",
    "for i in ['s', 'v', 'a', 'd']:\n",
    "    posts_resampled[i] = df_posts_date[i].resample(resample_period).mean().dropna()\n",
    "    smoothed_scores[i] = gaussian_filter1d(posts_resampled[i], sigma=sigma)\n",
    "    \n",
    "\n",
    "plt.figure(figsize=(10,6))\n",
    "\n",
    "for i,j,k in zip(['s', 'v', 'a', 'd'], ['Sentiment', 'Valence', 'Arousal', 'Dominance'],['black', 'dodgerblue', 'darkorange', 'seagreen']):\n",
    "    plt.plot(posts_resampled[i].index, smoothed_scores[i], label=j, color=k)\n",
    "\n",
    "plt.ylim(-0.3, 0.5)\n",
    "plt.xlim(time_start, time_end)\n",
    "\n",
    "plt.title(f'Mean filtered (σ={sigma}) sentiment and vad scores for the topic Eli Lilly')\n",
    "plt.xlabel('Date')\n",
    "plt.ylabel('Score')\n",
    "plt.grid(True)\n",
    "\n",
    "plt.tick_params(axis='both', direction='in',top=True, right=True)\n",
    "plt.axvline(date_of_event, color='red', linestyle='--')\n",
    "plt.legend()\n",
    "\n",
    "date_format = DateFormatter(\"%m-%d\\n%H:%M\")\n",
    "plt.gca().xaxis.set_major_formatter(date_format)\n",
    "\n",
    "plt.tight_layout()\n",
    "plt.show()"
   ]
  },
  {
   "cell_type": "code",
   "execution_count": null,
   "metadata": {},
   "outputs": [],
   "source": []
  }
 ],
 "metadata": {
  "kernelspec": {
   "display_name": "base",
   "language": "python",
   "name": "python3"
  },
  "language_info": {
   "codemirror_mode": {
    "name": "ipython",
    "version": 3
   },
   "file_extension": ".py",
   "mimetype": "text/x-python",
   "name": "python",
   "nbconvert_exporter": "python",
   "pygments_lexer": "ipython3",
   "version": "3.9.13"
  },
  "orig_nbformat": 4,
  "vscode": {
   "interpreter": {
    "hash": "8c75c0fdd1a718867cdcb84b32adcfdbeaad00b3a4e00a59385211aeed084d4c"
   }
  }
 },
 "nbformat": 4,
 "nbformat_minor": 2
}
