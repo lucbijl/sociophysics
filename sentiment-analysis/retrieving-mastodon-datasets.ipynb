{
 "cells": [
  {
   "attachments": {},
   "cell_type": "markdown",
   "metadata": {},
   "source": [
    "# Retrieving Mastodon datasets.\n",
    "\n",
    "Retrieving Mastodon datasets for sentiment analysis on specific topics.\n",
    "\n",
    "Written by Luc Bijl."
   ]
  },
  {
   "attachments": {},
   "cell_type": "markdown",
   "metadata": {},
   "source": [
    "Retrieving Mastodon key from credentials file."
   ]
  },
  {
   "cell_type": "code",
   "execution_count": null,
   "metadata": {},
   "outputs": [],
   "source": [
    "with open(\"../.credentials\", \"r\") as file:\n",
    "    for line in file:\n",
    "        if 'mastodon-key' in line:\n",
    "            mastodon_key = line.split('mastodon-key=')[1].strip()\n",
    "            break"
   ]
  },
  {
   "attachments": {},
   "cell_type": "markdown",
   "metadata": {},
   "source": [
    "Initializing the Mastodon API."
   ]
  },
  {
   "cell_type": "code",
   "execution_count": null,
   "metadata": {},
   "outputs": [],
   "source": [
    "import pandas as pd\n",
    "from mastodon import Mastodon\n",
    "\n",
    "api_base_url = \"https://mastodon.social\"\n",
    "\n",
    "mastodon = Mastodon(access_token=mastodon_key,api_base_url=api_base_url)"
   ]
  },
  {
   "attachments": {},
   "cell_type": "markdown",
   "metadata": {},
   "source": [
    "Converting the retrieval start and end time period to timestamps."
   ]
  },
  {
   "cell_type": "code",
   "execution_count": null,
   "metadata": {},
   "outputs": [],
   "source": [
    "from datetime import datetime\n",
    "\n",
    "start_date_string = '2023-10-17 00:00:00'\n",
    "end_date_string = '2023-10-21 00:00:00'\n",
    "\n",
    "start_timestamp = int(datetime.strptime(start_date_string, \"%Y-%m-%d %H:%M:%S\").timestamp())\n",
    "end_timestamp = int(datetime.strptime(end_date_string, \"%Y-%m-%d %H:%M:%S\").timestamp())"
   ]
  },
  {
   "attachments": {},
   "cell_type": "markdown",
   "metadata": {},
   "source": [
    "Queriying all messages containing Eli Lilly in the period 2022-10-11 to 2022-12-11."
   ]
  },
  {
   "cell_type": "code",
   "execution_count": null,
   "metadata": {},
   "outputs": [],
   "source": [
    "query = 'language:en after:2023-10-16 before:2023-10-22'"
   ]
  },
  {
   "attachments": {},
   "cell_type": "markdown",
   "metadata": {},
   "source": [
    "Specifiying the chosen search topics."
   ]
  },
  {
   "cell_type": "code",
   "execution_count": null,
   "metadata": {},
   "outputs": [],
   "source": [
    "topics = [\n",
    "    'topic 1',\n",
    "    'topic 2'\n",
    "]"
   ]
  },
  {
   "attachments": {},
   "cell_type": "markdown",
   "metadata": {},
   "source": [
    "Obtaining all toots for every topic, and adding the dataframes of every topic to a dictionary."
   ]
  },
  {
   "cell_type": "code",
   "execution_count": null,
   "metadata": {},
   "outputs": [],
   "source": [
    "limit = 1000\n",
    "\n",
    "dataframes = {}\n",
    "\n",
    "for topic in topics:\n",
    "\n",
    "    max_id = None\n",
    "    dates = []\n",
    "    ids = []\n",
    "    contents = []\n",
    "\n",
    "    while len(dates) < limit:\n",
    "\n",
    "        toots = mastodon.search_v2(query + ' ' + topic, result_type='statuses', max_id=(max_id - 1))['statuses']\n",
    "\n",
    "        if not toots:\n",
    "            break\n",
    "\n",
    "        if toots[-1].id == max_id:\n",
    "            break\n",
    "        \n",
    "\n",
    "        for n in range(1,len(toots)):\n",
    "            date = int(toots[n].created_at.timestamp())\n",
    "\n",
    "            if start_timestamp <= date <= end_timestamp:\n",
    "                dates.append(datetime.utcfromtimestamp(date))\n",
    "                ids.append(toots[n].id)\n",
    "                contents.append(toots[n].content)\n",
    "\n",
    "        max_id = toots[-1].id\n",
    "\n",
    "    data = {'date': dates, 'id': ids, 'content': contents}\n",
    "    df_toots = pd.DataFrame(data)\n",
    "    dataframes[topic] = df_toots\n",
    "\n",
    "dataframes"
   ]
  },
  {
   "attachments": {},
   "cell_type": "markdown",
   "metadata": {},
   "source": [
    "Saving the dataframes dictionary in the datasets directory."
   ]
  },
  {
   "cell_type": "code",
   "execution_count": null,
   "metadata": {},
   "outputs": [],
   "source": [
    "import pickle \n",
    "\n",
    "with open('../datasets/mastodon.pkl','wb') as file:\n",
    "    pickle.dump(dataframes, file)"
   ]
  }
 ],
 "metadata": {
  "kernelspec": {
   "display_name": "base",
   "language": "python",
   "name": "python3"
  },
  "language_info": {
   "codemirror_mode": {
    "name": "ipython",
    "version": 3
   },
   "file_extension": ".py",
   "mimetype": "text/x-python",
   "name": "python",
   "nbconvert_exporter": "python",
   "pygments_lexer": "ipython3",
   "version": "3.9.13"
  },
  "orig_nbformat": 4,
  "vscode": {
   "interpreter": {
    "hash": "8c75c0fdd1a718867cdcb84b32adcfdbeaad00b3a4e00a59385211aeed084d4c"
   }
  }
 },
 "nbformat": 4,
 "nbformat_minor": 2
}
