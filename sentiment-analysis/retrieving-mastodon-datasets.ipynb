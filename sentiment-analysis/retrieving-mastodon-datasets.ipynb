{
 "cells": [
  {
   "attachments": {},
   "cell_type": "markdown",
   "metadata": {},
   "source": [
    "# Retrieving Mastodon datasets.\n",
    "\n",
    "Retrieving Mastodon datasets for specific sentiment analysis.\n",
    "\n",
    "Written by Luc Bijl."
   ]
  },
  {
   "attachments": {},
   "cell_type": "markdown",
   "metadata": {},
   "source": [
    "Retrieving Mastodon key from credentials file."
   ]
  },
  {
   "cell_type": "code",
   "execution_count": null,
   "metadata": {},
   "outputs": [],
   "source": [
    "with open(\"../.credentials\", \"r\") as file:\n",
    "    for line in file:\n",
    "        if 'mastodon-key' in line:\n",
    "            mastodon_key = line.split('mastodon-key=')[1].strip()\n",
    "            break"
   ]
  },
  {
   "attachments": {},
   "cell_type": "markdown",
   "metadata": {},
   "source": [
    "Initializing the Mastodon API."
   ]
  },
  {
   "cell_type": "code",
   "execution_count": null,
   "metadata": {},
   "outputs": [],
   "source": [
    "import pandas as pd\n",
    "from mastodon import Mastodon\n",
    "\n",
    "api_base_url = \"https://mastodon.social\"\n",
    "\n",
    "mastodon = Mastodon(access_token=mastodon_key,api_base_url=api_base_url)"
   ]
  },
  {
   "attachments": {},
   "cell_type": "markdown",
   "metadata": {},
   "source": [
    "Queriying all messages containing Eli Lilly in the period 2022-10-28 to 2022-11-25"
   ]
  },
  {
   "cell_type": "code",
   "execution_count": null,
   "metadata": {},
   "outputs": [],
   "source": [
    "import pandas as pd\n",
    "from mastodon import Mastodon\n",
    "\n",
    "api_base_url = \"https://mastodon.social\"\n",
    "\n",
    "mastodon = Mastodon(access_token=mastodon_key,api_base_url=api_base_url)\n",
    "\n",
    "query = \"language:en after:2022-10-28 before:2022-11-25 Eli Lilly\"\n",
    "\n",
    "limit = 1000\n",
    "max_id = None\n",
    "\n",
    "date = []\n",
    "ids = []\n",
    "content = []\n",
    "\n",
    "while len(date) < limit:\n",
    "\n",
    "    toots = mastodon.search(query,result_type='statuses',max_id=max_id)['statuses']\n",
    "\n",
    "    if not toots:\n",
    "        break\n",
    "\n",
    "    if toots[-1].id == max_id:\n",
    "        break\n",
    "    \n",
    "    for n in range(1,len(toots)):\n",
    "        date.append(toots[n].created_at)\n",
    "        ids.append(toots[n].id)\n",
    "        content.append(toots[n].content)\n",
    "\n",
    "    max_id = toots[-1].id\n",
    "\n",
    "data = {'Date': date, 'ID': ids, 'Content': content}\n",
    "\n",
    "df_toots = pd.DataFrame(data)\n",
    "\n",
    "df_toots"
   ]
  }
 ],
 "metadata": {
  "kernelspec": {
   "display_name": "base",
   "language": "python",
   "name": "python3"
  },
  "language_info": {
   "codemirror_mode": {
    "name": "ipython",
    "version": 3
   },
   "file_extension": ".py",
   "mimetype": "text/x-python",
   "name": "python",
   "nbconvert_exporter": "python",
   "pygments_lexer": "ipython3",
   "version": "3.9.13"
  },
  "orig_nbformat": 4,
  "vscode": {
   "interpreter": {
    "hash": "8c75c0fdd1a718867cdcb84b32adcfdbeaad00b3a4e00a59385211aeed084d4c"
   }
  }
 },
 "nbformat": 4,
 "nbformat_minor": 2
}
