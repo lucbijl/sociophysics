{
 "cells": [
  {
   "attachments": {},
   "cell_type": "markdown",
   "metadata": {},
   "source": [
    "# Emotion analysis with BERT\n",
    "\n",
    "Using transformers with the distilled bert-base model on the emobank dataset, to perform emotion analysis based on the circumplex model.\n",
    "\n",
    "Written by Luc Bijl."
   ]
  },
  {
   "attachments": {},
   "cell_type": "markdown",
   "metadata": {},
   "source": [
    "Retrieving the emobank training and testing dataset from the datasets directory."
   ]
  },
  {
   "cell_type": "code",
   "execution_count": 1,
   "metadata": {},
   "outputs": [
    {
     "name": "stdout",
     "output_type": "stream",
     "text": [
      "Train Data:\n",
      "      V     A     D                                               Text\n",
      "0   3.0   3.0   3.2        Remember what she said in my last letter? \"\n",
      "1   3.0   3.0   3.0                                                ..\"\n",
      "2  3.44   3.0  3.22  Goodwill helps people get off of public assist...\n",
      "3  3.55  3.27  3.46  Sherry learned through our Future Works class ...\n",
      "4   3.6   3.3   3.8  Coming to Goodwill was the first step toward m...\n",
      "\n",
      "Test Data:\n",
      "      V     A     D                                               Text\n",
      "0   2.8   3.1   2.8                          If I wasn't working here.\n",
      "1  3.27  3.36  3.36      I've got more than a job; I've got a career.\"\n",
      "2  2.86  3.29  3.29                           He has no time to waste.\n",
      "3   3.4   3.1   3.4  With the help of friends like you, Goodwill ha...\n",
      "4   3.0   2.6   3.1                                      Real results.\n"
     ]
    }
   ],
   "source": [
    "import os\n",
    "import pandas as pd\n",
    "\n",
    "emobank_dataset = \"../../datasets/emobank/emobank.csv\"\n",
    "\n",
    "df_emobank = pd.read_csv(emobank_dataset, header=None, names=['Id', 'Split', 'V', 'A', 'D', 'Text'])\n",
    "\n",
    "df_raw_train = df_emobank[df_emobank['Split'] == 'train'].drop(columns=['Id', 'Split']).reset_index(drop=True)\n",
    "df_raw_test = df_emobank[df_emobank['Split'] == 'test'].drop(columns=['Id', 'Split']).reset_index(drop=True)\n",
    "\n",
    "print(\"Train Data:\")\n",
    "print(df_raw_train.head())\n",
    "print(\"\\nTest Data:\")\n",
    "print(df_raw_test.head())"
   ]
  },
  {
   "attachments": {},
   "cell_type": "markdown",
   "metadata": {},
   "source": [
    "Normalizing the training and testing dataset to a range of -1 to 1."
   ]
  },
  {
   "cell_type": "code",
   "execution_count": 2,
   "metadata": {},
   "outputs": [
    {
     "name": "stdout",
     "output_type": "stream",
     "text": [
      "Train Data:\n",
      "                                                Text      V      A      D\n",
      "0        Remember what she said in my last letter? \"  0.200  0.200  0.280\n",
      "1                                                ..\"  0.200  0.200  0.200\n",
      "2  Goodwill helps people get off of public assist...  0.376  0.200  0.288\n",
      "3  Sherry learned through our Future Works class ...  0.420  0.308  0.384\n",
      "4  Coming to Goodwill was the first step toward m...  0.440  0.320  0.520\n",
      "\n",
      "Test Data:\n",
      "                                                Text      V      A      D\n",
      "0                          If I wasn't working here.  0.120  0.240  0.120\n",
      "1      I've got more than a job; I've got a career.\"  0.308  0.344  0.344\n",
      "2                           He has no time to waste.  0.144  0.316  0.316\n",
      "3  With the help of friends like you, Goodwill ha...  0.360  0.240  0.360\n",
      "4                                      Real results.  0.200  0.040  0.240\n"
     ]
    }
   ],
   "source": [
    "def normalize(n):\n",
    "    normal_n = (2*n - 5) / 5\n",
    "    return normal_n\n",
    "\n",
    "df_train = df_raw_train[['Text']].copy()\n",
    "df_test = df_raw_test[['Text']].copy()\n",
    "\n",
    "for i in ['V','A','D']:\n",
    "    df_train[i] = normalize(df_raw_train[i].astype(float))\n",
    "    df_test[i] = normalize(df_raw_test[i].astype(float))\n",
    "\n",
    "print(\"Train Data:\")\n",
    "print(df_train.head())\n",
    "print(\"\\nTest Data:\")\n",
    "print(df_test.head())"
   ]
  },
  {
   "attachments": {},
   "cell_type": "markdown",
   "metadata": {},
   "source": [
    "Printing the most extreme sentences in the training set in either of the three dimensions."
   ]
  },
  {
   "cell_type": "code",
   "execution_count": 3,
   "metadata": {},
   "outputs": [
    {
     "name": "stdout",
     "output_type": "stream",
     "text": [
      "Min V:\n",
      "Text    \"Fuck you\"\n",
      "V            -0.52\n",
      "A             0.68\n",
      "D             0.52\n",
      "Name: 930, dtype: object\n",
      "\n",
      "Max V:\n",
      "Text    lol Wonderful Simply Superb!\n",
      "V                               0.84\n",
      "A                               0.72\n",
      "D                               0.48\n",
      "Name: 7695, dtype: object\n",
      "\n",
      "\n",
      "Min A:\n",
      "Text    I was feeling calm and private that night.\n",
      "V                                             0.24\n",
      "A                                            -0.28\n",
      "D                                             0.24\n",
      "Name: 2859, dtype: object\n",
      "\n",
      "Max A:\n",
      "Text    \"My God, yes, yes, yes!\"\n",
      "V                           0.72\n",
      "A                           0.76\n",
      "D                           0.36\n",
      "Name: 6270, dtype: object\n",
      "\n",
      "\n",
      "Min D:\n",
      "Text    Hands closed on my neck and I felt my spine cr...\n",
      "V                                                   -0.24\n",
      "A                                                    0.52\n",
      "D                                                    -0.2\n",
      "Name: 3373, dtype: object\n",
      "\n",
      "Max D:\n",
      "Text    “NO”\n",
      "V      -0.32\n",
      "A       0.56\n",
      "D       0.68\n",
      "Name: 6481, dtype: object\n",
      "\n",
      "\n"
     ]
    }
   ],
   "source": [
    "for i in ['V','A','D']:\n",
    "    print(\"Min {}:\\n{}\".format(i, df_train.loc[df_train[i].argmin()]))\n",
    "    print()\n",
    "    print(\"Max {}:\\n{}\".format(i, df_train.loc[df_train[i].argmax()]))\n",
    "    print()\n",
    "    print()"
   ]
  },
  {
   "attachments": {},
   "cell_type": "markdown",
   "metadata": {},
   "source": [
    "Determining the length of the training and testing dataset, to set a proper batch size."
   ]
  },
  {
   "cell_type": "code",
   "execution_count": 4,
   "metadata": {},
   "outputs": [
    {
     "name": "stdout",
     "output_type": "stream",
     "text": [
      "Length training set: 8062\n",
      "Length testing set: 1000\n"
     ]
    }
   ],
   "source": [
    "print(f\"Length training set: {len(df_train)}\\nLength testing set: {len(df_test)}\")"
   ]
  },
  {
   "attachments": {},
   "cell_type": "markdown",
   "metadata": {},
   "source": [
    "Testing if the GPU supports torch."
   ]
  },
  {
   "cell_type": "code",
   "execution_count": 5,
   "metadata": {},
   "outputs": [
    {
     "data": {
      "text/plain": [
       "True"
      ]
     },
     "execution_count": 5,
     "metadata": {},
     "output_type": "execute_result"
    }
   ],
   "source": [
    "import torch\n",
    "\n",
    "torch.cuda.is_available()"
   ]
  },
  {
   "attachments": {},
   "cell_type": "markdown",
   "metadata": {},
   "source": [
    "Preparing the data for BERT, this includes tokenization, encoding and creating dataloaders for both training and testing datasets."
   ]
  },
  {
   "cell_type": "code",
   "execution_count": 6,
   "metadata": {},
   "outputs": [
    {
     "name": "stderr",
     "output_type": "stream",
     "text": [
      "/home/luc/packages/anaconda/lib/python3.9/site-packages/transformers/utils/generic.py:311: UserWarning: torch.utils._pytree._register_pytree_node is deprecated. Please use torch.utils._pytree.register_pytree_node instead.\n",
      "  torch.utils._pytree._register_pytree_node(\n"
     ]
    }
   ],
   "source": [
    "from transformers import DistilBertTokenizerFast\n",
    "from torch.utils.data import DataLoader\n",
    "from transformers import DistilBertForSequenceClassification\n",
    "\n",
    "model_name = \"distilbert-base-uncased\"\n",
    "tokenizer = DistilBertTokenizerFast.from_pretrained(model_name)\n",
    "\n",
    "# Tokenizing and encoding the text data\n",
    "train_encodings = tokenizer(df_train['Text'].tolist(), truncation=True, padding=True, return_tensors='pt')\n",
    "test_encodings = tokenizer(df_test['Text'].tolist(), truncation=True, padding=True, return_tensors='pt')\n",
    "\n",
    "# Creating data loaders\n",
    "train_dataset = torch.utils.data.TensorDataset(\n",
    "    train_encodings['input_ids'], \n",
    "    train_encodings['attention_mask'], \n",
    "    torch.tensor(df_train[['V', 'A', 'D']].values, dtype=torch.float32)\n",
    ")\n",
    "train_dataloader = DataLoader(train_dataset, batch_size=29, shuffle=True)\n",
    "\n",
    "test_dataset = torch.utils.data.TensorDataset(\n",
    "    test_encodings['input_ids'], \n",
    "    test_encodings['attention_mask'], \n",
    "    torch.tensor(df_test[['V', 'A', 'D']].values, dtype=torch.float32)\n",
    ")\n",
    "test_dataloader = DataLoader(test_dataset, batch_size=20, shuffle=False)"
   ]
  },
  {
   "attachments": {},
   "cell_type": "markdown",
   "metadata": {},
   "source": [
    "Defining the model: distilBERT."
   ]
  },
  {
   "cell_type": "code",
   "execution_count": 7,
   "metadata": {},
   "outputs": [
    {
     "name": "stderr",
     "output_type": "stream",
     "text": [
      "Some weights of DistilBertForSequenceClassification were not initialized from the model checkpoint at distilbert-base-uncased and are newly initialized: ['classifier.bias', 'classifier.weight', 'pre_classifier.bias', 'pre_classifier.weight']\n",
      "You should probably TRAIN this model on a down-stream task to be able to use it for predictions and inference.\n"
     ]
    }
   ],
   "source": [
    "model = DistilBertForSequenceClassification.from_pretrained(model_name, num_labels=3)"
   ]
  },
  {
   "attachments": {},
   "cell_type": "markdown",
   "metadata": {},
   "source": [
    "Defining the optimizer and loss function."
   ]
  },
  {
   "cell_type": "code",
   "execution_count": 8,
   "metadata": {},
   "outputs": [],
   "source": [
    "from torch.optim import Adam\n",
    "from torch.nn import MAELoss\n",
    "\n",
    "optimizer = Adam(model.parameters(), lr=1e-4)\n",
    "loss_fn = MAELoss()"
   ]
  },
  {
   "attachments": {},
   "cell_type": "markdown",
   "metadata": {},
   "source": [
    "Defining the training loop, here BERT will be trained with the training dataset and validated with the test dataset."
   ]
  },
  {
   "cell_type": "code",
   "execution_count": 10,
   "metadata": {},
   "outputs": [
    {
     "name": "stdout",
     "output_type": "stream",
     "text": [
      "Epoch 1/10, Training Loss: 0.0285\n",
      "Epoch 1/10, Validation Loss: 0.0218\n",
      "\n",
      "Epoch 2/10, Training Loss: 0.0182\n",
      "Epoch 2/10, Validation Loss: 0.0225\n",
      "\n",
      "Epoch 3/10, Training Loss: 0.0132\n",
      "Epoch 3/10, Validation Loss: 0.0217\n",
      "\n",
      "Epoch 4/10, Training Loss: 0.0100\n",
      "Epoch 4/10, Validation Loss: 0.0228\n",
      "\n",
      "Epoch 5/10, Training Loss: 0.0079\n",
      "Epoch 5/10, Validation Loss: 0.0228\n",
      "\n"
     ]
    }
   ],
   "source": [
    "from torch.utils.tensorboard import SummaryWriter\n",
    "\n",
    "log_dir = 'logs'\n",
    "writer = SummaryWriter(log_dir)\n",
    "global_step = 0\n",
    "\n",
    "num_epochs = 30\n",
    "\n",
    "early_stop_patience = 2\n",
    "best_validation_loss = float('inf')\n",
    "no_improvement_counter = 0\n",
    "\n",
    "for epoch in range(num_epochs):\n",
    "    model.train()\n",
    "    total_loss = 0\n",
    "    total_loss_v = 0\n",
    "    total_loss_a = 0\n",
    "    total_loss_d = 0\n",
    "    num_batches = 0\n",
    "\n",
    "    for batch in train_dataloader:\n",
    "        global_step += 1\n",
    "        num_batches += 1\n",
    "        input_ids, attention_mask, target_scores = batch\n",
    "\n",
    "        # Forward pass\n",
    "        output = model(input_ids=input_ids, attention_mask=attention_mask)\n",
    "        predicted_scores = output.logits\n",
    "\n",
    "        # Calculating the loss for each dimensions\n",
    "        loss_v = loss_fn(predicted_scores[:,0], target_scores[:,0])\n",
    "        loss_a = loss_fn(predicted_scores[:,1], target_scores[:,1])\n",
    "        loss_d = loss_fn(predicted_scores[:,2], target_scores[:,2])\n",
    "\n",
    "        # The main loss is defined as the sum of the individual losses\n",
    "        loss = loss_v + loss_a + loss_d\n",
    "\n",
    "        # The total loss per epoch\n",
    "        total_loss_v += loss_v.item()\n",
    "        total_loss_a += loss_a.item()\n",
    "        total_loss_d += loss_d.item()\n",
    "        total_loss += loss.item()\n",
    "\n",
    "        # Determining the average loss in the epoch\n",
    "        average_loss_v = total_loss_v / num_batches\n",
    "        average_loss_a = total_loss_a / num_batches\n",
    "        average_loss_d = total_loss_d / num_batches\n",
    "        average_loss = total_loss / num_batches\n",
    "\n",
    "        # Tensorboard logging\n",
    "        writer.add_scalar('Batch-loss-train-valence', average_loss_v, global_step)\n",
    "        writer.add_scalar('Batch-loss-train-arousal', average_loss_a, global_step)\n",
    "        writer.add_scalar('Batch-loss-train-dominance', average_loss_d, global_step)\n",
    "        writer.add_scalar('Batch-loss-train', average_loss, global_step)\n",
    "\n",
    "        # Backward pass and optimization\n",
    "        loss.backward()\n",
    "        optimizer.step()\n",
    "        optimizer.zero_grad()\n",
    "\n",
    "    # Determining the average loss for the epoch\n",
    "    average_loss_v = total_loss_v / len(train_dataloader)\n",
    "    average_loss_a = total_loss_a / len(train_dataloader)\n",
    "    average_loss_d = total_loss_d / len(train_dataloader)\n",
    "    average_loss = total_loss / len(train_dataloader)\n",
    "    \n",
    "    # Logging\n",
    "    writer.add_scalar('Epoch-loss-train-valence', average_loss_v, epoch)\n",
    "    writer.add_scalar('Epoch-loss-train-arousal', average_loss_a, epoch)\n",
    "    writer.add_scalar('Epoch-loss-train-dominance', average_loss_d, epoch)\n",
    "    writer.add_scalar('Epoch-loss-train', average_loss, epoch)\n",
    "    print(f\"Epoch {epoch + 1}/{num_epochs}, Training Loss: {average_loss:.4f}\")\n",
    "    \n",
    "    # Validation\n",
    "    model.eval()\n",
    "    total_loss = 0\n",
    "    total_loss_v = 0\n",
    "    total_loss_a = 0\n",
    "    total_loss_d = 0\n",
    "\n",
    "    for batch in test_dataloader:\n",
    "        with torch.no_grad():\n",
    "            input_ids, attention_mask, target_scores = batch\n",
    "\n",
    "            # Obtaining the scores\n",
    "            output = model(input_ids=input_ids, attention_mask=attention_mask)\n",
    "            predicted_scores = output.logits\n",
    "\n",
    "            # Calculating the loss for each dimensions\n",
    "            loss_v = loss_fn(predicted_scores[:,0], target_scores[:,0])\n",
    "            loss_a = loss_fn(predicted_scores[:,1], target_scores[:,1])\n",
    "            loss_d = loss_fn(predicted_scores[:,2], target_scores[:,2])\n",
    "            \n",
    "            # The main loss is defined as the sum of the individual losses\n",
    "            loss = loss_v + loss_a + loss_d\n",
    "\n",
    "            # The total loss per epoch\n",
    "            total_loss_v += loss_v.item()\n",
    "            total_loss_a += loss_a.item()\n",
    "            total_loss_d += loss_d.item()\n",
    "            total_loss += loss.item()\n",
    "\n",
    "    # Determining the average loss for the epoch\n",
    "    average_loss_v = total_loss_v / len(test_dataloader)\n",
    "    average_loss_a = total_loss_a / len(test_dataloader)\n",
    "    average_loss_d = total_loss_d / len(test_dataloader)\n",
    "    average_loss = total_loss / len(test_dataloader)\n",
    "\n",
    "    # Logging  \n",
    "    writer.add_scalar('Epoch-loss-validation-valence', average_loss_v, epoch)\n",
    "    writer.add_scalar('Epoch-loss-validation-arousal', average_loss_a, epoch)\n",
    "    writer.add_scalar('Epoch-loss-validation-dominance', average_loss_d, epoch)\n",
    "    writer.add_scalar('Epoch-loss-validation', average_loss, epoch)\n",
    "    print(f\"Epoch {epoch + 1}/{num_epochs}, Validation Loss: {average_loss:.4f}\\n\")\n",
    "\n",
    "    # Early stopping check\n",
    "    if average_loss < best_validation_loss:\n",
    "        best_validation_loss = average_loss\n",
    "        no_improvement_counter = 0\n",
    "    else:\n",
    "        no_improvement_counter += 1\n",
    "\n",
    "    if no_improvement_counter >= early_stop_patience:\n",
    "        break\n",
    "\n",
    "writer.close()"
   ]
  },
  {
   "attachments": {},
   "cell_type": "markdown",
   "metadata": {},
   "source": [
    "Saving the model."
   ]
  },
  {
   "cell_type": "code",
   "execution_count": 16,
   "metadata": {},
   "outputs": [],
   "source": [
    "torch.save(model, 'bert-emobank-2.pth')"
   ]
  },
  {
   "attachments": {},
   "cell_type": "markdown",
   "metadata": {},
   "source": [
    "Evaluating the model, with as output the MAE, MSE and R-value."
   ]
  },
  {
   "cell_type": "code",
   "execution_count": 17,
   "metadata": {},
   "outputs": [
    {
     "name": "stdout",
     "output_type": "stream",
     "text": [
      "Pearson Correlation Coefficient (R) V: 0.7562\n",
      "Mean Squared Error (MSE) V: 0.0082\n",
      "Mean Absolute Error (MAE) V: 0.0674\n",
      "\n",
      "Pearson Correlation Coefficient (R) A: 0.5158\n",
      "Mean Squared Error (MSE) A: 0.0082\n",
      "Mean Absolute Error (MAE) A: 0.0708\n",
      "\n",
      "Pearson Correlation Coefficient (R) D: 0.4211\n",
      "Mean Squared Error (MSE) D: 0.0064\n",
      "Mean Absolute Error (MAE) D: 0.0604\n",
      "\n"
     ]
    }
   ],
   "source": [
    "from scipy.stats import pearsonr\n",
    "from sklearn.metrics import mean_squared_error, mean_absolute_error\n",
    "\n",
    "model.eval()\n",
    "list_predicted_scores = {'V': [], 'A': [], 'D': []}\n",
    "\n",
    "for batch in test_dataloader:\n",
    "    with torch.no_grad():\n",
    "        input_ids, attention_mask, target_scores = batch\n",
    "\n",
    "        # Obtaining the scores\n",
    "        output = model(input_ids=input_ids, attention_mask=attention_mask)\n",
    "        predicted_scores = output.logits\n",
    "\n",
    "        # Writing the scores to the list\n",
    "        list_predicted_scores['V'].extend(predicted_scores[:, 0].tolist())\n",
    "        list_predicted_scores['A'].extend(predicted_scores[:, 1].tolist())\n",
    "        list_predicted_scores['D'].extend(predicted_scores[:, 2].tolist())\n",
    "\n",
    "# Inserting the scores in df_test\n",
    "for i,j in zip(['V', 'A', 'D'],['V-p', 'A-p', 'D-p']):\n",
    "    df_test[j] = list_predicted_scores[i]\n",
    "\n",
    "# Computing the R, MSE and MAE values.\n",
    "for i,j in zip(['V', 'A', 'D'],['V-p', 'A-p', 'D-p']):\n",
    "\n",
    "    correlation, _ = pearsonr(df_test[i], df_test[j])\n",
    "\n",
    "    print(f\"Pearson Correlation Coefficient (R) {i}: {correlation:.4f}\")\n",
    "    print(f\"Mean Squared Error (MSE) {i}: {mean_squared_error(df_test[i], df_test[j]):.4f}\")\n",
    "    print(f\"Mean Absolute Error (MAE) {i}: {mean_absolute_error(df_test[i], df_test[j]):.4f}\")\n",
    "    print()"
   ]
  },
  {
   "attachments": {},
   "cell_type": "markdown",
   "metadata": {},
   "source": [
    "Evaluating the summary statistics."
   ]
  },
  {
   "cell_type": "code",
   "execution_count": 18,
   "metadata": {},
   "outputs": [
    {
     "data": {
      "text/html": [
       "<div>\n",
       "<style scoped>\n",
       "    .dataframe tbody tr th:only-of-type {\n",
       "        vertical-align: middle;\n",
       "    }\n",
       "\n",
       "    .dataframe tbody tr th {\n",
       "        vertical-align: top;\n",
       "    }\n",
       "\n",
       "    .dataframe thead th {\n",
       "        text-align: right;\n",
       "    }\n",
       "</style>\n",
       "<table border=\"1\" class=\"dataframe\">\n",
       "  <thead>\n",
       "    <tr style=\"text-align: right;\">\n",
       "      <th></th>\n",
       "      <th>V</th>\n",
       "      <th>V-p</th>\n",
       "      <th>A</th>\n",
       "      <th>A-p</th>\n",
       "      <th>D</th>\n",
       "      <th>D-p</th>\n",
       "    </tr>\n",
       "  </thead>\n",
       "  <tbody>\n",
       "    <tr>\n",
       "      <th>count</th>\n",
       "      <td>1000.000000</td>\n",
       "      <td>1000.000000</td>\n",
       "      <td>1000.000000</td>\n",
       "      <td>1000.000000</td>\n",
       "      <td>1000.000000</td>\n",
       "      <td>1000.000000</td>\n",
       "    </tr>\n",
       "    <tr>\n",
       "      <th>mean</th>\n",
       "      <td>0.191236</td>\n",
       "      <td>0.185223</td>\n",
       "      <td>0.213576</td>\n",
       "      <td>0.222954</td>\n",
       "      <td>0.225812</td>\n",
       "      <td>0.232260</td>\n",
       "    </tr>\n",
       "    <tr>\n",
       "      <th>std</th>\n",
       "      <td>0.138137</td>\n",
       "      <td>0.100062</td>\n",
       "      <td>0.098377</td>\n",
       "      <td>0.083009</td>\n",
       "      <td>0.084154</td>\n",
       "      <td>0.058618</td>\n",
       "    </tr>\n",
       "    <tr>\n",
       "      <th>min</th>\n",
       "      <td>-0.372000</td>\n",
       "      <td>-0.185023</td>\n",
       "      <td>-0.160000</td>\n",
       "      <td>0.048956</td>\n",
       "      <td>-0.288000</td>\n",
       "      <td>0.040462</td>\n",
       "    </tr>\n",
       "    <tr>\n",
       "      <th>25%</th>\n",
       "      <td>0.120000</td>\n",
       "      <td>0.130039</td>\n",
       "      <td>0.156000</td>\n",
       "      <td>0.169426</td>\n",
       "      <td>0.200000</td>\n",
       "      <td>0.199505</td>\n",
       "    </tr>\n",
       "    <tr>\n",
       "      <th>50%</th>\n",
       "      <td>0.200000</td>\n",
       "      <td>0.190058</td>\n",
       "      <td>0.200000</td>\n",
       "      <td>0.210134</td>\n",
       "      <td>0.240000</td>\n",
       "      <td>0.225841</td>\n",
       "    </tr>\n",
       "    <tr>\n",
       "      <th>75%</th>\n",
       "      <td>0.256000</td>\n",
       "      <td>0.239205</td>\n",
       "      <td>0.280000</td>\n",
       "      <td>0.264976</td>\n",
       "      <td>0.280000</td>\n",
       "      <td>0.258864</td>\n",
       "    </tr>\n",
       "    <tr>\n",
       "      <th>max</th>\n",
       "      <td>0.720000</td>\n",
       "      <td>0.676821</td>\n",
       "      <td>0.680000</td>\n",
       "      <td>0.731739</td>\n",
       "      <td>0.600000</td>\n",
       "      <td>0.531665</td>\n",
       "    </tr>\n",
       "  </tbody>\n",
       "</table>\n",
       "</div>"
      ],
      "text/plain": [
       "                 V          V-p            A          A-p            D  \\\n",
       "count  1000.000000  1000.000000  1000.000000  1000.000000  1000.000000   \n",
       "mean      0.191236     0.185223     0.213576     0.222954     0.225812   \n",
       "std       0.138137     0.100062     0.098377     0.083009     0.084154   \n",
       "min      -0.372000    -0.185023    -0.160000     0.048956    -0.288000   \n",
       "25%       0.120000     0.130039     0.156000     0.169426     0.200000   \n",
       "50%       0.200000     0.190058     0.200000     0.210134     0.240000   \n",
       "75%       0.256000     0.239205     0.280000     0.264976     0.280000   \n",
       "max       0.720000     0.676821     0.680000     0.731739     0.600000   \n",
       "\n",
       "               D-p  \n",
       "count  1000.000000  \n",
       "mean      0.232260  \n",
       "std       0.058618  \n",
       "min       0.040462  \n",
       "25%       0.199505  \n",
       "50%       0.225841  \n",
       "75%       0.258864  \n",
       "max       0.531665  "
      ]
     },
     "execution_count": 18,
     "metadata": {},
     "output_type": "execute_result"
    }
   ],
   "source": [
    "df_test[['V', 'V-p', 'A', 'A-p', 'D', 'D-p']].describe()"
   ]
  },
  {
   "attachments": {},
   "cell_type": "markdown",
   "metadata": {},
   "source": [
    "Printing the most extreme sentences in the test set in either of the six dimensions."
   ]
  },
  {
   "cell_type": "code",
   "execution_count": 19,
   "metadata": {},
   "outputs": [
    {
     "name": "stdout",
     "output_type": "stream",
     "text": [
      "Min V:\n",
      "Text    Bangladesh ferry sinks, 15 dead\n",
      "V                                -0.372\n",
      "A                                   0.2\n",
      "D                                 0.028\n",
      "V-p                            -0.05013\n",
      "A-p                            0.309832\n",
      "D-p                            0.222035\n",
      "Name: 526, dtype: object\n",
      "\n",
      "Max V:\n",
      "Text    “That’s amazing!”\n",
      "V                    0.72\n",
      "A                    0.68\n",
      "D                     0.4\n",
      "V-p              0.676821\n",
      "A-p              0.731739\n",
      "D-p              0.407097\n",
      "Name: 382, dtype: object\n",
      "\n",
      "\n",
      "Min V-p:\n",
      "Text    Indonesian bird flu deaths hit 61\n",
      "V                                   -0.16\n",
      "A                                    0.36\n",
      "D                                     0.0\n",
      "V-p                             -0.185023\n",
      "A-p                              0.362648\n",
      "D-p                              0.178802\n",
      "Name: 553, dtype: object\n",
      "\n",
      "Max V-p:\n",
      "Text    “That’s amazing!”\n",
      "V                    0.72\n",
      "A                    0.68\n",
      "D                     0.4\n",
      "V-p              0.676821\n",
      "A-p              0.731739\n",
      "D-p              0.407097\n",
      "Name: 382, dtype: object\n",
      "\n",
      "\n",
      "Min A:\n",
      "Text    But in fact, once news of the handover vanishe...\n",
      "V                                                    0.16\n",
      "A                                                   -0.16\n",
      "D                                                    0.32\n",
      "V-p                                              0.147989\n",
      "A-p                                              0.201561\n",
      "D-p                                              0.187197\n",
      "Name: 247, dtype: object\n",
      "\n",
      "Max A:\n",
      "Text    “That’s amazing!”\n",
      "V                    0.72\n",
      "A                    0.68\n",
      "D                     0.4\n",
      "V-p              0.676821\n",
      "A-p              0.731739\n",
      "D-p              0.407097\n",
      "Name: 382, dtype: object\n",
      "\n",
      "\n",
      "Min A-p:\n",
      "Text    asked Nepthys.\n",
      "V                  0.2\n",
      "A                0.144\n",
      "D                  0.2\n",
      "V-p           0.197157\n",
      "A-p           0.048956\n",
      "D-p           0.180259\n",
      "Name: 386, dtype: object\n",
      "\n",
      "Max A-p:\n",
      "Text    “That’s amazing!”\n",
      "V                    0.72\n",
      "A                    0.68\n",
      "D                     0.4\n",
      "V-p              0.676821\n",
      "A-p              0.731739\n",
      "D-p              0.407097\n",
      "Name: 382, dtype: object\n",
      "\n",
      "\n",
      "Min D:\n",
      "Text    I shivered as I walked past the pale man’s bla...\n",
      "V                                                    -0.2\n",
      "A                                                     0.2\n",
      "D                                                  -0.288\n",
      "V-p                                              0.100316\n",
      "A-p                                              0.261483\n",
      "D-p                                              0.065648\n",
      "Name: 374, dtype: object\n",
      "\n",
      "Max D:\n",
      "Text    I'll make you fight.\n",
      "V                      -0.04\n",
      "A                       0.52\n",
      "D                        0.6\n",
      "V-p                 0.258017\n",
      "A-p                 0.461223\n",
      "D-p                 0.531665\n",
      "Name: 721, dtype: object\n",
      "\n",
      "\n",
      "Min D-p:\n",
      "Text    I ended up with a broken fingernail and dirt a...\n",
      "V                                                  -0.156\n",
      "A                                                   0.288\n",
      "D                                                     0.2\n",
      "V-p                                              -0.06983\n",
      "A-p                                              0.271801\n",
      "D-p                                              0.040462\n",
      "Name: 428, dtype: object\n",
      "\n",
      "Max D-p:\n",
      "Text    I'll make you fight.\n",
      "V                      -0.04\n",
      "A                       0.52\n",
      "D                        0.6\n",
      "V-p                 0.258017\n",
      "A-p                 0.461223\n",
      "D-p                 0.531665\n",
      "Name: 721, dtype: object\n",
      "\n",
      "\n"
     ]
    }
   ],
   "source": [
    "for i in ['V', 'V-p', 'A', 'A-p', 'D', 'D-p']:\n",
    "    print(\"Min {}:\\n{}\".format(i, df_test.loc[df_test[i].argmin()]))\n",
    "    print()\n",
    "    print(\"Max {}:\\n{}\".format(i, df_test.loc[df_test[i].argmax()]))\n",
    "    print()\n",
    "    print()"
   ]
  }
 ],
 "metadata": {
  "kernelspec": {
   "display_name": "base",
   "language": "python",
   "name": "python3"
  },
  "language_info": {
   "codemirror_mode": {
    "name": "ipython",
    "version": 3
   },
   "file_extension": ".py",
   "mimetype": "text/x-python",
   "name": "python",
   "nbconvert_exporter": "python",
   "pygments_lexer": "ipython3",
   "version": "3.9.13"
  },
  "vscode": {
   "interpreter": {
    "hash": "8c75c0fdd1a718867cdcb84b32adcfdbeaad00b3a4e00a59385211aeed084d4c"
   }
  }
 },
 "nbformat": 4,
 "nbformat_minor": 2
}
