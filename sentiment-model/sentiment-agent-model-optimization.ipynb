{
 "cells": [
  {
   "attachments": {},
   "cell_type": "markdown",
   "metadata": {},
   "source": [
    "# Optimizing the sentiment agent model\n",
    "\n",
    "Optimizing the parameters of the functions in the sentiment agent model. This is a work in progress.\n",
    "\n",
    "Written by Luc Bijl"
   ]
  },
  {
   "attachments": {},
   "cell_type": "markdown",
   "metadata": {},
   "source": [
    "Importing the posts dataset."
   ]
  },
  {
   "cell_type": "code",
   "execution_count": null,
   "metadata": {},
   "outputs": [],
   "source": [
    "import pandas as pd\n",
    "\n",
    "string_start = '2023-10-07 06:30'\n",
    "string_end = '2023-10-07 13:30'\n",
    "import_posts = '../datasets/ishw-case/scored/israel-scored.csv'\n",
    "resample_period = '10min'\n",
    "\n",
    "df_posts = pd.read_csv(import_posts)\n",
    "df_posts['date'] = pd.to_datetime(df_posts['date'])"
   ]
  },
  {
   "attachments": {},
   "cell_type": "markdown",
   "metadata": {},
   "source": [
    "Defining the performance metric and objective function used in the optimization."
   ]
  },
  {
   "cell_type": "code",
   "execution_count": null,
   "metadata": {},
   "outputs": [],
   "source": [
    "import numpy as np\n",
    "from scripts.sentiment_agent_model import sentiment_agent_model\n",
    "from functools import reduce\n",
    "import operator\n",
    "\n",
    "# Defining the performance metric function.\n",
    "def performance_metric(df_posts, df_modeled_posts, string_start, string_end, resample_period):\n",
    "    df_posts_date = df_posts.set_index('date').sort_index().loc[string_start:string_end]\n",
    "    df_modeled_posts_date = df_modeled_posts.set_index('date').sort_index().loc[string_start:string_end]\n",
    "\n",
    "    posts_resampled = {'s': [], 'v': [], 'a': [], 'd': []}\n",
    "    posts_model_resampled = {'s': [], 'v': [], 'a': [], 'd': []}\n",
    "    \n",
    "    punishment = 100\n",
    "\n",
    "    for i in ['s', 'v', 'a', 'd']:\n",
    "        posts_resampled[i] = df_posts_date[i].resample(resample_period).mean().dropna()\n",
    "        posts_model_resampled[i] = df_modeled_posts_date[i].resample(resample_period).mean().fillna(punishment)\n",
    "\n",
    "    difference = reduce(operator.add, [abs(posts_resampled[i] - posts_model_resampled[i]) for i in ['s', 'v', 'a', 'd']]).fillna(punishment)\n",
    "\n",
    "    return sum(difference)\n",
    "\n",
    "# Defining the objective function.\n",
    "def objective_function(params, string_start, string_end, import_posts):\n",
    "    model = {}\n",
    "\n",
    "    # Updating the model parameters with the optimized values.\n",
    "    model['sp'] = {'age': params[0], \n",
    "               's': [[params[1], params[2], params[3]], [params[4], params[5], params[6]]],\n",
    "               'v': [[params[7], params[8], params[9]], [params[10], params[11], params[12]]],\n",
    "               'a': [[params[13], params[14], params[15]]],\n",
    "               'd': [[params[16], params[17], params[18]]]}\n",
    "    model['cif'] = [[params[19], params[20], params[21]]]\n",
    "    model['pp'] = {'s': [[params[22], params[23], params[24]], [params[25], params[26], params[27]]],\n",
    "               'v': [[params[28], params[29], params[30]], [params[31], params[32], params[33]]],\n",
    "               'a': [[params[34], params[35], params[36]]],\n",
    "               'd': [[params[37], params[38], params[39]], [params[40], params[41], params[42]]]}\n",
    "\n",
    "    cardinality_S = int(params[43])\n",
    "    post_period = int(params[44])\n",
    "\n",
    "    # Running the sentiment agent model and returning the performance metric.\n",
    "    df_modeled_posts = sentiment_agent_model(import_posts, cardinality_S, string_start, string_end, post_period, model)\n",
    "    metric_to_optimize = performance_metric(df_posts, df_modeled_posts, string_start, string_end, resample_period)\n",
    "    print(metric_to_optimize)\n",
    "\n",
    "    return metric_to_optimize"
   ]
  },
  {
   "attachments": {},
   "cell_type": "markdown",
   "metadata": {},
   "source": [
    "Defining the optimization method and its necessary conditions and bounds."
   ]
  },
  {
   "cell_type": "code",
   "execution_count": null,
   "metadata": {},
   "outputs": [],
   "source": [
    "from scipy.optimize import differential_evolution, Bounds\n",
    "\n",
    "# Defining the bounds for each parameter.\n",
    "lower_bounds = [-20] * 45\n",
    "upper_bounds = [20] * 45\n",
    "\n",
    "lower_bounds[0] = 0\n",
    "upper_bounds[0] = 1\n",
    "lower_bounds[43] = 10\n",
    "upper_bounds[43] = 40\n",
    "lower_bounds[44] = 10\n",
    "upper_bounds[44] = 1000\n",
    "\n",
    "bounds = Bounds(lower_bounds, upper_bounds)\n",
    "\n",
    "# Defining the initial guess for each parameter.\n",
    "initial_guess = [0.1, \n",
    "                0.4, 1.5, 1,\n",
    "                0.6, -1.5, -1,\n",
    "                0.4, 1.5, 1,\n",
    "                0.6, -1.5, -1,\n",
    "                1, 2, 0,\n",
    "                1, 0.5, 0,\n",
    "                1, -1.5, 3,\n",
    "                0.8, 7, 0.05, \n",
    "                0.8, -7, -0.05, \n",
    "                0.8, 7, 0.05, \n",
    "                0.8, -7, -0.05,\n",
    "                1, 2, -1,\n",
    "                0.8, 7, 0.05, \n",
    "                0.8, -7, -0.05,\n",
    "                30, 60]\n",
    "\n",
    "# Running the optimization.\n",
    "result = differential_evolution(objective_function, bounds, args=(string_start, string_end, import_posts), strategy='best1bin', maxiter=100)\n",
    "\n",
    "# Obtaining the optimized parameters.\n",
    "optimized_params = result.x\n",
    "print(\"Optimized parameters:\", optimized_params)"
   ]
  }
 ],
 "metadata": {
  "kernelspec": {
   "display_name": "base",
   "language": "python",
   "name": "python3"
  },
  "language_info": {
   "codemirror_mode": {
    "name": "ipython",
    "version": 3
   },
   "file_extension": ".py",
   "mimetype": "text/x-python",
   "name": "python",
   "nbconvert_exporter": "python",
   "pygments_lexer": "ipython3",
   "version": "3.9.13"
  },
  "orig_nbformat": 4,
  "vscode": {
   "interpreter": {
    "hash": "8c75c0fdd1a718867cdcb84b32adcfdbeaad00b3a4e00a59385211aeed084d4c"
   }
  }
 },
 "nbformat": 4,
 "nbformat_minor": 2
}
