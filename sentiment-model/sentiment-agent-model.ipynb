{
 "cells": [
  {
   "attachments": {},
   "cell_type": "markdown",
   "metadata": {},
   "source": [
    "# Sentiment agent model\n",
    "\n",
    "Creating a sentiment agent model that may predict the mean sentiment of microblogging environment by predicting the influence of existing posts on a posting agent. \n",
    "\n",
    "Written by Luc Bijl."
   ]
  },
  {
   "attachments": {},
   "cell_type": "markdown",
   "metadata": {},
   "source": [
    "## The subset $S$ of the set of all posts $P$"
   ]
  },
  {
   "attachments": {},
   "cell_type": "markdown",
   "metadata": {},
   "source": [
    "Importing the test posts set."
   ]
  },
  {
   "cell_type": "code",
   "execution_count": 1,
   "metadata": {},
   "outputs": [
    {
     "data": {
      "text/html": [
       "<div>\n",
       "<style scoped>\n",
       "    .dataframe tbody tr th:only-of-type {\n",
       "        vertical-align: middle;\n",
       "    }\n",
       "\n",
       "    .dataframe tbody tr th {\n",
       "        vertical-align: top;\n",
       "    }\n",
       "\n",
       "    .dataframe thead th {\n",
       "        text-align: right;\n",
       "    }\n",
       "</style>\n",
       "<table border=\"1\" class=\"dataframe\">\n",
       "  <thead>\n",
       "    <tr style=\"text-align: right;\">\n",
       "      <th></th>\n",
       "      <th>Date</th>\n",
       "      <th>Text</th>\n",
       "      <th>S</th>\n",
       "      <th>V</th>\n",
       "      <th>A</th>\n",
       "      <th>D</th>\n",
       "    </tr>\n",
       "  </thead>\n",
       "  <tbody>\n",
       "    <tr>\n",
       "      <th>0</th>\n",
       "      <td>2024-01-02 14:40:00</td>\n",
       "      <td>I hate my fucking life.</td>\n",
       "      <td>-0.482720</td>\n",
       "      <td>-0.430294</td>\n",
       "      <td>0.612063</td>\n",
       "      <td>0.354783</td>\n",
       "    </tr>\n",
       "    <tr>\n",
       "      <th>1</th>\n",
       "      <td>2024-01-01 12:12:31</td>\n",
       "      <td>Greetings fellow humanoid, how are you doing?</td>\n",
       "      <td>0.246881</td>\n",
       "      <td>0.450770</td>\n",
       "      <td>0.407472</td>\n",
       "      <td>0.218679</td>\n",
       "    </tr>\n",
       "    <tr>\n",
       "      <th>2</th>\n",
       "      <td>2023-12-31 19:39:00</td>\n",
       "      <td>This microblogging platform is dismal in every...</td>\n",
       "      <td>-0.447901</td>\n",
       "      <td>-0.445385</td>\n",
       "      <td>0.118963</td>\n",
       "      <td>0.152460</td>\n",
       "    </tr>\n",
       "    <tr>\n",
       "      <th>3</th>\n",
       "      <td>2023-12-28 06:12:00</td>\n",
       "      <td>Politics is a joke.</td>\n",
       "      <td>-0.411837</td>\n",
       "      <td>0.663786</td>\n",
       "      <td>0.738927</td>\n",
       "      <td>0.440982</td>\n",
       "    </tr>\n",
       "    <tr>\n",
       "      <th>4</th>\n",
       "      <td>2023-12-26 13:25:00</td>\n",
       "      <td>I am sorry for my bad behaviour. Can I make it...</td>\n",
       "      <td>0.118153</td>\n",
       "      <td>-0.096516</td>\n",
       "      <td>0.142977</td>\n",
       "      <td>-0.136444</td>\n",
       "    </tr>\n",
       "    <tr>\n",
       "      <th>5</th>\n",
       "      <td>2023-12-12 16:16:16</td>\n",
       "      <td>The universe is irrational and meaningless, I ...</td>\n",
       "      <td>-0.465270</td>\n",
       "      <td>-0.028720</td>\n",
       "      <td>0.032311</td>\n",
       "      <td>0.033977</td>\n",
       "    </tr>\n",
       "  </tbody>\n",
       "</table>\n",
       "</div>"
      ],
      "text/plain": [
       "                  Date                                               Text  \\\n",
       "0  2024-01-02 14:40:00                            I hate my fucking life.   \n",
       "1  2024-01-01 12:12:31      Greetings fellow humanoid, how are you doing?   \n",
       "2  2023-12-31 19:39:00  This microblogging platform is dismal in every...   \n",
       "3  2023-12-28 06:12:00                                Politics is a joke.   \n",
       "4  2023-12-26 13:25:00  I am sorry for my bad behaviour. Can I make it...   \n",
       "5  2023-12-12 16:16:16  The universe is irrational and meaningless, I ...   \n",
       "\n",
       "          S         V         A         D  \n",
       "0 -0.482720 -0.430294  0.612063  0.354783  \n",
       "1  0.246881  0.450770  0.407472  0.218679  \n",
       "2 -0.447901 -0.445385  0.118963  0.152460  \n",
       "3 -0.411837  0.663786  0.738927  0.440982  \n",
       "4  0.118153 -0.096516  0.142977 -0.136444  \n",
       "5 -0.465270 -0.028720  0.032311  0.033977  "
      ]
     },
     "execution_count": 1,
     "metadata": {},
     "output_type": "execute_result"
    }
   ],
   "source": [
    "import pandas as pd\n",
    "\n",
    "# Importing the csv dataset\n",
    "import_posts = '../datasets/test-posts/test-posts-scored.csv'\n",
    "df_posts = pd.read_csv(import_posts)\n",
    "\n",
    "df_posts.head(6)"
   ]
  },
  {
   "attachments": {},
   "cell_type": "markdown",
   "metadata": {},
   "source": [
    "Creating the set $P$ of all posts, by taking a time point $t_0$ for which the model should start."
   ]
  },
  {
   "cell_type": "code",
   "execution_count": 2,
   "metadata": {},
   "outputs": [
    {
     "data": {
      "text/html": [
       "<div>\n",
       "<style scoped>\n",
       "    .dataframe tbody tr th:only-of-type {\n",
       "        vertical-align: middle;\n",
       "    }\n",
       "\n",
       "    .dataframe tbody tr th {\n",
       "        vertical-align: top;\n",
       "    }\n",
       "\n",
       "    .dataframe thead th {\n",
       "        text-align: right;\n",
       "    }\n",
       "</style>\n",
       "<table border=\"1\" class=\"dataframe\">\n",
       "  <thead>\n",
       "    <tr style=\"text-align: right;\">\n",
       "      <th></th>\n",
       "      <th>age</th>\n",
       "      <th>s</th>\n",
       "      <th>v</th>\n",
       "      <th>a</th>\n",
       "      <th>d</th>\n",
       "    </tr>\n",
       "  </thead>\n",
       "  <tbody>\n",
       "    <tr>\n",
       "      <th>0</th>\n",
       "      <td>0 days 09:20:00</td>\n",
       "      <td>-0.482720</td>\n",
       "      <td>-0.430294</td>\n",
       "      <td>0.612063</td>\n",
       "      <td>0.354783</td>\n",
       "    </tr>\n",
       "    <tr>\n",
       "      <th>1</th>\n",
       "      <td>1 days 11:47:29</td>\n",
       "      <td>0.246881</td>\n",
       "      <td>0.450770</td>\n",
       "      <td>0.407472</td>\n",
       "      <td>0.218679</td>\n",
       "    </tr>\n",
       "    <tr>\n",
       "      <th>2</th>\n",
       "      <td>2 days 04:21:00</td>\n",
       "      <td>-0.447901</td>\n",
       "      <td>-0.445385</td>\n",
       "      <td>0.118963</td>\n",
       "      <td>0.152460</td>\n",
       "    </tr>\n",
       "    <tr>\n",
       "      <th>3</th>\n",
       "      <td>5 days 17:48:00</td>\n",
       "      <td>-0.411837</td>\n",
       "      <td>0.663786</td>\n",
       "      <td>0.738927</td>\n",
       "      <td>0.440982</td>\n",
       "    </tr>\n",
       "    <tr>\n",
       "      <th>4</th>\n",
       "      <td>7 days 10:35:00</td>\n",
       "      <td>0.118153</td>\n",
       "      <td>-0.096516</td>\n",
       "      <td>0.142977</td>\n",
       "      <td>-0.136444</td>\n",
       "    </tr>\n",
       "    <tr>\n",
       "      <th>5</th>\n",
       "      <td>21 days 07:43:44</td>\n",
       "      <td>-0.465270</td>\n",
       "      <td>-0.028720</td>\n",
       "      <td>0.032311</td>\n",
       "      <td>0.033977</td>\n",
       "    </tr>\n",
       "  </tbody>\n",
       "</table>\n",
       "</div>"
      ],
      "text/plain": [
       "               age         s         v         a         d\n",
       "0  0 days 09:20:00 -0.482720 -0.430294  0.612063  0.354783\n",
       "1  1 days 11:47:29  0.246881  0.450770  0.407472  0.218679\n",
       "2  2 days 04:21:00 -0.447901 -0.445385  0.118963  0.152460\n",
       "3  5 days 17:48:00 -0.411837  0.663786  0.738927  0.440982\n",
       "4  7 days 10:35:00  0.118153 -0.096516  0.142977 -0.136444\n",
       "5 21 days 07:43:44 -0.465270 -0.028720  0.032311  0.033977"
      ]
     },
     "execution_count": 2,
     "metadata": {},
     "output_type": "execute_result"
    }
   ],
   "source": [
    "# Stating the time point\n",
    "time_start = pd.to_datetime('2024-01-03 00:00:00')\n",
    "\n",
    "# Defining the set P of all posts\n",
    "P = []\n",
    "\n",
    "# Determining the posts from before the time point and appending the necessary information to P\n",
    "for index, row in df_posts.iterrows():\n",
    "    t_row = pd.to_datetime(row['Date'])\n",
    "    if t_row < time_start:\n",
    "        P.append([time_start - t_row] + list(row[['S', 'V', 'A', 'D']]))\n",
    "\n",
    "df_P = pd.DataFrame(P, columns=['age', 's', 'v', 'a', 'd'])\n",
    "\n",
    "df_P.head(6)"
   ]
  },
  {
   "attachments": {},
   "cell_type": "markdown",
   "metadata": {},
   "source": [
    "Determining the probability to be included in the subset $S$."
   ]
  },
  {
   "cell_type": "code",
   "execution_count": 3,
   "metadata": {},
   "outputs": [
    {
     "data": {
      "text/html": [
       "<div>\n",
       "<style scoped>\n",
       "    .dataframe tbody tr th:only-of-type {\n",
       "        vertical-align: middle;\n",
       "    }\n",
       "\n",
       "    .dataframe tbody tr th {\n",
       "        vertical-align: top;\n",
       "    }\n",
       "\n",
       "    .dataframe thead th {\n",
       "        text-align: right;\n",
       "    }\n",
       "</style>\n",
       "<table border=\"1\" class=\"dataframe\">\n",
       "  <thead>\n",
       "    <tr style=\"text-align: right;\">\n",
       "      <th></th>\n",
       "      <th>age</th>\n",
       "      <th>s</th>\n",
       "      <th>v</th>\n",
       "      <th>a</th>\n",
       "      <th>d</th>\n",
       "      <th>rho</th>\n",
       "    </tr>\n",
       "  </thead>\n",
       "  <tbody>\n",
       "    <tr>\n",
       "      <th>0</th>\n",
       "      <td>0 days 09:20:00</td>\n",
       "      <td>-0.482720</td>\n",
       "      <td>-0.430294</td>\n",
       "      <td>0.612063</td>\n",
       "      <td>0.354783</td>\n",
       "      <td>0.344908</td>\n",
       "    </tr>\n",
       "    <tr>\n",
       "      <th>1</th>\n",
       "      <td>1 days 11:47:29</td>\n",
       "      <td>0.246881</td>\n",
       "      <td>0.450770</td>\n",
       "      <td>0.407472</td>\n",
       "      <td>0.218679</td>\n",
       "      <td>0.175134</td>\n",
       "    </tr>\n",
       "    <tr>\n",
       "      <th>2</th>\n",
       "      <td>2 days 04:21:00</td>\n",
       "      <td>-0.447901</td>\n",
       "      <td>-0.445385</td>\n",
       "      <td>0.118963</td>\n",
       "      <td>0.152460</td>\n",
       "      <td>0.192508</td>\n",
       "    </tr>\n",
       "    <tr>\n",
       "      <th>3</th>\n",
       "      <td>5 days 17:48:00</td>\n",
       "      <td>-0.411837</td>\n",
       "      <td>0.663786</td>\n",
       "      <td>0.738927</td>\n",
       "      <td>0.440982</td>\n",
       "      <td>0.191255</td>\n",
       "    </tr>\n",
       "    <tr>\n",
       "      <th>4</th>\n",
       "      <td>7 days 10:35:00</td>\n",
       "      <td>0.118153</td>\n",
       "      <td>-0.096516</td>\n",
       "      <td>0.142977</td>\n",
       "      <td>-0.136444</td>\n",
       "      <td>0.074689</td>\n",
       "    </tr>\n",
       "    <tr>\n",
       "      <th>5</th>\n",
       "      <td>21 days 07:43:44</td>\n",
       "      <td>-0.465270</td>\n",
       "      <td>-0.028720</td>\n",
       "      <td>0.032311</td>\n",
       "      <td>0.033977</td>\n",
       "      <td>0.021506</td>\n",
       "    </tr>\n",
       "  </tbody>\n",
       "</table>\n",
       "</div>"
      ],
      "text/plain": [
       "               age         s         v         a         d       rho\n",
       "0  0 days 09:20:00 -0.482720 -0.430294  0.612063  0.354783  0.344908\n",
       "1  1 days 11:47:29  0.246881  0.450770  0.407472  0.218679  0.175134\n",
       "2  2 days 04:21:00 -0.447901 -0.445385  0.118963  0.152460  0.192508\n",
       "3  5 days 17:48:00 -0.411837  0.663786  0.738927  0.440982  0.191255\n",
       "4  7 days 10:35:00  0.118153 -0.096516  0.142977 -0.136444  0.074689\n",
       "5 21 days 07:43:44 -0.465270 -0.028720  0.032311  0.033977  0.021506"
      ]
     },
     "execution_count": 3,
     "metadata": {},
     "output_type": "execute_result"
    }
   ],
   "source": [
    "import numpy as np\n",
    "from functools import reduce\n",
    "import operator\n",
    "\n",
    "# Defining the parameters for the subset probability.\n",
    "params = {}\n",
    "\n",
    "params['sp'] = {'age': 0.1, \n",
    "                's': [[0.4, 1.5, 1], [0.6, -1.5, -1]],\n",
    "                'v': [[0.4, 1.5, 1], [0.6, -1.5, -1]],\n",
    "                'a': [[1, 2, 0]],\n",
    "                'd': [[1, 0.5, 0]]}\n",
    "\n",
    "# Defining the age function.\n",
    "def age_function(var, params):\n",
    "    return np.exp(-(params * var.days))\n",
    "\n",
    "# Defining the sum of sigmoid functions.\n",
    "def sigmoid_sum(var, params):\n",
    "    output = 0\n",
    "    for a, b, c in params:\n",
    "        output += a / (1 + np.exp(-b * (var - c)))\n",
    "    return np.clip(output, 0, 1)\n",
    "\n",
    "# Defining the main probability function.\n",
    "def g(p, params):\n",
    "    return age_function(p['age'], params['age']) * reduce(operator.mul, [sigmoid_sum(p[i], params[i]) for i in ['s', 'v', 'a', 'd']])\n",
    "\n",
    "# Determining the normalization sum of g for P.\n",
    "normal_sum = sum(g(row.to_dict(), params['sp']) for _, row in df_P[['age', 's', 'v', 'a', 'd']].iterrows())\n",
    "\n",
    "# Determining the probability for each entry in P.\n",
    "if normal_sum > 0:\n",
    "        rho = [g(row.to_dict(), params['sp']) for _, row in df_P[['age', 's', 'v', 'a', 'd']].iterrows()] / normal_sum\n",
    "else: rho = None\n",
    "\n",
    "df_P['rho'] = rho\n",
    "\n",
    "df_P.head(6)"
   ]
  },
  {
   "attachments": {},
   "cell_type": "markdown",
   "metadata": {},
   "source": [
    "Creating the subset $S$."
   ]
  },
  {
   "cell_type": "code",
   "execution_count": 4,
   "metadata": {},
   "outputs": [
    {
     "data": {
      "text/html": [
       "<div>\n",
       "<style scoped>\n",
       "    .dataframe tbody tr th:only-of-type {\n",
       "        vertical-align: middle;\n",
       "    }\n",
       "\n",
       "    .dataframe tbody tr th {\n",
       "        vertical-align: top;\n",
       "    }\n",
       "\n",
       "    .dataframe thead th {\n",
       "        text-align: right;\n",
       "    }\n",
       "</style>\n",
       "<table border=\"1\" class=\"dataframe\">\n",
       "  <thead>\n",
       "    <tr style=\"text-align: right;\">\n",
       "      <th></th>\n",
       "      <th>age</th>\n",
       "      <th>s</th>\n",
       "      <th>v</th>\n",
       "      <th>a</th>\n",
       "      <th>d</th>\n",
       "      <th>rho</th>\n",
       "    </tr>\n",
       "  </thead>\n",
       "  <tbody>\n",
       "    <tr>\n",
       "      <th>0</th>\n",
       "      <td>0 days 09:20:00</td>\n",
       "      <td>-0.482720</td>\n",
       "      <td>-0.430294</td>\n",
       "      <td>0.612063</td>\n",
       "      <td>0.354783</td>\n",
       "      <td>0.344908</td>\n",
       "    </tr>\n",
       "    <tr>\n",
       "      <th>1</th>\n",
       "      <td>1 days 11:47:29</td>\n",
       "      <td>0.246881</td>\n",
       "      <td>0.450770</td>\n",
       "      <td>0.407472</td>\n",
       "      <td>0.218679</td>\n",
       "      <td>0.175134</td>\n",
       "    </tr>\n",
       "    <tr>\n",
       "      <th>2</th>\n",
       "      <td>2 days 04:21:00</td>\n",
       "      <td>-0.447901</td>\n",
       "      <td>-0.445385</td>\n",
       "      <td>0.118963</td>\n",
       "      <td>0.152460</td>\n",
       "      <td>0.192508</td>\n",
       "    </tr>\n",
       "  </tbody>\n",
       "</table>\n",
       "</div>"
      ],
      "text/plain": [
       "              age         s         v         a         d       rho\n",
       "0 0 days 09:20:00 -0.482720 -0.430294  0.612063  0.354783  0.344908\n",
       "1 1 days 11:47:29  0.246881  0.450770  0.407472  0.218679  0.175134\n",
       "2 2 days 04:21:00 -0.447901 -0.445385  0.118963  0.152460  0.192508"
      ]
     },
     "execution_count": 4,
     "metadata": {},
     "output_type": "execute_result"
    }
   ],
   "source": [
    "# Defining the cardinality m of the subset S.\n",
    "m = 3\n",
    "\n",
    "# Creating the subset.\n",
    "df_S = df_P.loc[np.random.choice(df_P.index, size=m, replace=False, p=df_P['rho'])]\n",
    "\n",
    "df_S.head()"
   ]
  },
  {
   "attachments": {},
   "cell_type": "markdown",
   "metadata": {},
   "source": [
    "## The initial state of the agent"
   ]
  },
  {
   "attachments": {},
   "cell_type": "markdown",
   "metadata": {},
   "source": [
    "Creating the probability distribution function of the set $P$ and the initial state function."
   ]
  },
  {
   "cell_type": "code",
   "execution_count": 5,
   "metadata": {},
   "outputs": [
    {
     "name": "stdout",
     "output_type": "stream",
     "text": [
      "{'s': 0.09274059783581809, 'v': 0.3584908513011889, 'a': 0.19062419146359458, 'd': 0.19121670647639227}\n"
     ]
    }
   ],
   "source": [
    "from sklearn.neighbors import KernelDensity\n",
    "\n",
    "# Defining the bandwidth of the kernel density function.\n",
    "kernel_bandwidth = 0.1\n",
    "\n",
    "# Defining the initial state function.\n",
    "def create_initial_state(df_P, bandwidth):\n",
    "    kde_models = {}\n",
    "\n",
    "    # Fitting a kde for each column.\n",
    "    for i in ['s', 'v', 'a', 'd']:\n",
    "        kde = KernelDensity(bandwidth=bandwidth, kernel='gaussian')\n",
    "        kde.fit(df_P[i].values.reshape(-1,1))\n",
    "        kde_models[i] = kde\n",
    "\n",
    "    # Generating a new random entry for each column.\n",
    "    new_entries = {}\n",
    "    for i, kde_model in kde_models.items():\n",
    "        new_entry = np.clip(kde_model.sample(), -1, 1)\n",
    "        new_entries[i] = new_entry.item()\n",
    "    \n",
    "    return new_entries\n",
    "\n",
    "# Creating an initial state with the defined function.\n",
    "u = create_initial_state(df_P, kernel_bandwidth)\n",
    "\n",
    "print(u)"
   ]
  },
  {
   "attachments": {},
   "cell_type": "markdown",
   "metadata": {},
   "source": [
    "Creating a plot of the probability distributions of the set $P$. "
   ]
  },
  {
   "cell_type": "code",
   "execution_count": 12,
   "metadata": {},
   "outputs": [
    {
     "data": {
      "image/png": "[encoded data removed]",
      "text/plain": [
       "<Figure size 1000x800 with 4 Axes>"
      ]
     },
     "metadata": {},
     "output_type": "display_data"
    }
   ],
   "source": [
    "import matplotlib.pyplot as plt\n",
    "\n",
    "# Choose the columns for KDE\n",
    "columns_to_kde = ['s', 'v', 'a', 'd']\n",
    "\n",
    "# Set up subplots for each column\n",
    "fig, axes = plt.subplots(nrows=len(columns_to_kde), figsize=(10, 2 * len(columns_to_kde)), sharex=True)\n",
    "\n",
    "# Fit a separate KDE for each column and plot the distribution\n",
    "for i, col, n in zip([0,1,2,3],columns_to_kde, ['Sentiment', 'Valence', 'Arousal', 'Dominance']):\n",
    "    col_data = df_P[col].values.reshape(-1, 1)\n",
    "    \n",
    "    # Fit KDE\n",
    "    kde = KernelDensity(bandwidth=kernel_bandwidth, kernel='gaussian')\n",
    "    kde.fit(col_data)\n",
    "    \n",
    "    # Generate x values for the plot\n",
    "    x_values = np.linspace(-1, 1, 1000).reshape(-1, 1)\n",
    "    \n",
    "    # Evaluate the KDE at the x values\n",
    "    log_dens = kde.score_samples(x_values)\n",
    "    density = np.exp(log_dens)\n",
    "    \n",
    "    # Plot the distribution\n",
    "    axes[i].plot(x_values, density, label=f'{col} Distribution')\n",
    "    axes[i].set_title(f'{n} distribution')\n",
    "    axes[i].set_xlim(-1, 1)\n",
    "    axes[i].set_ylim(0,3)\n",
    "    axes[i].grid(True)\n",
    "    axes[i].tick_params(axis='both', direction='in',top=True, right=True)\n",
    "    axes[i].set_xticks(np.linspace(-1, 1, 7))\n",
    "    axes[i].set_xlabel(r'$u_i$')\n",
    "\n",
    "# Adjust layout and show the plot\n",
    "plt.tight_layout()\n",
    "plt.show()"
   ]
  },
  {
   "attachments": {},
   "cell_type": "markdown",
   "metadata": {},
   "source": [
    "## The influence function"
   ]
  },
  {
   "attachments": {},
   "cell_type": "markdown",
   "metadata": {},
   "source": [
    "Creating the probability influence function. "
   ]
  },
  {
   "cell_type": "code",
   "execution_count": 11,
   "metadata": {},
   "outputs": [
    {
     "name": "stdout",
     "output_type": "stream",
     "text": [
      "[ 0.215285   -0.01144596 -0.41907984 -0.21291987]\n"
     ]
    }
   ],
   "source": [
    "# Defining the parameters for the contagion influence function.\n",
    "params['cif'] = [[1, -1.5, 3]]\n",
    "\n",
    "# Defining the contagion influence function.\n",
    "def contagion_influence_function(u, p, params_cif):\n",
    "    # Determining the influence/contagion factor.\n",
    "    epsilon = sigmoid_sum(reduce(operator.add, [abs(u[i] - p[i]) for i in ['v', 'a', 'd']]), params_cif)\n",
    "    \n",
    "    # Returning the influenced state.\n",
    "    return epsilon * np.array(list(u.values())) + (epsilon - 1) * np.array(list(p.values()))\n",
    "\n",
    "v = (1/m) * sum(contagion_influence_function(u, row.to_dict(), params['cif']) for _, row in df_S[['s', 'v', 'a', 'd']].iterrows())\n",
    "\n",
    "print(v)"
   ]
  },
  {
   "attachments": {},
   "cell_type": "markdown",
   "metadata": {},
   "source": [
    "## The post probability"
   ]
  },
  {
   "attachments": {},
   "cell_type": "markdown",
   "metadata": {},
   "source": [
    "Defining the post probability function."
   ]
  },
  {
   "cell_type": "code",
   "execution_count": 76,
   "metadata": {},
   "outputs": [],
   "source": [
    "# Defining the parameters for the post probability.\n",
    "params['pp'] = {'s': [[0.8, 7, 0.05], [0.8, -7, -0.05]],\n",
    "                'v': [[0.8, 7, 0.05], [0.8, -7, -0.05]],\n",
    "                'a': [[1, 2, -1]],\n",
    "                'd': [[0.8, 7, 0.05], [0.8, -7, -0.05]]}\n",
    "\n",
    "# Defining the post probability function.\n",
    "def h(v, params):\n",
    "    return reduce(operator.mul, [sigmoid_sum(v[i], params[i]) for i in ['s', 'v', 'a', 'd']])"
   ]
  },
  {
   "attachments": {},
   "cell_type": "markdown",
   "metadata": {},
   "source": [
    "Defining the post boolean return function based on h."
   ]
  },
  {
   "cell_type": "code",
   "execution_count": 85,
   "metadata": {},
   "outputs": [
    {
     "data": {
      "text/plain": [
       "False"
      ]
     },
     "execution_count": 85,
     "metadata": {},
     "output_type": "execute_result"
    }
   ],
   "source": [
    "# Restating the influenced state v.\n",
    "v = {'s': 0.4, 'v': 0.6, 'a': -0.8, 'd': 0.1}\n",
    "\n",
    "# Defining the post boolean return function based on h.\n",
    "def post_boolean(v, params):\n",
    "    probability = h(v, params['pp'])\n",
    "    return np.random.choice([True, False], p=[probability, 1 - probability])\n",
    "\n",
    "post_boolean(v, params['pp'])"
   ]
  }
 ],
 "metadata": {
  "kernelspec": {
   "display_name": "base",
   "language": "python",
   "name": "python3"
  },
  "language_info": {
   "codemirror_mode": {
    "name": "ipython",
    "version": 3
   },
   "file_extension": ".py",
   "mimetype": "text/x-python",
   "name": "python",
   "nbconvert_exporter": "python",
   "pygments_lexer": "ipython3",
   "version": "3.9.13"
  },
  "orig_nbformat": 4,
  "vscode": {
   "interpreter": {
    "hash": "8c75c0fdd1a718867cdcb84b32adcfdbeaad00b3a4e00a59385211aeed084d4c"
   }
  }
 },
 "nbformat": 4,
 "nbformat_minor": 2
}
