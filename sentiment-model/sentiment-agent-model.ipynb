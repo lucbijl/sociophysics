{
 "cells": [
  {
   "attachments": {},
   "cell_type": "markdown",
   "metadata": {},
   "source": [
    "# Sentiment agent model\n",
    "\n",
    "Creating a sentiment agent model that may predict the mean sentiment of microblogging environment by predicting the influence of existing posts on a posting agent. \n",
    "\n",
    "Written by Luc Bijl."
   ]
  },
  {
   "attachments": {},
   "cell_type": "markdown",
   "metadata": {},
   "source": [
    "## The subset $S$ of the set of all posts $P$"
   ]
  },
  {
   "attachments": {},
   "cell_type": "markdown",
   "metadata": {},
   "source": [
    "Importing the test posts set."
   ]
  },
  {
   "cell_type": "code",
   "execution_count": 1,
   "metadata": {},
   "outputs": [
    {
     "data": {
      "text/html": [
       "<div>\n",
       "<style scoped>\n",
       "    .dataframe tbody tr th:only-of-type {\n",
       "        vertical-align: middle;\n",
       "    }\n",
       "\n",
       "    .dataframe tbody tr th {\n",
       "        vertical-align: top;\n",
       "    }\n",
       "\n",
       "    .dataframe thead th {\n",
       "        text-align: right;\n",
       "    }\n",
       "</style>\n",
       "<table border=\"1\" class=\"dataframe\">\n",
       "  <thead>\n",
       "    <tr style=\"text-align: right;\">\n",
       "      <th></th>\n",
       "      <th>Date</th>\n",
       "      <th>Text</th>\n",
       "      <th>S</th>\n",
       "      <th>V</th>\n",
       "      <th>A</th>\n",
       "      <th>D</th>\n",
       "    </tr>\n",
       "  </thead>\n",
       "  <tbody>\n",
       "    <tr>\n",
       "      <th>0</th>\n",
       "      <td>2024-01-02 14:40:00</td>\n",
       "      <td>I hate my fucking life.</td>\n",
       "      <td>-0.482720</td>\n",
       "      <td>-0.430294</td>\n",
       "      <td>0.612063</td>\n",
       "      <td>0.354783</td>\n",
       "    </tr>\n",
       "    <tr>\n",
       "      <th>1</th>\n",
       "      <td>2024-01-01 12:12:31</td>\n",
       "      <td>Greetings fellow humanoid, how are you doing?</td>\n",
       "      <td>0.246881</td>\n",
       "      <td>0.450770</td>\n",
       "      <td>0.407472</td>\n",
       "      <td>0.218679</td>\n",
       "    </tr>\n",
       "    <tr>\n",
       "      <th>2</th>\n",
       "      <td>2023-12-31 19:39:00</td>\n",
       "      <td>This microblogging platform is dismal in every...</td>\n",
       "      <td>-0.447901</td>\n",
       "      <td>-0.445385</td>\n",
       "      <td>0.118963</td>\n",
       "      <td>0.152460</td>\n",
       "    </tr>\n",
       "    <tr>\n",
       "      <th>3</th>\n",
       "      <td>2023-12-28 06:12:00</td>\n",
       "      <td>Politics is a joke.</td>\n",
       "      <td>-0.411837</td>\n",
       "      <td>0.663786</td>\n",
       "      <td>0.738927</td>\n",
       "      <td>0.440982</td>\n",
       "    </tr>\n",
       "    <tr>\n",
       "      <th>4</th>\n",
       "      <td>2023-12-26 13:25:00</td>\n",
       "      <td>I am sorry for my bad behaviour. Can I make it...</td>\n",
       "      <td>0.118153</td>\n",
       "      <td>-0.096516</td>\n",
       "      <td>0.142977</td>\n",
       "      <td>-0.136444</td>\n",
       "    </tr>\n",
       "    <tr>\n",
       "      <th>5</th>\n",
       "      <td>2023-12-12 16:16:16</td>\n",
       "      <td>The universe is irrational and meaningless, I ...</td>\n",
       "      <td>-0.465270</td>\n",
       "      <td>-0.028720</td>\n",
       "      <td>0.032311</td>\n",
       "      <td>0.033977</td>\n",
       "    </tr>\n",
       "  </tbody>\n",
       "</table>\n",
       "</div>"
      ],
      "text/plain": [
       "                  Date                                               Text  \\\n",
       "0  2024-01-02 14:40:00                            I hate my fucking life.   \n",
       "1  2024-01-01 12:12:31      Greetings fellow humanoid, how are you doing?   \n",
       "2  2023-12-31 19:39:00  This microblogging platform is dismal in every...   \n",
       "3  2023-12-28 06:12:00                                Politics is a joke.   \n",
       "4  2023-12-26 13:25:00  I am sorry for my bad behaviour. Can I make it...   \n",
       "5  2023-12-12 16:16:16  The universe is irrational and meaningless, I ...   \n",
       "\n",
       "          S         V         A         D  \n",
       "0 -0.482720 -0.430294  0.612063  0.354783  \n",
       "1  0.246881  0.450770  0.407472  0.218679  \n",
       "2 -0.447901 -0.445385  0.118963  0.152460  \n",
       "3 -0.411837  0.663786  0.738927  0.440982  \n",
       "4  0.118153 -0.096516  0.142977 -0.136444  \n",
       "5 -0.465270 -0.028720  0.032311  0.033977  "
      ]
     },
     "execution_count": 1,
     "metadata": {},
     "output_type": "execute_result"
    }
   ],
   "source": [
    "import pandas as pd\n",
    "\n",
    "# Importing the csv dataset\n",
    "import_posts = 'test-posts-scores.csv'\n",
    "df_posts = pd.read_csv(import_posts)\n",
    "\n",
    "df_posts.head(6)"
   ]
  },
  {
   "attachments": {},
   "cell_type": "markdown",
   "metadata": {},
   "source": [
    "Creating the set $P$ of all posts, by taking a time point $t_0$ for which the model should start."
   ]
  },
  {
   "cell_type": "code",
   "execution_count": 2,
   "metadata": {},
   "outputs": [
    {
     "data": {
      "text/html": [
       "<div>\n",
       "<style scoped>\n",
       "    .dataframe tbody tr th:only-of-type {\n",
       "        vertical-align: middle;\n",
       "    }\n",
       "\n",
       "    .dataframe tbody tr th {\n",
       "        vertical-align: top;\n",
       "    }\n",
       "\n",
       "    .dataframe thead th {\n",
       "        text-align: right;\n",
       "    }\n",
       "</style>\n",
       "<table border=\"1\" class=\"dataframe\">\n",
       "  <thead>\n",
       "    <tr style=\"text-align: right;\">\n",
       "      <th></th>\n",
       "      <th>age</th>\n",
       "      <th>s</th>\n",
       "      <th>v</th>\n",
       "      <th>a</th>\n",
       "      <th>d</th>\n",
       "    </tr>\n",
       "  </thead>\n",
       "  <tbody>\n",
       "    <tr>\n",
       "      <th>0</th>\n",
       "      <td>0 days 09:20:00</td>\n",
       "      <td>-0.482720</td>\n",
       "      <td>-0.430294</td>\n",
       "      <td>0.612063</td>\n",
       "      <td>0.354783</td>\n",
       "    </tr>\n",
       "    <tr>\n",
       "      <th>1</th>\n",
       "      <td>1 days 11:47:29</td>\n",
       "      <td>0.246881</td>\n",
       "      <td>0.450770</td>\n",
       "      <td>0.407472</td>\n",
       "      <td>0.218679</td>\n",
       "    </tr>\n",
       "    <tr>\n",
       "      <th>2</th>\n",
       "      <td>2 days 04:21:00</td>\n",
       "      <td>-0.447901</td>\n",
       "      <td>-0.445385</td>\n",
       "      <td>0.118963</td>\n",
       "      <td>0.152460</td>\n",
       "    </tr>\n",
       "    <tr>\n",
       "      <th>3</th>\n",
       "      <td>5 days 17:48:00</td>\n",
       "      <td>-0.411837</td>\n",
       "      <td>0.663786</td>\n",
       "      <td>0.738927</td>\n",
       "      <td>0.440982</td>\n",
       "    </tr>\n",
       "    <tr>\n",
       "      <th>4</th>\n",
       "      <td>7 days 10:35:00</td>\n",
       "      <td>0.118153</td>\n",
       "      <td>-0.096516</td>\n",
       "      <td>0.142977</td>\n",
       "      <td>-0.136444</td>\n",
       "    </tr>\n",
       "    <tr>\n",
       "      <th>5</th>\n",
       "      <td>21 days 07:43:44</td>\n",
       "      <td>-0.465270</td>\n",
       "      <td>-0.028720</td>\n",
       "      <td>0.032311</td>\n",
       "      <td>0.033977</td>\n",
       "    </tr>\n",
       "  </tbody>\n",
       "</table>\n",
       "</div>"
      ],
      "text/plain": [
       "               age         s         v         a         d\n",
       "0  0 days 09:20:00 -0.482720 -0.430294  0.612063  0.354783\n",
       "1  1 days 11:47:29  0.246881  0.450770  0.407472  0.218679\n",
       "2  2 days 04:21:00 -0.447901 -0.445385  0.118963  0.152460\n",
       "3  5 days 17:48:00 -0.411837  0.663786  0.738927  0.440982\n",
       "4  7 days 10:35:00  0.118153 -0.096516  0.142977 -0.136444\n",
       "5 21 days 07:43:44 -0.465270 -0.028720  0.032311  0.033977"
      ]
     },
     "execution_count": 2,
     "metadata": {},
     "output_type": "execute_result"
    }
   ],
   "source": [
    "# Stating the time point\n",
    "t_0 = pd.to_datetime('2024-01-03 00:00:00')\n",
    "\n",
    "# Defining the set P of all posts\n",
    "P = []\n",
    "\n",
    "# Determining the posts from before the time point and appending the necessary information to P\n",
    "for index, row in df_posts.iterrows():\n",
    "    t_row = pd.to_datetime(row['Date'])\n",
    "    if t_row < t_0:\n",
    "        P.append([t_0 - t_row] + list(row[['S', 'V', 'A', 'D']]))\n",
    "\n",
    "df_P = pd.DataFrame(P, columns=['age', 's', 'v', 'a', 'd'])\n",
    "\n",
    "df_P.head(6)"
   ]
  },
  {
   "attachments": {},
   "cell_type": "markdown",
   "metadata": {},
   "source": [
    "Determining the probability to be included in the subset $S$."
   ]
  },
  {
   "cell_type": "code",
   "execution_count": 3,
   "metadata": {},
   "outputs": [
    {
     "data": {
      "text/html": [
       "<div>\n",
       "<style scoped>\n",
       "    .dataframe tbody tr th:only-of-type {\n",
       "        vertical-align: middle;\n",
       "    }\n",
       "\n",
       "    .dataframe tbody tr th {\n",
       "        vertical-align: top;\n",
       "    }\n",
       "\n",
       "    .dataframe thead th {\n",
       "        text-align: right;\n",
       "    }\n",
       "</style>\n",
       "<table border=\"1\" class=\"dataframe\">\n",
       "  <thead>\n",
       "    <tr style=\"text-align: right;\">\n",
       "      <th></th>\n",
       "      <th>age</th>\n",
       "      <th>s</th>\n",
       "      <th>v</th>\n",
       "      <th>a</th>\n",
       "      <th>d</th>\n",
       "      <th>rho</th>\n",
       "    </tr>\n",
       "  </thead>\n",
       "  <tbody>\n",
       "    <tr>\n",
       "      <th>0</th>\n",
       "      <td>0 days 09:20:00</td>\n",
       "      <td>-0.482720</td>\n",
       "      <td>-0.430294</td>\n",
       "      <td>0.612063</td>\n",
       "      <td>0.354783</td>\n",
       "      <td>0.397931</td>\n",
       "    </tr>\n",
       "    <tr>\n",
       "      <th>1</th>\n",
       "      <td>1 days 11:47:29</td>\n",
       "      <td>0.246881</td>\n",
       "      <td>0.450770</td>\n",
       "      <td>0.407472</td>\n",
       "      <td>0.218679</td>\n",
       "      <td>0.107785</td>\n",
       "    </tr>\n",
       "    <tr>\n",
       "      <th>2</th>\n",
       "      <td>2 days 04:21:00</td>\n",
       "      <td>-0.447901</td>\n",
       "      <td>-0.445385</td>\n",
       "      <td>0.118963</td>\n",
       "      <td>0.152460</td>\n",
       "      <td>0.239942</td>\n",
       "    </tr>\n",
       "    <tr>\n",
       "      <th>3</th>\n",
       "      <td>5 days 17:48:00</td>\n",
       "      <td>-0.411837</td>\n",
       "      <td>0.663786</td>\n",
       "      <td>0.738927</td>\n",
       "      <td>0.440982</td>\n",
       "      <td>0.180755</td>\n",
       "    </tr>\n",
       "    <tr>\n",
       "      <th>4</th>\n",
       "      <td>7 days 10:35:00</td>\n",
       "      <td>0.118153</td>\n",
       "      <td>-0.096516</td>\n",
       "      <td>0.142977</td>\n",
       "      <td>-0.136444</td>\n",
       "      <td>0.046563</td>\n",
       "    </tr>\n",
       "    <tr>\n",
       "      <th>5</th>\n",
       "      <td>21 days 07:43:44</td>\n",
       "      <td>-0.465270</td>\n",
       "      <td>-0.028720</td>\n",
       "      <td>0.032311</td>\n",
       "      <td>0.033977</td>\n",
       "      <td>0.027024</td>\n",
       "    </tr>\n",
       "  </tbody>\n",
       "</table>\n",
       "</div>"
      ],
      "text/plain": [
       "               age         s         v         a         d       rho\n",
       "0  0 days 09:20:00 -0.482720 -0.430294  0.612063  0.354783  0.397931\n",
       "1  1 days 11:47:29  0.246881  0.450770  0.407472  0.218679  0.107785\n",
       "2  2 days 04:21:00 -0.447901 -0.445385  0.118963  0.152460  0.239942\n",
       "3  5 days 17:48:00 -0.411837  0.663786  0.738927  0.440982  0.180755\n",
       "4  7 days 10:35:00  0.118153 -0.096516  0.142977 -0.136444  0.046563\n",
       "5 21 days 07:43:44 -0.465270 -0.028720  0.032311  0.033977  0.027024"
      ]
     },
     "execution_count": 3,
     "metadata": {},
     "output_type": "execute_result"
    }
   ],
   "source": [
    "import numpy as np\n",
    "\n",
    "# Defining the various probability functions.\n",
    "def g_age(p_age):\n",
    "        a = 0.1\n",
    "        return a * np.exp(-(a*p_age.days))\n",
    "\n",
    "def g_s(p_s):\n",
    "      a_1 = 0.4\n",
    "      a_2 = 0.6\n",
    "      b_1 = 2\n",
    "      b_2 = 2\n",
    "      c_1 = 1\n",
    "      c_2 = -1\n",
    "      return a_1 * np.exp(-b_1 * (p_s - c_1)**2) + a_2 * np.exp(-b_2 * (p_s - c_2)**2)\n",
    "\n",
    "def g_v(p_v):\n",
    "      a_1 = 0.4\n",
    "      a_2 = 0.6\n",
    "      b_1 = 1\n",
    "      b_2 = 1\n",
    "      c_1 = 1\n",
    "      c_2 = -1\n",
    "      return a_1 * np.exp(-b_1 * (p_v - c_1)**2) + a_2 * np.exp(-b_2 * (p_v - c_2)**2)\n",
    "\n",
    "def g_a(p_a):\n",
    "      a = 0.5\n",
    "      return np.exp(a * p_a) * a / (np.exp(a) - np.exp(-a))\n",
    "\n",
    "def g_d(p_d):\n",
    "      return 1\n",
    "\n",
    "# Defining the main probability function.\n",
    "def g(p):\n",
    "      output = g_age(p['age']) * g_s(p['s']) * g_v(p['v']) * g_a(p['a']) * g_d(p['d'])\n",
    "      return output\n",
    "\n",
    "# Determining the normalization sum of g for P.\n",
    "normal_sum = sum(g(row.to_dict()) for _, row in df_P[['age', 's', 'v', 'a', 'd']].iterrows())\n",
    "\n",
    "# Determining the probability for each entry in P.\n",
    "df_P['rho'] = [g(row.to_dict()) for _, row in df_P[['age', 's', 'v', 'a', 'd']].iterrows()] / normal_sum\n",
    "\n",
    "df_P.head(6)"
   ]
  },
  {
   "attachments": {},
   "cell_type": "markdown",
   "metadata": {},
   "source": [
    "Creating the subset $S$."
   ]
  },
  {
   "cell_type": "code",
   "execution_count": 4,
   "metadata": {},
   "outputs": [
    {
     "data": {
      "text/html": [
       "<div>\n",
       "<style scoped>\n",
       "    .dataframe tbody tr th:only-of-type {\n",
       "        vertical-align: middle;\n",
       "    }\n",
       "\n",
       "    .dataframe tbody tr th {\n",
       "        vertical-align: top;\n",
       "    }\n",
       "\n",
       "    .dataframe thead th {\n",
       "        text-align: right;\n",
       "    }\n",
       "</style>\n",
       "<table border=\"1\" class=\"dataframe\">\n",
       "  <thead>\n",
       "    <tr style=\"text-align: right;\">\n",
       "      <th></th>\n",
       "      <th>age</th>\n",
       "      <th>s</th>\n",
       "      <th>v</th>\n",
       "      <th>a</th>\n",
       "      <th>d</th>\n",
       "      <th>rho</th>\n",
       "    </tr>\n",
       "  </thead>\n",
       "  <tbody>\n",
       "    <tr>\n",
       "      <th>0</th>\n",
       "      <td>0 days 09:20:00</td>\n",
       "      <td>-0.482720</td>\n",
       "      <td>-0.430294</td>\n",
       "      <td>0.612063</td>\n",
       "      <td>0.354783</td>\n",
       "      <td>0.397931</td>\n",
       "    </tr>\n",
       "    <tr>\n",
       "      <th>2</th>\n",
       "      <td>2 days 04:21:00</td>\n",
       "      <td>-0.447901</td>\n",
       "      <td>-0.445385</td>\n",
       "      <td>0.118963</td>\n",
       "      <td>0.152460</td>\n",
       "      <td>0.239942</td>\n",
       "    </tr>\n",
       "    <tr>\n",
       "      <th>4</th>\n",
       "      <td>7 days 10:35:00</td>\n",
       "      <td>0.118153</td>\n",
       "      <td>-0.096516</td>\n",
       "      <td>0.142977</td>\n",
       "      <td>-0.136444</td>\n",
       "      <td>0.046563</td>\n",
       "    </tr>\n",
       "  </tbody>\n",
       "</table>\n",
       "</div>"
      ],
      "text/plain": [
       "              age         s         v         a         d       rho\n",
       "0 0 days 09:20:00 -0.482720 -0.430294  0.612063  0.354783  0.397931\n",
       "2 2 days 04:21:00 -0.447901 -0.445385  0.118963  0.152460  0.239942\n",
       "4 7 days 10:35:00  0.118153 -0.096516  0.142977 -0.136444  0.046563"
      ]
     },
     "execution_count": 4,
     "metadata": {},
     "output_type": "execute_result"
    }
   ],
   "source": [
    "# Defining the cardinality m of the subset S.\n",
    "m = 3\n",
    "\n",
    "# Creating the subset.\n",
    "df_S = df_P.loc[np.random.choice(df_P.index, size=m, replace=False, p=df_P['rho'])]\n",
    "\n",
    "df_S.head()"
   ]
  },
  {
   "attachments": {},
   "cell_type": "markdown",
   "metadata": {},
   "source": [
    "## The initial state of the agent"
   ]
  },
  {
   "attachments": {},
   "cell_type": "markdown",
   "metadata": {},
   "source": [
    "Creating the probability distribution function of the set $P$ and the initial state function."
   ]
  },
  {
   "cell_type": "code",
   "execution_count": 5,
   "metadata": {},
   "outputs": [
    {
     "name": "stdout",
     "output_type": "stream",
     "text": [
      "{'s': -0.44804590169654096, 'v': -0.0832535429011578, 'a': 0.3861707225182225, 'd': 0.3345037293968123}\n"
     ]
    }
   ],
   "source": [
    "from sklearn.neighbors import KernelDensity\n",
    "\n",
    "# Defining the bandwidth of the kernel density function.\n",
    "kernel_bandwidth = 0.1\n",
    "\n",
    "# Defining the initial state function.\n",
    "def create_initial_state(df_P, bandwidth):\n",
    "    kde_models = {}\n",
    "\n",
    "    # Fitting a kde for each column.\n",
    "    for i in ['s', 'v', 'a', 'd']:\n",
    "        kde = KernelDensity(bandwidth=bandwidth, kernel='gaussian')\n",
    "        kde.fit(df_P[i].values.reshape(-1,1))\n",
    "        kde_models[i] = kde\n",
    "\n",
    "    # Generating a new random entry for each column.\n",
    "    new_entries = {}\n",
    "    for i, kde_model in kde_models.items():\n",
    "        new_entry = np.clip(kde_model.sample(), -1, 1)\n",
    "        new_entries[i] = new_entry.item()\n",
    "    \n",
    "    return new_entries\n",
    "\n",
    "# Creating an initial state with the defined function.\n",
    "u = create_initial_state(df_P, kernel_bandwidth)\n",
    "\n",
    "print(u)"
   ]
  },
  {
   "attachments": {},
   "cell_type": "markdown",
   "metadata": {},
   "source": [
    "Creating a plot of the probability distributions of the set $P$. "
   ]
  },
  {
   "cell_type": "code",
   "execution_count": 45,
   "metadata": {},
   "outputs": [
    {
     "data": {
      "image/png": "[encoded data removed]",
      "text/plain": [
       "<Figure size 800x800 with 4 Axes>"
      ]
     },
     "metadata": {},
     "output_type": "display_data"
    }
   ],
   "source": [
    "import matplotlib.pyplot as plt\n",
    "\n",
    "# Choose the columns for KDE\n",
    "columns_to_kde = ['s', 'v', 'a', 'd']\n",
    "\n",
    "# Set up subplots for each column\n",
    "fig, axes = plt.subplots(nrows=len(columns_to_kde), figsize=(8, 2 * len(columns_to_kde)))\n",
    "\n",
    "# Fit a separate KDE for each column and plot the distribution\n",
    "for i, col in enumerate(columns_to_kde):\n",
    "    col_data = df_P[col].values.reshape(-1, 1)\n",
    "    \n",
    "    # Fit KDE\n",
    "    kde = KernelDensity(bandwidth=kernel_bandwidth, kernel='gaussian')\n",
    "    kde.fit(col_data)\n",
    "    \n",
    "    # Generate x values for the plot\n",
    "    x_values = np.linspace(-1, 1, 1000).reshape(-1, 1)\n",
    "    \n",
    "    # Evaluate the KDE at the x values\n",
    "    log_dens = kde.score_samples(x_values)\n",
    "    density = np.exp(log_dens)\n",
    "    \n",
    "    # Plot the distribution\n",
    "    axes[i].plot(x_values, density, label=f'{col} Distribution')\n",
    "    axes[i].set_title(f'{col} Distribution')\n",
    "    axes[i].set_xlim(-1, 1)\n",
    "\n",
    "# Adjust layout and show the plot\n",
    "plt.tight_layout()\n",
    "plt.show()"
   ]
  },
  {
   "attachments": {},
   "cell_type": "markdown",
   "metadata": {},
   "source": [
    "## The influence function"
   ]
  },
  {
   "attachments": {},
   "cell_type": "markdown",
   "metadata": {},
   "source": [
    "Creating the probability influence function. "
   ]
  },
  {
   "cell_type": "code",
   "execution_count": 6,
   "metadata": {},
   "outputs": [
    {
     "name": "stdout",
     "output_type": "stream",
     "text": [
      "[-0.17524875  0.00763285  0.20014595  0.15760669]\n"
     ]
    }
   ],
   "source": [
    "# Defining the various probability influence functions\n",
    "def I_s(u, p, epsilon):\n",
    "    mu_1, mu_2 = 1, 10\n",
    "    sigma_1, sigma_2 = 1, 2\n",
    "    mu = mu_1 * mu_2**(u['a'] + p['a'] - u['d'] + p['d'] - 4)\n",
    "    sigma = sigma_1 * sigma_2**(-(u['v'] - p['v'])**2 - (u['s'] - p['s'])**2)\n",
    "    return np.exp((-1 / (2 * sigma**2)) * (epsilon - mu)**2) * 1 / (sigma * np.sqrt(2 * np.pi))\n",
    "\n",
    "def I_v(u, p, epsilon):\n",
    "    mu = 0.1\n",
    "    return np.exp(mu * epsilon) * mu / (np.exp(mu) - np.exp(-mu))\n",
    "\n",
    "def I_a(u, p, epsilon):\n",
    "    mu = 0.1\n",
    "    return np.exp(mu * epsilon) * mu / (np.exp(mu) - np.exp(-mu))\n",
    "\n",
    "def I_d(u, p, epsilon):\n",
    "    mu = 0.1\n",
    "    return np.exp(mu * epsilon) * mu / (np.exp(mu) - np.exp(-mu))\n",
    "\n",
    "# Defining the inverse transform function.\n",
    "def inverse_transform(u, p, pdf):\n",
    "    values = np.linspace(-1, 1, 1000)\n",
    "\n",
    "    cdf_values = np.cumsum(pdf(u, p, values))\n",
    "    cdf_values /= cdf_values[-1]\n",
    "\n",
    "    sample = np.random.rand(1)\n",
    "\n",
    "    inverse_sample = np.interp(sample, cdf_values, values)\n",
    "\n",
    "    return inverse_sample\n",
    "\n",
    "# Defining the probability influence function.\n",
    "def probability_influence_function(u, p):\n",
    "\n",
    "    # Determing the influence factors by taking the inverse transforms of the various probability influence functions.\n",
    "    epsilon_s = inverse_transform(u, p, I_s)\n",
    "    epsilon_v = inverse_transform(u, p, I_v)\n",
    "    epsilon_a = inverse_transform(u, p, I_a)\n",
    "    epsilon_d = inverse_transform(u, p, I_d)\n",
    "\n",
    "    # Creating the diagonal matrix E, with the influence factors.\n",
    "    E = np.diag([epsilon_s, epsilon_v, epsilon_a, epsilon_d])\n",
    "    return (1/2) * (np.array(list(u.values())) + np.dot(E, np.array(list(p.values())).reshape(1,4)))\n",
    "\n",
    "v = (1/m) * sum(probability_influence_function(u, row.to_dict()) for _, row in df_S[['s', 'v', 'a', 'd']].iterrows())\n",
    "\n",
    "print(v)"
   ]
  },
  {
   "attachments": {},
   "cell_type": "markdown",
   "metadata": {},
   "source": [
    "Testing the probability distribution of the influence factors."
   ]
  },
  {
   "cell_type": "code",
   "execution_count": 47,
   "metadata": {},
   "outputs": [
    {
     "data": {
      "image/png": "[encoded data removed]",
      "text/plain": [
       "<Figure size 640x480 with 1 Axes>"
      ]
     },
     "metadata": {},
     "output_type": "display_data"
    }
   ],
   "source": [
    "def sample_inverse_transform(u, p, pdf):\n",
    "    values = np.linspace(-1, 1, 1000)\n",
    "\n",
    "    cdf_values = np.cumsum(pdf(u, p, values))\n",
    "    cdf_values /= cdf_values[-1]\n",
    "\n",
    "    sample = np.random.rand(10000)\n",
    "\n",
    "    inverse_sample = np.interp(sample, cdf_values, values)\n",
    "\n",
    "    return inverse_sample\n",
    "\n",
    "p = {'s': 0.6, 'v': 0.4, 'a': 1, 'd': 1}\n",
    "u = {'s': 0.3, 'v': -0.2, 'a': 1, 'd': 0}\n",
    "\n",
    "sample = sample_inverse_transform(u, p, I_v)\n",
    "\n",
    "plt.hist(sample, bins=500, density=True, alpha=0.7, label='Generated Samples')\n",
    "values = np.linspace(-1, 1, 1000)\n",
    "plt.plot(values, I_v(u, p, values), label='PDF', linewidth=1)\n",
    "plt.title('Inverse Transform Sampling')\n",
    "plt.legend()\n",
    "plt.show()"
   ]
  },
  {
   "attachments": {},
   "cell_type": "markdown",
   "metadata": {},
   "source": [
    "Creating the simple influence function."
   ]
  },
  {
   "cell_type": "code",
   "execution_count": 48,
   "metadata": {},
   "outputs": [
    {
     "name": "stdout",
     "output_type": "stream",
     "text": [
      "[ 0.14895439 -0.15606495  0.43654564 -0.02727863]\n"
     ]
    }
   ],
   "source": [
    "# Defining the simple influence function.\n",
    "def simple_influence_function(u, p):\n",
    "    return (1/2) * (np.array(list(u.values())) + np.array(list(p.values())))\n",
    "\n",
    "v = (1/m) * sum(probability_influence_function(u, row.to_dict()) for _, row in df_S[['s', 'v', 'a', 'd']].iterrows())\n",
    "\n",
    "print(v)"
   ]
  },
  {
   "attachments": {},
   "cell_type": "markdown",
   "metadata": {},
   "source": [
    "Creating the coupled influence function."
   ]
  },
  {
   "cell_type": "code",
   "execution_count": 49,
   "metadata": {},
   "outputs": [
    {
     "name": "stdout",
     "output_type": "stream",
     "text": [
      "[ 0.08685971 -0.13036836  0.52598485  0.02677245]\n"
     ]
    }
   ],
   "source": [
    "# Defining the coupled influence function.\n",
    "def coupled_influence_function(u, p):\n",
    "    v_1 = 2 * u['s'] + (1 - u['d']) * (1 + u['a']) * (1 + p['a']) * p['s']\n",
    "    v_2 = 7 * u['v'] + 3 * p['v']\n",
    "    v_3 = 6 * u['a'] + 4 * p['a']\n",
    "    v_4 = 6 * u['d'] + 4 * u['d']\n",
    "    return (1/10) * np.array([v_1, v_2, v_3, v_4])\n",
    "\n",
    "v = (1/m) * sum(probability_influence_function(u, row.to_dict()) for _, row in df_S[['s', 'v', 'a', 'd']].iterrows())\n",
    "\n",
    "print(v)"
   ]
  },
  {
   "attachments": {},
   "cell_type": "markdown",
   "metadata": {},
   "source": [
    "## The post probability"
   ]
  },
  {
   "attachments": {},
   "cell_type": "markdown",
   "metadata": {},
   "source": [
    "Defining the post probability functions."
   ]
  },
  {
   "cell_type": "code",
   "execution_count": 7,
   "metadata": {},
   "outputs": [],
   "source": [
    "# Defining the various post probability functions.\n",
    "def h_s(v_s):\n",
    "    mu_1 = 1\n",
    "    mu_2 = 1\n",
    "    nu_1 = 1\n",
    "    nu_2 = 1\n",
    "    rho_1 = 1\n",
    "    rho_2 = -1\n",
    "    return mu_1 * np.exp(-nu_1 * (v_s - rho_1)**2) + mu_2 * np.exp(-nu_2 * (v_s - rho_2)**2)\n",
    "    \n",
    "def h_v(v_p):\n",
    "    mu_1 = 1\n",
    "    mu_2 = 1\n",
    "    nu_1 = 1\n",
    "    nu_2 = 1\n",
    "    rho_1 = 1\n",
    "    rho_2 = -1\n",
    "    return mu_1 * np.exp(-nu_1 * (v_p - rho_1)**2) + mu_2 * np.exp(-nu_2 * (v_p - rho_2)**2)\n",
    "    \n",
    "def h_a(v_a):\n",
    "    mu = 0.2\n",
    "    return np.exp(mu * v_a) * (mu + 0.1) / (np.exp(mu) - np.exp(-mu))\n",
    "\n",
    "def h_d(v_d):\n",
    "    mu = 0.2\n",
    "    return np.exp(mu * v_d) * (mu + 0.1) / (np.exp(mu) - np.exp(-mu))\n",
    "\n",
    "# Defining the post probability function.\n",
    "def h(v):\n",
    "    return h_s(v['s']) * h_v(v['v']) * h_a(v['a']) * h_d(v['d'])"
   ]
  },
  {
   "attachments": {},
   "cell_type": "markdown",
   "metadata": {},
   "source": [
    "Defining the post boolean return function based on h."
   ]
  },
  {
   "cell_type": "code",
   "execution_count": 8,
   "metadata": {},
   "outputs": [
    {
     "data": {
      "text/plain": [
       "False"
      ]
     },
     "execution_count": 8,
     "metadata": {},
     "output_type": "execute_result"
    }
   ],
   "source": [
    "from scipy.integrate import nquad\n",
    "\n",
    "v = {'s': 1, 'v': 1, 'a': 1, 'd': 1}\n",
    "\n",
    "# Defining the post probability function wrapper.\n",
    "def wrapper_h(v_s, v_v, v_a, v_d):\n",
    "    v = {'s': v_s, 'v': v_v, 'a': v_a, 'd': v_d}\n",
    "    return h(v)\n",
    "\n",
    "# Defining the post boolean return function based on h.\n",
    "def post_boolean(h_image):\n",
    "    interval = [[-1,1], [-1,1], [-1,1], [-1,1]]\n",
    "\n",
    "    # Determining the normal integral of the post probability function.\n",
    "    normal_sum, error = nquad(wrapper_h, interval)\n",
    "\n",
    "    # Determining the probabality by normalizing the image of h with the normal sum.\n",
    "    probability = h_image / normal_sum\n",
    "\n",
    "    return np.random.choice([True, False], p=[probability, 1 - probability])\n",
    "\n",
    "post_boolean(h(v))"
   ]
  }
 ],
 "metadata": {
  "kernelspec": {
   "display_name": "base",
   "language": "python",
   "name": "python3"
  },
  "language_info": {
   "codemirror_mode": {
    "name": "ipython",
    "version": 3
   },
   "file_extension": ".py",
   "mimetype": "text/x-python",
   "name": "python",
   "nbconvert_exporter": "python",
   "pygments_lexer": "ipython3",
   "version": "3.9.13"
  },
  "orig_nbformat": 4,
  "vscode": {
   "interpreter": {
    "hash": "8c75c0fdd1a718867cdcb84b32adcfdbeaad00b3a4e00a59385211aeed084d4c"
   }
  }
 },
 "nbformat": 4,
 "nbformat_minor": 2
}
