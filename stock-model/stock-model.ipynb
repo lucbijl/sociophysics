{
  "cells": [
    {
      "cell_type": "markdown",
      "metadata": {
        "colab_type": "text",
        "id": "view-in-github"
      },
      "source": [
        "# Geometric Brownian stock model\n",
        "\n",
        "Written by Tran Khanh Nguyen."
      ]
    },
    {
      "cell_type": "code",
      "execution_count": null,
      "metadata": {
        "id": "vARNIHGerYfI"
      },
      "outputs": [],
      "source": [
        "import pandas as pd\n",
        "import matplotlib.pyplot as plt\n",
        "import numpy as np\n",
        "import scipy as scp\n",
        "import datetime\n",
        "import matplotlib.ticker as ticker\n",
        "import matplotlib.dates as mdates\n",
        "from sklearn.linear_model import LinearRegression\n",
        "from matplotlib.gridspec import GridSpec\n",
        "from matplotlib.dates import date2num, DateFormatter, HourLocator"
      ]
    },
    {
      "cell_type": "code",
      "execution_count": null,
      "metadata": {
        "colab": {
          "base_uri": "https://localhost:8080/"
        },
        "id": "41S9eecDoHrz",
        "outputId": "108c6c96-4e1f-4587-e0f0-3f2ffba06df2"
      },
      "outputs": [
        {
          "name": "stdout",
          "output_type": "stream",
          "text": [
            "Mounted at /content/drive\n"
          ]
        }
      ],
      "source": [
        "from google.colab import drive\n",
        "drive.mount('/content/drive')"
      ]
    },
    {
      "cell_type": "code",
      "execution_count": null,
      "metadata": {
        "id": "mp2L7OtWo61L"
      },
      "outputs": [],
      "source": [
        "data_1min=pd.read_excel('/data_LLY_1min.xlsx')\n",
        "data_daily=pd.read_excel('/data_LLY_daily.xlsx')\n",
        "df_lilly_emo=pd.read_csv('/lilly_emo.csv')\n",
        "df_lilly_emo['date']=pd.to_datetime(df_lilly_emo['date'])\n",
        "df_lilly_emo.set_index('date',inplace=True)"
      ]
    },
    {
      "cell_type": "code",
      "execution_count": null,
      "metadata": {
        "colab": {
          "base_uri": "https://localhost:8080/"
        },
        "id": "78g76iqqpSu9",
        "outputId": "bef212e2-292c-48a1-c270-b7daf67f0041"
      },
      "outputs": [
        {
          "data": {
            "text/plain": [
              "Index(['text', 's', 'v', 'a', 'd', 'MA volatility'], dtype='object')"
            ]
          },
          "execution_count": 10,
          "metadata": {},
          "output_type": "execute_result"
        }
      ],
      "source": [
        "df_lilly_emo.columns"
      ]
    },
    {
      "cell_type": "code",
      "execution_count": null,
      "metadata": {
        "id": "d2Pun8UjxgCu"
      },
      "outputs": [],
      "source": [
        "data_1min['timestamp_UTC']=pd.to_datetime(data_1min['timestamp'])+pd.to_timedelta('04:00:00')"
      ]
    },
    {
      "cell_type": "code",
      "execution_count": null,
      "metadata": {
        "colab": {
          "base_uri": "https://localhost:8080/"
        },
        "id": "U-rQhtFLoW0z",
        "outputId": "9a7ab87c-e2cd-413d-ee32-6baf37567f2f"
      },
      "outputs": [
        {
          "data": {
            "text/plain": [
              "104"
            ]
          },
          "execution_count": 4,
          "metadata": {},
          "output_type": "execute_result"
        }
      ],
      "source": [
        "import pickle\n",
        "\n",
        "with open('/lilly.pkl','rb') as file:\n",
        "    df_lilly = pickle.load(file)\n",
        "\n",
        "len(df_lilly)"
      ]
    },
    {
      "cell_type": "code",
      "execution_count": null,
      "metadata": {
        "colab": {
          "base_uri": "https://localhost:8080/"
        },
        "id": "s5Ly15s8omc-",
        "outputId": "a7c21794-836f-49bb-ebb7-c584893ba28d"
      },
      "outputs": [
        {
          "data": {
            "text/plain": [
              "60"
            ]
          },
          "execution_count": 58,
          "metadata": {},
          "output_type": "execute_result"
        }
      ],
      "source": [
        "idx=(df_lilly.index<=pd.to_datetime('2022-11-14'))&(df_lilly.index>=pd.to_datetime('2022-11-10'));\n",
        "df_lilly=df_lilly[idx];\n",
        "len(df_lilly)"
      ]
    },
    {
      "cell_type": "code",
      "execution_count": null,
      "metadata": {
        "colab": {
          "base_uri": "https://localhost:8080/"
        },
        "id": "4UdC9L1lm3dL",
        "outputId": "c919f7bd-c960-463f-edec-8d63ef36f690"
      },
      "outputs": [
        {
          "data": {
            "text/plain": [
              "60"
            ]
          },
          "execution_count": 45,
          "metadata": {},
          "output_type": "execute_result"
        }
      ],
      "source": [
        "idx=(df_lilly_emo['date']<=pd.to_datetime('2022-11-14'))&(df_lilly_emo['date']>=pd.to_datetime('2022-11-10'));\n",
        "df_lilly_emo=df_lilly_emo[idx];\n",
        "len(df_lilly_emo)"
      ]
    },
    {
      "cell_type": "code",
      "execution_count": null,
      "metadata": {
        "colab": {
          "base_uri": "https://localhost:8080/"
        },
        "id": "0giXX6kly-qz",
        "outputId": "74d259bc-80ea-46ce-a9bf-466c6ec3fe94"
      },
      "outputs": [
        {
          "data": {
            "text/plain": [
              "778"
            ]
          },
          "execution_count": 5,
          "metadata": {},
          "output_type": "execute_result"
        }
      ],
      "source": [
        "index=(data_1min['timestamp_UTC']<=pd.to_datetime('2022-11-14'))&(data_1min['timestamp_UTC']>=pd.to_datetime('2022-11-10'))\n",
        "data_1min_filter=data_1min.loc[index]\n",
        "data_1min_filter.reset_index(inplace=True)\n",
        "len(data_1min_filter)"
      ]
    },
    {
      "cell_type": "code",
      "execution_count": null,
      "metadata": {
        "id": "1wjEz1ZTq6QH"
      },
      "outputs": [],
      "source": [
        "w=pd.to_timedelta('0 days 09:00:00')\n",
        "for k in df_lilly_emo.index:\n",
        "  idx=(data_1min['timestamp_UTC']>(k-w))&(data_1min['timestamp_UTC']<(k+w));\n",
        "  df_lilly_emo.loc[k,'MA volatility']=np.mean(data_1min.loc[idx,'volatility']);"
      ]
    },
    {
      "cell_type": "code",
      "execution_count": null,
      "metadata": {
        "id": "QgLPExFuekAi"
      },
      "outputs": [],
      "source": [
        "data_1min['timestamp']=pd.to_datetime(data_1min['timestamp'])\n",
        "data_1min['return']=np.log(data['close']/data['open'])\n",
        "data_daily['timestamp']=pd.to_datetime(data_daily['timestamp'])\n"
      ]
    },
    {
      "cell_type": "code",
      "execution_count": null,
      "metadata": {
        "id": "b15sfLiGnftb"
      },
      "outputs": [],
      "source": [
        "window=pd.to_timedelta('0 days 00:30:00')\n",
        "for k in range(len(data_1min['timestamp'])):\n",
        "  idx=(data_1min['timestamp']>(data_1min.loc[k,'timestamp']-window))&(data_1min['timestamp']<(data_1min.loc[k,'timestamp']+window));\n",
        "  data_1min.loc[k,'volatility']=np.std(data_1min.loc[idx,'return']);"
      ]
    },
    {
      "cell_type": "code",
      "execution_count": null,
      "metadata": {
        "colab": {
          "base_uri": "https://localhost:8080/",
          "height": 625
        },
        "id": "HfOj-YdypYNt",
        "outputId": "c59c7d6f-ac1e-4fad-8718-ca27b730a60a"
      },
      "outputs": [
        {
          "name": "stderr",
          "output_type": "stream",
          "text": [
            "<ipython-input-7-38ac83be65b2>:6: SettingWithCopyWarning: \n",
            "A value is trying to be set on a copy of a slice from a DataFrame.\n",
            "Try using .loc[row_indexer,col_indexer] = value instead\n",
            "\n",
            "See the caveats in the documentation: https://pandas.pydata.org/pandas-docs/stable/user_guide/indexing.html#returning-a-view-versus-a-copy\n",
            "  data_1min_filter.loc[k,'MA_sent_score']=np.mean(df_lilly.loc[idx,'BERT sentiment score']);\n",
            "<ipython-input-7-38ac83be65b2>:8: SettingWithCopyWarning: \n",
            "A value is trying to be set on a copy of a slice from a DataFrame.\n",
            "Try using .loc[row_indexer,col_indexer] = value instead\n",
            "\n",
            "See the caveats in the documentation: https://pandas.pydata.org/pandas-docs/stable/user_guide/indexing.html#returning-a-view-versus-a-copy\n",
            "  data_1min_filter.loc[k,'MA v']=np.mean(df_lilly_emo.loc[idx,'v']);\n"
          ]
        },
        {
          "data": {
            "text/html": [
              "\n",
              "  <div id=\"df-2691f856-681c-424b-aa9f-7e1e6c9040b0\" class=\"colab-df-container\">\n",
              "    <div>\n",
              "<style scoped>\n",
              "    .dataframe tbody tr th:only-of-type {\n",
              "        vertical-align: middle;\n",
              "    }\n",
              "\n",
              "    .dataframe tbody tr th {\n",
              "        vertical-align: top;\n",
              "    }\n",
              "\n",
              "    .dataframe thead th {\n",
              "        text-align: right;\n",
              "    }\n",
              "</style>\n",
              "<table border=\"1\" class=\"dataframe\">\n",
              "  <thead>\n",
              "    <tr style=\"text-align: right;\">\n",
              "      <th></th>\n",
              "      <th>index</th>\n",
              "      <th>Unnamed: 0</th>\n",
              "      <th>timestamp</th>\n",
              "      <th>open</th>\n",
              "      <th>high</th>\n",
              "      <th>low</th>\n",
              "      <th>close</th>\n",
              "      <th>volume</th>\n",
              "      <th>return</th>\n",
              "      <th>volatility</th>\n",
              "      <th>timestamp_UTC</th>\n",
              "      <th>MA_sent_score</th>\n",
              "      <th>MA v</th>\n",
              "    </tr>\n",
              "  </thead>\n",
              "  <tbody>\n",
              "    <tr>\n",
              "      <th>0</th>\n",
              "      <td>2726</td>\n",
              "      <td>2726</td>\n",
              "      <td>2022-11-10 09:32:00</td>\n",
              "      <td>363.341</td>\n",
              "      <td>365.120</td>\n",
              "      <td>362.074</td>\n",
              "      <td>362.938</td>\n",
              "      <td>40241</td>\n",
              "      <td>-0.001110</td>\n",
              "      <td>0.002259</td>\n",
              "      <td>2022-11-10 13:32:00</td>\n",
              "      <td>0.048509</td>\n",
              "      <td>0.13323</td>\n",
              "    </tr>\n",
              "    <tr>\n",
              "      <th>1</th>\n",
              "      <td>2727</td>\n",
              "      <td>2727</td>\n",
              "      <td>2022-11-10 09:33:00</td>\n",
              "      <td>362.386</td>\n",
              "      <td>363.052</td>\n",
              "      <td>361.517</td>\n",
              "      <td>361.770</td>\n",
              "      <td>3725</td>\n",
              "      <td>-0.001701</td>\n",
              "      <td>0.002205</td>\n",
              "      <td>2022-11-10 13:33:00</td>\n",
              "      <td>0.048509</td>\n",
              "      <td>0.13323</td>\n",
              "    </tr>\n",
              "    <tr>\n",
              "      <th>2</th>\n",
              "      <td>2728</td>\n",
              "      <td>2728</td>\n",
              "      <td>2022-11-10 09:34:00</td>\n",
              "      <td>361.891</td>\n",
              "      <td>362.250</td>\n",
              "      <td>361.211</td>\n",
              "      <td>361.543</td>\n",
              "      <td>5515</td>\n",
              "      <td>-0.000962</td>\n",
              "      <td>0.002154</td>\n",
              "      <td>2022-11-10 13:34:00</td>\n",
              "      <td>0.048509</td>\n",
              "      <td>0.13323</td>\n",
              "    </tr>\n",
              "    <tr>\n",
              "      <th>3</th>\n",
              "      <td>2729</td>\n",
              "      <td>2729</td>\n",
              "      <td>2022-11-10 09:35:00</td>\n",
              "      <td>361.906</td>\n",
              "      <td>362.052</td>\n",
              "      <td>360.122</td>\n",
              "      <td>360.900</td>\n",
              "      <td>15628</td>\n",
              "      <td>-0.002784</td>\n",
              "      <td>0.002110</td>\n",
              "      <td>2022-11-10 13:35:00</td>\n",
              "      <td>0.048509</td>\n",
              "      <td>0.13323</td>\n",
              "    </tr>\n",
              "    <tr>\n",
              "      <th>4</th>\n",
              "      <td>2730</td>\n",
              "      <td>2730</td>\n",
              "      <td>2022-11-10 09:36:00</td>\n",
              "      <td>360.550</td>\n",
              "      <td>361.152</td>\n",
              "      <td>360.318</td>\n",
              "      <td>361.097</td>\n",
              "      <td>1797</td>\n",
              "      <td>0.001516</td>\n",
              "      <td>0.002067</td>\n",
              "      <td>2022-11-10 13:36:00</td>\n",
              "      <td>0.048509</td>\n",
              "      <td>0.13323</td>\n",
              "    </tr>\n",
              "  </tbody>\n",
              "</table>\n",
              "</div>\n",
              "    <div class=\"colab-df-buttons\">\n",
              "\n",
              "  <div class=\"colab-df-container\">\n",
              "    <button class=\"colab-df-convert\" onclick=\"convertToInteractive('df-2691f856-681c-424b-aa9f-7e1e6c9040b0')\"\n",
              "            title=\"Convert this dataframe to an interactive table.\"\n",
              "            style=\"display:none;\">\n",
              "\n",
              "  <svg xmlns=\"http://www.w3.org/2000/svg\" height=\"24px\" viewBox=\"0 -960 960 960\">\n",
              "    <path d=\"M120-120v-720h720v720H120Zm60-500h600v-160H180v160Zm220 220h160v-160H400v160Zm0 220h160v-160H400v160ZM180-400h160v-160H180v160Zm440 0h160v-160H620v160ZM180-180h160v-160H180v160Zm440 0h160v-160H620v160Z\"/>\n",
              "  </svg>\n",
              "    </button>\n",
              "\n",
              "  <style>\n",
              "    .colab-df-container {\n",
              "      display:flex;\n",
              "      gap: 12px;\n",
              "    }\n",
              "\n",
              "    .colab-df-convert {\n",
              "      background-color: #E8F0FE;\n",
              "      border: none;\n",
              "      border-radius: 50%;\n",
              "      cursor: pointer;\n",
              "      display: none;\n",
              "      fill: #1967D2;\n",
              "      height: 32px;\n",
              "      padding: 0 0 0 0;\n",
              "      width: 32px;\n",
              "    }\n",
              "\n",
              "    .colab-df-convert:hover {\n",
              "      background-color: #E2EBFA;\n",
              "      box-shadow: 0px 1px 2px rgba(60, 64, 67, 0.3), 0px 1px 3px 1px rgba(60, 64, 67, 0.15);\n",
              "      fill: #174EA6;\n",
              "    }\n",
              "\n",
              "    .colab-df-buttons div {\n",
              "      margin-bottom: 4px;\n",
              "    }\n",
              "\n",
              "    [theme=dark] .colab-df-convert {\n",
              "      background-color: #3B4455;\n",
              "      fill: #D2E3FC;\n",
              "    }\n",
              "\n",
              "    [theme=dark] .colab-df-convert:hover {\n",
              "      background-color: #434B5C;\n",
              "      box-shadow: 0px 1px 3px 1px rgba(0, 0, 0, 0.15);\n",
              "      filter: drop-shadow(0px 1px 2px rgba(0, 0, 0, 0.3));\n",
              "      fill: #FFFFFF;\n",
              "    }\n",
              "  </style>\n",
              "\n",
              "    <script>\n",
              "      const buttonEl =\n",
              "        document.querySelector('#df-2691f856-681c-424b-aa9f-7e1e6c9040b0 button.colab-df-convert');\n",
              "      buttonEl.style.display =\n",
              "        google.colab.kernel.accessAllowed ? 'block' : 'none';\n",
              "\n",
              "      async function convertToInteractive(key) {\n",
              "        const element = document.querySelector('#df-2691f856-681c-424b-aa9f-7e1e6c9040b0');\n",
              "        const dataTable =\n",
              "          await google.colab.kernel.invokeFunction('convertToInteractive',\n",
              "                                                    [key], {});\n",
              "        if (!dataTable) return;\n",
              "\n",
              "        const docLinkHtml = 'Like what you see? Visit the ' +\n",
              "          '<a target=\"_blank\" href=https://colab.research.google.com/notebooks/data_table.ipynb>data table notebook</a>'\n",
              "          + ' to learn more about interactive tables.';\n",
              "        element.innerHTML = '';\n",
              "        dataTable['output_type'] = 'display_data';\n",
              "        await google.colab.output.renderOutput(dataTable, element);\n",
              "        const docLink = document.createElement('div');\n",
              "        docLink.innerHTML = docLinkHtml;\n",
              "        element.appendChild(docLink);\n",
              "      }\n",
              "    </script>\n",
              "  </div>\n",
              "\n",
              "\n",
              "<div id=\"df-f236d2c0-61be-4e59-a739-6641e66e9ce7\">\n",
              "  <button class=\"colab-df-quickchart\" onclick=\"quickchart('df-f236d2c0-61be-4e59-a739-6641e66e9ce7')\"\n",
              "            title=\"Suggest charts\"\n",
              "            style=\"display:none;\">\n",
              "\n",
              "<svg xmlns=\"http://www.w3.org/2000/svg\" height=\"24px\"viewBox=\"0 0 24 24\"\n",
              "     width=\"24px\">\n",
              "    <g>\n",
              "        <path d=\"M19 3H5c-1.1 0-2 .9-2 2v14c0 1.1.9 2 2 2h14c1.1 0 2-.9 2-2V5c0-1.1-.9-2-2-2zM9 17H7v-7h2v7zm4 0h-2V7h2v10zm4 0h-2v-4h2v4z\"/>\n",
              "    </g>\n",
              "</svg>\n",
              "  </button>\n",
              "\n",
              "<style>\n",
              "  .colab-df-quickchart {\n",
              "      --bg-color: #E8F0FE;\n",
              "      --fill-color: #1967D2;\n",
              "      --hover-bg-color: #E2EBFA;\n",
              "      --hover-fill-color: #174EA6;\n",
              "      --disabled-fill-color: #AAA;\n",
              "      --disabled-bg-color: #DDD;\n",
              "  }\n",
              "\n",
              "  [theme=dark] .colab-df-quickchart {\n",
              "      --bg-color: #3B4455;\n",
              "      --fill-color: #D2E3FC;\n",
              "      --hover-bg-color: #434B5C;\n",
              "      --hover-fill-color: #FFFFFF;\n",
              "      --disabled-bg-color: #3B4455;\n",
              "      --disabled-fill-color: #666;\n",
              "  }\n",
              "\n",
              "  .colab-df-quickchart {\n",
              "    background-color: var(--bg-color);\n",
              "    border: none;\n",
              "    border-radius: 50%;\n",
              "    cursor: pointer;\n",
              "    display: none;\n",
              "    fill: var(--fill-color);\n",
              "    height: 32px;\n",
              "    padding: 0;\n",
              "    width: 32px;\n",
              "  }\n",
              "\n",
              "  .colab-df-quickchart:hover {\n",
              "    background-color: var(--hover-bg-color);\n",
              "    box-shadow: 0 1px 2px rgba(60, 64, 67, 0.3), 0 1px 3px 1px rgba(60, 64, 67, 0.15);\n",
              "    fill: var(--button-hover-fill-color);\n",
              "  }\n",
              "\n",
              "  .colab-df-quickchart-complete:disabled,\n",
              "  .colab-df-quickchart-complete:disabled:hover {\n",
              "    background-color: var(--disabled-bg-color);\n",
              "    fill: var(--disabled-fill-color);\n",
              "    box-shadow: none;\n",
              "  }\n",
              "\n",
              "  .colab-df-spinner {\n",
              "    border: 2px solid var(--fill-color);\n",
              "    border-color: transparent;\n",
              "    border-bottom-color: var(--fill-color);\n",
              "    animation:\n",
              "      spin 1s steps(1) infinite;\n",
              "  }\n",
              "\n",
              "  @keyframes spin {\n",
              "    0% {\n",
              "      border-color: transparent;\n",
              "      border-bottom-color: var(--fill-color);\n",
              "      border-left-color: var(--fill-color);\n",
              "    }\n",
              "    20% {\n",
              "      border-color: transparent;\n",
              "      border-left-color: var(--fill-color);\n",
              "      border-top-color: var(--fill-color);\n",
              "    }\n",
              "    30% {\n",
              "      border-color: transparent;\n",
              "      border-left-color: var(--fill-color);\n",
              "      border-top-color: var(--fill-color);\n",
              "      border-right-color: var(--fill-color);\n",
              "    }\n",
              "    40% {\n",
              "      border-color: transparent;\n",
              "      border-right-color: var(--fill-color);\n",
              "      border-top-color: var(--fill-color);\n",
              "    }\n",
              "    60% {\n",
              "      border-color: transparent;\n",
              "      border-right-color: var(--fill-color);\n",
              "    }\n",
              "    80% {\n",
              "      border-color: transparent;\n",
              "      border-right-color: var(--fill-color);\n",
              "      border-bottom-color: var(--fill-color);\n",
              "    }\n",
              "    90% {\n",
              "      border-color: transparent;\n",
              "      border-bottom-color: var(--fill-color);\n",
              "    }\n",
              "  }\n",
              "</style>\n",
              "\n",
              "  <script>\n",
              "    async function quickchart(key) {\n",
              "      const quickchartButtonEl =\n",
              "        document.querySelector('#' + key + ' button');\n",
              "      quickchartButtonEl.disabled = true;  // To prevent multiple clicks.\n",
              "      quickchartButtonEl.classList.add('colab-df-spinner');\n",
              "      try {\n",
              "        const charts = await google.colab.kernel.invokeFunction(\n",
              "            'suggestCharts', [key], {});\n",
              "      } catch (error) {\n",
              "        console.error('Error during call to suggestCharts:', error);\n",
              "      }\n",
              "      quickchartButtonEl.classList.remove('colab-df-spinner');\n",
              "      quickchartButtonEl.classList.add('colab-df-quickchart-complete');\n",
              "    }\n",
              "    (() => {\n",
              "      let quickchartButtonEl =\n",
              "        document.querySelector('#df-f236d2c0-61be-4e59-a739-6641e66e9ce7 button');\n",
              "      quickchartButtonEl.style.display =\n",
              "        google.colab.kernel.accessAllowed ? 'block' : 'none';\n",
              "    })();\n",
              "  </script>\n",
              "</div>\n",
              "    </div>\n",
              "  </div>\n"
            ],
            "text/plain": [
              "   index  Unnamed: 0           timestamp     open     high      low    close  \\\n",
              "0   2726        2726 2022-11-10 09:32:00  363.341  365.120  362.074  362.938   \n",
              "1   2727        2727 2022-11-10 09:33:00  362.386  363.052  361.517  361.770   \n",
              "2   2728        2728 2022-11-10 09:34:00  361.891  362.250  361.211  361.543   \n",
              "3   2729        2729 2022-11-10 09:35:00  361.906  362.052  360.122  360.900   \n",
              "4   2730        2730 2022-11-10 09:36:00  360.550  361.152  360.318  361.097   \n",
              "\n",
              "   volume    return  volatility       timestamp_UTC  MA_sent_score     MA v  \n",
              "0   40241 -0.001110    0.002259 2022-11-10 13:32:00       0.048509  0.13323  \n",
              "1    3725 -0.001701    0.002205 2022-11-10 13:33:00       0.048509  0.13323  \n",
              "2    5515 -0.000962    0.002154 2022-11-10 13:34:00       0.048509  0.13323  \n",
              "3   15628 -0.002784    0.002110 2022-11-10 13:35:00       0.048509  0.13323  \n",
              "4    1797  0.001516    0.002067 2022-11-10 13:36:00       0.048509  0.13323  "
            ]
          },
          "execution_count": 7,
          "metadata": {},
          "output_type": "execute_result"
        }
      ],
      "source": [
        "window1=pd.to_timedelta('0 days 00:00:00')\n",
        "window2=pd.to_timedelta('0 days 12:00:00')\n",
        "w=pd.to_timedelta('0 days 09:00:00')\n",
        "for k in range(len(data_1min_filter['timestamp_UTC'])):\n",
        "  idx=(df_lilly.index>=data_1min_filter.loc[k,'timestamp_UTC']+window1)&(df_lilly.index<=data_1min_filter.loc[k,'timestamp_UTC']+window2)\n",
        "  data_1min_filter.loc[k,'MA_sent_score']=np.mean(df_lilly.loc[idx,'BERT sentiment score']);\n",
        "  idx=(df_lilly_emo.index>=data_1min_filter.loc[k,'timestamp_UTC']-w)&(df_lilly_emo.index>=data_1min_filter.loc[k,'timestamp_UTC']+w)\n",
        "  data_1min_filter.loc[k,'MA v']=np.mean(df_lilly_emo.loc[idx,'v']);\n",
        "data_1min_filter.head()"
      ]
    },
    {
      "cell_type": "code",
      "execution_count": null,
      "metadata": {
        "id": "jVyJxdciT3_D"
      },
      "outputs": [],
      "source": [
        "window=pd.to_timedelta('0 days 06:00:00')\n",
        "for k in df_lilly.index:\n",
        "  idx=(data_1min['timestamp_UTC']>(k-window))&(data_1min['timestamp_UTC']<(k));\n",
        "  df_lilly.loc[k,'MA_return']=np.mean(data_1min.loc[idx,'return']);\n",
        "\n"
      ]
    },
    {
      "cell_type": "code",
      "execution_count": null,
      "metadata": {
        "colab": {
          "base_uri": "https://localhost:8080/",
          "height": 430
        },
        "id": "Z659_Lr46CMe",
        "outputId": "6d6e82a4-e638-40e5-e766-17ebfff2bd43"
      },
      "outputs": [
        {
          "data": {
            "image/png": "[encoded data removed]",
            "text/plain": [
              "<Figure size 640x480 with 1 Axes>"
            ]
          },
          "metadata": {},
          "output_type": "display_data"
        }
      ],
      "source": [
        "X=np.array(df_lilly.dropna()['BERT sentiment score']).reshape(-1,1);\n",
        "y=np.array(df_lilly.dropna()['MA_return']).reshape(-1,1)\n",
        "reg=LinearRegression()\n",
        "reg.fit(X,y)\n",
        "reg.score(X,y)\n",
        "plt.plot(df_lilly['BERT sentiment score'],df_lilly['MA_return'],'ko',markersize=2);\n",
        "plt.plot(X,reg.predict(X),'r-');\n"
      ]
    },
    {
      "cell_type": "code",
      "execution_count": null,
      "metadata": {
        "colab": {
          "base_uri": "https://localhost:8080/",
          "height": 206
        },
        "id": "YHd7NqtZcIMG",
        "outputId": "752f4919-ff2d-4d48-a4e4-ae42e0e56cad"
      },
      "outputs": [
        {
          "data": {
            "text/html": [
              "\n",
              "  <div id=\"df-14c50e0b-0bec-4835-b584-5967f421ff3d\" class=\"colab-df-container\">\n",
              "    <div>\n",
              "<style scoped>\n",
              "    .dataframe tbody tr th:only-of-type {\n",
              "        vertical-align: middle;\n",
              "    }\n",
              "\n",
              "    .dataframe tbody tr th {\n",
              "        vertical-align: top;\n",
              "    }\n",
              "\n",
              "    .dataframe thead th {\n",
              "        text-align: right;\n",
              "    }\n",
              "</style>\n",
              "<table border=\"1\" class=\"dataframe\">\n",
              "  <thead>\n",
              "    <tr style=\"text-align: right;\">\n",
              "      <th></th>\n",
              "      <th>timestamp_UTC</th>\n",
              "      <th>MA_sent_score</th>\n",
              "      <th>predicted return</th>\n",
              "    </tr>\n",
              "  </thead>\n",
              "  <tbody>\n",
              "    <tr>\n",
              "      <th>0</th>\n",
              "      <td>2022-11-10 13:32:00</td>\n",
              "      <td>0.048509</td>\n",
              "      <td>-0.000045</td>\n",
              "    </tr>\n",
              "    <tr>\n",
              "      <th>1</th>\n",
              "      <td>2022-11-10 13:33:00</td>\n",
              "      <td>0.048509</td>\n",
              "      <td>-0.000045</td>\n",
              "    </tr>\n",
              "    <tr>\n",
              "      <th>2</th>\n",
              "      <td>2022-11-10 13:34:00</td>\n",
              "      <td>0.048509</td>\n",
              "      <td>-0.000045</td>\n",
              "    </tr>\n",
              "    <tr>\n",
              "      <th>3</th>\n",
              "      <td>2022-11-10 13:35:00</td>\n",
              "      <td>0.048509</td>\n",
              "      <td>-0.000045</td>\n",
              "    </tr>\n",
              "    <tr>\n",
              "      <th>4</th>\n",
              "      <td>2022-11-10 13:36:00</td>\n",
              "      <td>0.048509</td>\n",
              "      <td>-0.000045</td>\n",
              "    </tr>\n",
              "  </tbody>\n",
              "</table>\n",
              "</div>\n",
              "    <div class=\"colab-df-buttons\">\n",
              "\n",
              "  <div class=\"colab-df-container\">\n",
              "    <button class=\"colab-df-convert\" onclick=\"convertToInteractive('df-14c50e0b-0bec-4835-b584-5967f421ff3d')\"\n",
              "            title=\"Convert this dataframe to an interactive table.\"\n",
              "            style=\"display:none;\">\n",
              "\n",
              "  <svg xmlns=\"http://www.w3.org/2000/svg\" height=\"24px\" viewBox=\"0 -960 960 960\">\n",
              "    <path d=\"M120-120v-720h720v720H120Zm60-500h600v-160H180v160Zm220 220h160v-160H400v160Zm0 220h160v-160H400v160ZM180-400h160v-160H180v160Zm440 0h160v-160H620v160ZM180-180h160v-160H180v160Zm440 0h160v-160H620v160Z\"/>\n",
              "  </svg>\n",
              "    </button>\n",
              "\n",
              "  <style>\n",
              "    .colab-df-container {\n",
              "      display:flex;\n",
              "      gap: 12px;\n",
              "    }\n",
              "\n",
              "    .colab-df-convert {\n",
              "      background-color: #E8F0FE;\n",
              "      border: none;\n",
              "      border-radius: 50%;\n",
              "      cursor: pointer;\n",
              "      display: none;\n",
              "      fill: #1967D2;\n",
              "      height: 32px;\n",
              "      padding: 0 0 0 0;\n",
              "      width: 32px;\n",
              "    }\n",
              "\n",
              "    .colab-df-convert:hover {\n",
              "      background-color: #E2EBFA;\n",
              "      box-shadow: 0px 1px 2px rgba(60, 64, 67, 0.3), 0px 1px 3px 1px rgba(60, 64, 67, 0.15);\n",
              "      fill: #174EA6;\n",
              "    }\n",
              "\n",
              "    .colab-df-buttons div {\n",
              "      margin-bottom: 4px;\n",
              "    }\n",
              "\n",
              "    [theme=dark] .colab-df-convert {\n",
              "      background-color: #3B4455;\n",
              "      fill: #D2E3FC;\n",
              "    }\n",
              "\n",
              "    [theme=dark] .colab-df-convert:hover {\n",
              "      background-color: #434B5C;\n",
              "      box-shadow: 0px 1px 3px 1px rgba(0, 0, 0, 0.15);\n",
              "      filter: drop-shadow(0px 1px 2px rgba(0, 0, 0, 0.3));\n",
              "      fill: #FFFFFF;\n",
              "    }\n",
              "  </style>\n",
              "\n",
              "    <script>\n",
              "      const buttonEl =\n",
              "        document.querySelector('#df-14c50e0b-0bec-4835-b584-5967f421ff3d button.colab-df-convert');\n",
              "      buttonEl.style.display =\n",
              "        google.colab.kernel.accessAllowed ? 'block' : 'none';\n",
              "\n",
              "      async function convertToInteractive(key) {\n",
              "        const element = document.querySelector('#df-14c50e0b-0bec-4835-b584-5967f421ff3d');\n",
              "        const dataTable =\n",
              "          await google.colab.kernel.invokeFunction('convertToInteractive',\n",
              "                                                    [key], {});\n",
              "        if (!dataTable) return;\n",
              "\n",
              "        const docLinkHtml = 'Like what you see? Visit the ' +\n",
              "          '<a target=\"_blank\" href=https://colab.research.google.com/notebooks/data_table.ipynb>data table notebook</a>'\n",
              "          + ' to learn more about interactive tables.';\n",
              "        element.innerHTML = '';\n",
              "        dataTable['output_type'] = 'display_data';\n",
              "        await google.colab.output.renderOutput(dataTable, element);\n",
              "        const docLink = document.createElement('div');\n",
              "        docLink.innerHTML = docLinkHtml;\n",
              "        element.appendChild(docLink);\n",
              "      }\n",
              "    </script>\n",
              "  </div>\n",
              "\n",
              "\n",
              "<div id=\"df-737379cb-d8d1-4453-a895-a6a849816c6e\">\n",
              "  <button class=\"colab-df-quickchart\" onclick=\"quickchart('df-737379cb-d8d1-4453-a895-a6a849816c6e')\"\n",
              "            title=\"Suggest charts\"\n",
              "            style=\"display:none;\">\n",
              "\n",
              "<svg xmlns=\"http://www.w3.org/2000/svg\" height=\"24px\"viewBox=\"0 0 24 24\"\n",
              "     width=\"24px\">\n",
              "    <g>\n",
              "        <path d=\"M19 3H5c-1.1 0-2 .9-2 2v14c0 1.1.9 2 2 2h14c1.1 0 2-.9 2-2V5c0-1.1-.9-2-2-2zM9 17H7v-7h2v7zm4 0h-2V7h2v10zm4 0h-2v-4h2v4z\"/>\n",
              "    </g>\n",
              "</svg>\n",
              "  </button>\n",
              "\n",
              "<style>\n",
              "  .colab-df-quickchart {\n",
              "      --bg-color: #E8F0FE;\n",
              "      --fill-color: #1967D2;\n",
              "      --hover-bg-color: #E2EBFA;\n",
              "      --hover-fill-color: #174EA6;\n",
              "      --disabled-fill-color: #AAA;\n",
              "      --disabled-bg-color: #DDD;\n",
              "  }\n",
              "\n",
              "  [theme=dark] .colab-df-quickchart {\n",
              "      --bg-color: #3B4455;\n",
              "      --fill-color: #D2E3FC;\n",
              "      --hover-bg-color: #434B5C;\n",
              "      --hover-fill-color: #FFFFFF;\n",
              "      --disabled-bg-color: #3B4455;\n",
              "      --disabled-fill-color: #666;\n",
              "  }\n",
              "\n",
              "  .colab-df-quickchart {\n",
              "    background-color: var(--bg-color);\n",
              "    border: none;\n",
              "    border-radius: 50%;\n",
              "    cursor: pointer;\n",
              "    display: none;\n",
              "    fill: var(--fill-color);\n",
              "    height: 32px;\n",
              "    padding: 0;\n",
              "    width: 32px;\n",
              "  }\n",
              "\n",
              "  .colab-df-quickchart:hover {\n",
              "    background-color: var(--hover-bg-color);\n",
              "    box-shadow: 0 1px 2px rgba(60, 64, 67, 0.3), 0 1px 3px 1px rgba(60, 64, 67, 0.15);\n",
              "    fill: var(--button-hover-fill-color);\n",
              "  }\n",
              "\n",
              "  .colab-df-quickchart-complete:disabled,\n",
              "  .colab-df-quickchart-complete:disabled:hover {\n",
              "    background-color: var(--disabled-bg-color);\n",
              "    fill: var(--disabled-fill-color);\n",
              "    box-shadow: none;\n",
              "  }\n",
              "\n",
              "  .colab-df-spinner {\n",
              "    border: 2px solid var(--fill-color);\n",
              "    border-color: transparent;\n",
              "    border-bottom-color: var(--fill-color);\n",
              "    animation:\n",
              "      spin 1s steps(1) infinite;\n",
              "  }\n",
              "\n",
              "  @keyframes spin {\n",
              "    0% {\n",
              "      border-color: transparent;\n",
              "      border-bottom-color: var(--fill-color);\n",
              "      border-left-color: var(--fill-color);\n",
              "    }\n",
              "    20% {\n",
              "      border-color: transparent;\n",
              "      border-left-color: var(--fill-color);\n",
              "      border-top-color: var(--fill-color);\n",
              "    }\n",
              "    30% {\n",
              "      border-color: transparent;\n",
              "      border-left-color: var(--fill-color);\n",
              "      border-top-color: var(--fill-color);\n",
              "      border-right-color: var(--fill-color);\n",
              "    }\n",
              "    40% {\n",
              "      border-color: transparent;\n",
              "      border-right-color: var(--fill-color);\n",
              "      border-top-color: var(--fill-color);\n",
              "    }\n",
              "    60% {\n",
              "      border-color: transparent;\n",
              "      border-right-color: var(--fill-color);\n",
              "    }\n",
              "    80% {\n",
              "      border-color: transparent;\n",
              "      border-right-color: var(--fill-color);\n",
              "      border-bottom-color: var(--fill-color);\n",
              "    }\n",
              "    90% {\n",
              "      border-color: transparent;\n",
              "      border-bottom-color: var(--fill-color);\n",
              "    }\n",
              "  }\n",
              "</style>\n",
              "\n",
              "  <script>\n",
              "    async function quickchart(key) {\n",
              "      const quickchartButtonEl =\n",
              "        document.querySelector('#' + key + ' button');\n",
              "      quickchartButtonEl.disabled = true;  // To prevent multiple clicks.\n",
              "      quickchartButtonEl.classList.add('colab-df-spinner');\n",
              "      try {\n",
              "        const charts = await google.colab.kernel.invokeFunction(\n",
              "            'suggestCharts', [key], {});\n",
              "      } catch (error) {\n",
              "        console.error('Error during call to suggestCharts:', error);\n",
              "      }\n",
              "      quickchartButtonEl.classList.remove('colab-df-spinner');\n",
              "      quickchartButtonEl.classList.add('colab-df-quickchart-complete');\n",
              "    }\n",
              "    (() => {\n",
              "      let quickchartButtonEl =\n",
              "        document.querySelector('#df-737379cb-d8d1-4453-a895-a6a849816c6e button');\n",
              "      quickchartButtonEl.style.display =\n",
              "        google.colab.kernel.accessAllowed ? 'block' : 'none';\n",
              "    })();\n",
              "  </script>\n",
              "</div>\n",
              "    </div>\n",
              "  </div>\n"
            ],
            "text/plain": [
              "        timestamp_UTC  MA_sent_score  predicted return\n",
              "0 2022-11-10 13:32:00       0.048509         -0.000045\n",
              "1 2022-11-10 13:33:00       0.048509         -0.000045\n",
              "2 2022-11-10 13:34:00       0.048509         -0.000045\n",
              "3 2022-11-10 13:35:00       0.048509         -0.000045\n",
              "4 2022-11-10 13:36:00       0.048509         -0.000045"
            ]
          },
          "execution_count": 10,
          "metadata": {},
          "output_type": "execute_result"
        }
      ],
      "source": [
        "X_pred=np.array(data_1min_filter.dropna()['MA_sent_score']).reshape(-1,1);\n",
        "y_pred=reg.predict(X_pred);\n",
        "df_predict=data_1min_filter.dropna()[['timestamp_UTC','MA_sent_score']].copy()\n",
        "df_predict['predicted return']=y_pred;\n",
        "df_predict.head()"
      ]
    },
    {
      "cell_type": "code",
      "execution_count": null,
      "metadata": {
        "colab": {
          "base_uri": "https://localhost:8080/",
          "height": 447
        },
        "id": "VSnyPk-so4Mx",
        "outputId": "d4b8d367-18e6-4e50-c658-aa029fc0f816"
      },
      "outputs": [
        {
          "data": {
            "text/plain": [
              "0.12339116874232614"
            ]
          },
          "execution_count": 11,
          "metadata": {},
          "output_type": "execute_result"
        },
        {
          "data": {
            "image/png": "[encoded data removed]",
            "text/plain": [
              "<Figure size 640x480 with 1 Axes>"
            ]
          },
          "metadata": {},
          "output_type": "display_data"
        }
      ],
      "source": [
        "X=np.array(df_lilly_emo.dropna()['v']).reshape(-1,1);\n",
        "y=np.array(df_lilly_emo.dropna()['MA volatility']).reshape(-1,1);\n",
        "reg=LinearRegression()\n",
        "reg.fit(X,y)\n",
        "plt.plot(df_lilly_emo['v'],df_lilly_emo['MA volatility'], 'ko',markersize=2);\n",
        "plt.plot(X,reg.predict(X),'r-');\n",
        "reg.score(X,y)"
      ]
    },
    {
      "cell_type": "code",
      "execution_count": null,
      "metadata": {
        "colab": {
          "base_uri": "https://localhost:8080/",
          "height": 206
        },
        "id": "6PyrCon6xsrx",
        "outputId": "136c4ac1-b0a4-4df8-ac0c-2d7cb12963d5"
      },
      "outputs": [
        {
          "data": {
            "text/html": [
              "\n",
              "  <div id=\"df-7a06c906-3f1d-488b-a33c-a1d984e4d062\" class=\"colab-df-container\">\n",
              "    <div>\n",
              "<style scoped>\n",
              "    .dataframe tbody tr th:only-of-type {\n",
              "        vertical-align: middle;\n",
              "    }\n",
              "\n",
              "    .dataframe tbody tr th {\n",
              "        vertical-align: top;\n",
              "    }\n",
              "\n",
              "    .dataframe thead th {\n",
              "        text-align: right;\n",
              "    }\n",
              "</style>\n",
              "<table border=\"1\" class=\"dataframe\">\n",
              "  <thead>\n",
              "    <tr style=\"text-align: right;\">\n",
              "      <th></th>\n",
              "      <th>timestamp_UTC</th>\n",
              "      <th>MA_sent_score</th>\n",
              "      <th>predicted return</th>\n",
              "      <th>predicted volatility</th>\n",
              "    </tr>\n",
              "  </thead>\n",
              "  <tbody>\n",
              "    <tr>\n",
              "      <th>0</th>\n",
              "      <td>2022-11-10 13:32:00</td>\n",
              "      <td>0.048509</td>\n",
              "      <td>-0.000045</td>\n",
              "      <td>0.000863</td>\n",
              "    </tr>\n",
              "    <tr>\n",
              "      <th>1</th>\n",
              "      <td>2022-11-10 13:33:00</td>\n",
              "      <td>0.048509</td>\n",
              "      <td>-0.000045</td>\n",
              "      <td>0.000863</td>\n",
              "    </tr>\n",
              "    <tr>\n",
              "      <th>2</th>\n",
              "      <td>2022-11-10 13:34:00</td>\n",
              "      <td>0.048509</td>\n",
              "      <td>-0.000045</td>\n",
              "      <td>0.000863</td>\n",
              "    </tr>\n",
              "    <tr>\n",
              "      <th>3</th>\n",
              "      <td>2022-11-10 13:35:00</td>\n",
              "      <td>0.048509</td>\n",
              "      <td>-0.000045</td>\n",
              "      <td>0.000863</td>\n",
              "    </tr>\n",
              "    <tr>\n",
              "      <th>4</th>\n",
              "      <td>2022-11-10 13:36:00</td>\n",
              "      <td>0.048509</td>\n",
              "      <td>-0.000045</td>\n",
              "      <td>0.000863</td>\n",
              "    </tr>\n",
              "  </tbody>\n",
              "</table>\n",
              "</div>\n",
              "    <div class=\"colab-df-buttons\">\n",
              "\n",
              "  <div class=\"colab-df-container\">\n",
              "    <button class=\"colab-df-convert\" onclick=\"convertToInteractive('df-7a06c906-3f1d-488b-a33c-a1d984e4d062')\"\n",
              "            title=\"Convert this dataframe to an interactive table.\"\n",
              "            style=\"display:none;\">\n",
              "\n",
              "  <svg xmlns=\"http://www.w3.org/2000/svg\" height=\"24px\" viewBox=\"0 -960 960 960\">\n",
              "    <path d=\"M120-120v-720h720v720H120Zm60-500h600v-160H180v160Zm220 220h160v-160H400v160Zm0 220h160v-160H400v160ZM180-400h160v-160H180v160Zm440 0h160v-160H620v160ZM180-180h160v-160H180v160Zm440 0h160v-160H620v160Z\"/>\n",
              "  </svg>\n",
              "    </button>\n",
              "\n",
              "  <style>\n",
              "    .colab-df-container {\n",
              "      display:flex;\n",
              "      gap: 12px;\n",
              "    }\n",
              "\n",
              "    .colab-df-convert {\n",
              "      background-color: #E8F0FE;\n",
              "      border: none;\n",
              "      border-radius: 50%;\n",
              "      cursor: pointer;\n",
              "      display: none;\n",
              "      fill: #1967D2;\n",
              "      height: 32px;\n",
              "      padding: 0 0 0 0;\n",
              "      width: 32px;\n",
              "    }\n",
              "\n",
              "    .colab-df-convert:hover {\n",
              "      background-color: #E2EBFA;\n",
              "      box-shadow: 0px 1px 2px rgba(60, 64, 67, 0.3), 0px 1px 3px 1px rgba(60, 64, 67, 0.15);\n",
              "      fill: #174EA6;\n",
              "    }\n",
              "\n",
              "    .colab-df-buttons div {\n",
              "      margin-bottom: 4px;\n",
              "    }\n",
              "\n",
              "    [theme=dark] .colab-df-convert {\n",
              "      background-color: #3B4455;\n",
              "      fill: #D2E3FC;\n",
              "    }\n",
              "\n",
              "    [theme=dark] .colab-df-convert:hover {\n",
              "      background-color: #434B5C;\n",
              "      box-shadow: 0px 1px 3px 1px rgba(0, 0, 0, 0.15);\n",
              "      filter: drop-shadow(0px 1px 2px rgba(0, 0, 0, 0.3));\n",
              "      fill: #FFFFFF;\n",
              "    }\n",
              "  </style>\n",
              "\n",
              "    <script>\n",
              "      const buttonEl =\n",
              "        document.querySelector('#df-7a06c906-3f1d-488b-a33c-a1d984e4d062 button.colab-df-convert');\n",
              "      buttonEl.style.display =\n",
              "        google.colab.kernel.accessAllowed ? 'block' : 'none';\n",
              "\n",
              "      async function convertToInteractive(key) {\n",
              "        const element = document.querySelector('#df-7a06c906-3f1d-488b-a33c-a1d984e4d062');\n",
              "        const dataTable =\n",
              "          await google.colab.kernel.invokeFunction('convertToInteractive',\n",
              "                                                    [key], {});\n",
              "        if (!dataTable) return;\n",
              "\n",
              "        const docLinkHtml = 'Like what you see? Visit the ' +\n",
              "          '<a target=\"_blank\" href=https://colab.research.google.com/notebooks/data_table.ipynb>data table notebook</a>'\n",
              "          + ' to learn more about interactive tables.';\n",
              "        element.innerHTML = '';\n",
              "        dataTable['output_type'] = 'display_data';\n",
              "        await google.colab.output.renderOutput(dataTable, element);\n",
              "        const docLink = document.createElement('div');\n",
              "        docLink.innerHTML = docLinkHtml;\n",
              "        element.appendChild(docLink);\n",
              "      }\n",
              "    </script>\n",
              "  </div>\n",
              "\n",
              "\n",
              "<div id=\"df-d6a42f77-3bd2-4e69-b324-7ef351223786\">\n",
              "  <button class=\"colab-df-quickchart\" onclick=\"quickchart('df-d6a42f77-3bd2-4e69-b324-7ef351223786')\"\n",
              "            title=\"Suggest charts\"\n",
              "            style=\"display:none;\">\n",
              "\n",
              "<svg xmlns=\"http://www.w3.org/2000/svg\" height=\"24px\"viewBox=\"0 0 24 24\"\n",
              "     width=\"24px\">\n",
              "    <g>\n",
              "        <path d=\"M19 3H5c-1.1 0-2 .9-2 2v14c0 1.1.9 2 2 2h14c1.1 0 2-.9 2-2V5c0-1.1-.9-2-2-2zM9 17H7v-7h2v7zm4 0h-2V7h2v10zm4 0h-2v-4h2v4z\"/>\n",
              "    </g>\n",
              "</svg>\n",
              "  </button>\n",
              "\n",
              "<style>\n",
              "  .colab-df-quickchart {\n",
              "      --bg-color: #E8F0FE;\n",
              "      --fill-color: #1967D2;\n",
              "      --hover-bg-color: #E2EBFA;\n",
              "      --hover-fill-color: #174EA6;\n",
              "      --disabled-fill-color: #AAA;\n",
              "      --disabled-bg-color: #DDD;\n",
              "  }\n",
              "\n",
              "  [theme=dark] .colab-df-quickchart {\n",
              "      --bg-color: #3B4455;\n",
              "      --fill-color: #D2E3FC;\n",
              "      --hover-bg-color: #434B5C;\n",
              "      --hover-fill-color: #FFFFFF;\n",
              "      --disabled-bg-color: #3B4455;\n",
              "      --disabled-fill-color: #666;\n",
              "  }\n",
              "\n",
              "  .colab-df-quickchart {\n",
              "    background-color: var(--bg-color);\n",
              "    border: none;\n",
              "    border-radius: 50%;\n",
              "    cursor: pointer;\n",
              "    display: none;\n",
              "    fill: var(--fill-color);\n",
              "    height: 32px;\n",
              "    padding: 0;\n",
              "    width: 32px;\n",
              "  }\n",
              "\n",
              "  .colab-df-quickchart:hover {\n",
              "    background-color: var(--hover-bg-color);\n",
              "    box-shadow: 0 1px 2px rgba(60, 64, 67, 0.3), 0 1px 3px 1px rgba(60, 64, 67, 0.15);\n",
              "    fill: var(--button-hover-fill-color);\n",
              "  }\n",
              "\n",
              "  .colab-df-quickchart-complete:disabled,\n",
              "  .colab-df-quickchart-complete:disabled:hover {\n",
              "    background-color: var(--disabled-bg-color);\n",
              "    fill: var(--disabled-fill-color);\n",
              "    box-shadow: none;\n",
              "  }\n",
              "\n",
              "  .colab-df-spinner {\n",
              "    border: 2px solid var(--fill-color);\n",
              "    border-color: transparent;\n",
              "    border-bottom-color: var(--fill-color);\n",
              "    animation:\n",
              "      spin 1s steps(1) infinite;\n",
              "  }\n",
              "\n",
              "  @keyframes spin {\n",
              "    0% {\n",
              "      border-color: transparent;\n",
              "      border-bottom-color: var(--fill-color);\n",
              "      border-left-color: var(--fill-color);\n",
              "    }\n",
              "    20% {\n",
              "      border-color: transparent;\n",
              "      border-left-color: var(--fill-color);\n",
              "      border-top-color: var(--fill-color);\n",
              "    }\n",
              "    30% {\n",
              "      border-color: transparent;\n",
              "      border-left-color: var(--fill-color);\n",
              "      border-top-color: var(--fill-color);\n",
              "      border-right-color: var(--fill-color);\n",
              "    }\n",
              "    40% {\n",
              "      border-color: transparent;\n",
              "      border-right-color: var(--fill-color);\n",
              "      border-top-color: var(--fill-color);\n",
              "    }\n",
              "    60% {\n",
              "      border-color: transparent;\n",
              "      border-right-color: var(--fill-color);\n",
              "    }\n",
              "    80% {\n",
              "      border-color: transparent;\n",
              "      border-right-color: var(--fill-color);\n",
              "      border-bottom-color: var(--fill-color);\n",
              "    }\n",
              "    90% {\n",
              "      border-color: transparent;\n",
              "      border-bottom-color: var(--fill-color);\n",
              "    }\n",
              "  }\n",
              "</style>\n",
              "\n",
              "  <script>\n",
              "    async function quickchart(key) {\n",
              "      const quickchartButtonEl =\n",
              "        document.querySelector('#' + key + ' button');\n",
              "      quickchartButtonEl.disabled = true;  // To prevent multiple clicks.\n",
              "      quickchartButtonEl.classList.add('colab-df-spinner');\n",
              "      try {\n",
              "        const charts = await google.colab.kernel.invokeFunction(\n",
              "            'suggestCharts', [key], {});\n",
              "      } catch (error) {\n",
              "        console.error('Error during call to suggestCharts:', error);\n",
              "      }\n",
              "      quickchartButtonEl.classList.remove('colab-df-spinner');\n",
              "      quickchartButtonEl.classList.add('colab-df-quickchart-complete');\n",
              "    }\n",
              "    (() => {\n",
              "      let quickchartButtonEl =\n",
              "        document.querySelector('#df-d6a42f77-3bd2-4e69-b324-7ef351223786 button');\n",
              "      quickchartButtonEl.style.display =\n",
              "        google.colab.kernel.accessAllowed ? 'block' : 'none';\n",
              "    })();\n",
              "  </script>\n",
              "</div>\n",
              "    </div>\n",
              "  </div>\n"
            ],
            "text/plain": [
              "        timestamp_UTC  MA_sent_score  predicted return  predicted volatility\n",
              "0 2022-11-10 13:32:00       0.048509         -0.000045              0.000863\n",
              "1 2022-11-10 13:33:00       0.048509         -0.000045              0.000863\n",
              "2 2022-11-10 13:34:00       0.048509         -0.000045              0.000863\n",
              "3 2022-11-10 13:35:00       0.048509         -0.000045              0.000863\n",
              "4 2022-11-10 13:36:00       0.048509         -0.000045              0.000863"
            ]
          },
          "execution_count": 12,
          "metadata": {},
          "output_type": "execute_result"
        }
      ],
      "source": [
        "X_pred=np.array(data_1min_filter.dropna()['MA v']).reshape(-1,1);\n",
        "y_pred=reg.predict(X_pred);\n",
        "df_predict['predicted volatility']=y_pred;\n",
        "df_predict.head()"
      ]
    },
    {
      "cell_type": "code",
      "execution_count": null,
      "metadata": {
        "id": "m0WiZuVUgt6k"
      },
      "outputs": [],
      "source": [
        "df_predict['randomized return']=df_predict['predicted return']+np.random.normal(0,df_predict['predicted volatility'])\n",
        "predicted_price=np.array((data_1min_filter['open']+data_1min_filter['close'])/2);\n",
        "for k in range(len(df_predict['randomized return'])-1):\n",
        "  predicted_price[k+1]=predicted_price[k]*np.exp(df_predict.loc[k,'randomized return']);\n",
        "df_predict['predicted price']=predicted_price"
      ]
    },
    {
      "cell_type": "code",
      "execution_count": null,
      "metadata": {
        "colab": {
          "base_uri": "https://localhost:8080/"
        },
        "id": "BplBWEshkfK5",
        "outputId": "cd38bb38-971c-44a4-8372-72a4ba5127cd"
      },
      "outputs": [
        {
          "name": "stdout",
          "output_type": "stream",
          "text": [
            "Collecting brokenaxes\n",
            "  Downloading brokenaxes-0.5.0-py3-none-any.whl (6.6 kB)\n",
            "Requirement already satisfied: matplotlib>3.4 in /usr/local/lib/python3.10/dist-packages (from brokenaxes) (3.7.1)\n",
            "Requirement already satisfied: contourpy>=1.0.1 in /usr/local/lib/python3.10/dist-packages (from matplotlib>3.4->brokenaxes) (1.2.0)\n",
            "Requirement already satisfied: cycler>=0.10 in /usr/local/lib/python3.10/dist-packages (from matplotlib>3.4->brokenaxes) (0.12.1)\n",
            "Requirement already satisfied: fonttools>=4.22.0 in /usr/local/lib/python3.10/dist-packages (from matplotlib>3.4->brokenaxes) (4.47.2)\n",
            "Requirement already satisfied: kiwisolver>=1.0.1 in /usr/local/lib/python3.10/dist-packages (from matplotlib>3.4->brokenaxes) (1.4.5)\n",
            "Requirement already satisfied: numpy>=1.20 in /usr/local/lib/python3.10/dist-packages (from matplotlib>3.4->brokenaxes) (1.23.5)\n",
            "Requirement already satisfied: packaging>=20.0 in /usr/local/lib/python3.10/dist-packages (from matplotlib>3.4->brokenaxes) (23.2)\n",
            "Requirement already satisfied: pillow>=6.2.0 in /usr/local/lib/python3.10/dist-packages (from matplotlib>3.4->brokenaxes) (9.4.0)\n",
            "Requirement already satisfied: pyparsing>=2.3.1 in /usr/local/lib/python3.10/dist-packages (from matplotlib>3.4->brokenaxes) (3.1.1)\n",
            "Requirement already satisfied: python-dateutil>=2.7 in /usr/local/lib/python3.10/dist-packages (from matplotlib>3.4->brokenaxes) (2.8.2)\n",
            "Requirement already satisfied: six>=1.5 in /usr/local/lib/python3.10/dist-packages (from python-dateutil>=2.7->matplotlib>3.4->brokenaxes) (1.16.0)\n",
            "Installing collected packages: brokenaxes\n",
            "Successfully installed brokenaxes-0.5.0\n"
          ]
        }
      ],
      "source": [
        "!pip install brokenaxes\n",
        "from brokenaxes import brokenaxes\n"
      ]
    },
    {
      "cell_type": "code",
      "execution_count": null,
      "metadata": {
        "colab": {
          "base_uri": "https://localhost:8080/",
          "height": 614
        },
        "id": "ckt1JigTQNOv",
        "outputId": "46cfbdb1-76f3-4249-d097-d16801d35c98"
      },
      "outputs": [
        {
          "data": {
            "image/png": "[encoded data removed]",
            "text/plain": [
              "<Figure size 1000x600 with 3 Axes>"
            ]
          },
          "metadata": {},
          "output_type": "display_data"
        }
      ],
      "source": [
        "fig = plt.figure(figsize=(10,6))\n",
        "fig.suptitle('Eli Lilly and Company stock price prediction based on sentiment')\n",
        "date_of_event = pd.to_datetime('2022-11-10 18:36')\n",
        "bax = brokenaxes(xlims = (\n",
        "            (\n",
        "                pd.Timestamp('2022-11-10 13:30:00'),\n",
        "                pd.Timestamp('2022-11-10 20:00:00'),\n",
        "            ),\n",
        "            (\n",
        "                pd.Timestamp('2022-11-11 13:30:00'),\n",
        "                pd.Timestamp('2022-11-11 20:00:00'),\n",
        "            ),\n",
        "        ),\n",
        "        despine=False,\n",
        "    )\n",
        "bax.plot(df_predict['timestamp_UTC'],df_predict['predicted price'],color='k',label='Predicted price');\n",
        "bax.plot(data_1min['timestamp_UTC'],data_1min['open'],color='blue',label='Market price')\n",
        "bax.legend()\n",
        "bax.axvline(date_of_event , color='red', linestyle='--')\n",
        "bax.axvline(pd.to_datetime('2022-11-10 13:30'),color='blue',linestyle='--')\n",
        "bax.grid();\n",
        "bax.set_xlabel('Date',labelpad=30)\n",
        "bax.set_ylabel('Stock price')\n",
        "date_format = DateFormatter(\"%m-%d\\n%H:%M\")\n",
        "for ax in bax.axs:\n",
        "    ax.xaxis.set_major_formatter(date_format)\n",
        "\n",
        "bax.last_row[0].set_xticks([\n",
        "    pd.Timestamp('2022-11-10 15:00:00'),\n",
        "    pd.Timestamp('2022-11-10 18:00:00'),\n",
        "]);\n",
        "\n",
        "bax.last_row[1].set_xticks([\n",
        "    pd.Timestamp('2022-11-11 15:00:00'),\n",
        "    pd.Timestamp('2022-11-11 18:00:00'),\n",
        "]);"
      ]
    },
    {
      "cell_type": "code",
      "execution_count": null,
      "metadata": {
        "colab": {
          "base_uri": "https://localhost:8080/",
          "height": 206
        },
        "id": "FcTGer9ieGAh",
        "outputId": "5346badf-49b8-4521-b13c-e61a9e7a1bb8"
      },
      "outputs": [
        {
          "data": {
            "text/html": [
              "\n",
              "  <div id=\"df-0318859d-ce5f-4ba3-8f25-62054f1d41a3\" class=\"colab-df-container\">\n",
              "    <div>\n",
              "<style scoped>\n",
              "    .dataframe tbody tr th:only-of-type {\n",
              "        vertical-align: middle;\n",
              "    }\n",
              "\n",
              "    .dataframe tbody tr th {\n",
              "        vertical-align: top;\n",
              "    }\n",
              "\n",
              "    .dataframe thead th {\n",
              "        text-align: right;\n",
              "    }\n",
              "</style>\n",
              "<table border=\"1\" class=\"dataframe\">\n",
              "  <thead>\n",
              "    <tr style=\"text-align: right;\">\n",
              "      <th></th>\n",
              "      <th>timestamp_UTC</th>\n",
              "      <th>MA_sent_score</th>\n",
              "      <th>predicted return</th>\n",
              "      <th>predicted price</th>\n",
              "    </tr>\n",
              "  </thead>\n",
              "  <tbody>\n",
              "    <tr>\n",
              "      <th>0</th>\n",
              "      <td>2022-11-10 13:32:00</td>\n",
              "      <td>0.048509</td>\n",
              "      <td>-0.000045</td>\n",
              "      <td>363.139500</td>\n",
              "    </tr>\n",
              "    <tr>\n",
              "      <th>1</th>\n",
              "      <td>2022-11-10 13:33:00</td>\n",
              "      <td>0.048509</td>\n",
              "      <td>-0.000045</td>\n",
              "      <td>363.123168</td>\n",
              "    </tr>\n",
              "    <tr>\n",
              "      <th>2</th>\n",
              "      <td>2022-11-10 13:34:00</td>\n",
              "      <td>0.048509</td>\n",
              "      <td>-0.000045</td>\n",
              "      <td>363.106837</td>\n",
              "    </tr>\n",
              "    <tr>\n",
              "      <th>3</th>\n",
              "      <td>2022-11-10 13:35:00</td>\n",
              "      <td>0.048509</td>\n",
              "      <td>-0.000045</td>\n",
              "      <td>363.090507</td>\n",
              "    </tr>\n",
              "    <tr>\n",
              "      <th>4</th>\n",
              "      <td>2022-11-10 13:36:00</td>\n",
              "      <td>0.048509</td>\n",
              "      <td>-0.000045</td>\n",
              "      <td>363.074177</td>\n",
              "    </tr>\n",
              "  </tbody>\n",
              "</table>\n",
              "</div>\n",
              "    <div class=\"colab-df-buttons\">\n",
              "\n",
              "  <div class=\"colab-df-container\">\n",
              "    <button class=\"colab-df-convert\" onclick=\"convertToInteractive('df-0318859d-ce5f-4ba3-8f25-62054f1d41a3')\"\n",
              "            title=\"Convert this dataframe to an interactive table.\"\n",
              "            style=\"display:none;\">\n",
              "\n",
              "  <svg xmlns=\"http://www.w3.org/2000/svg\" height=\"24px\" viewBox=\"0 -960 960 960\">\n",
              "    <path d=\"M120-120v-720h720v720H120Zm60-500h600v-160H180v160Zm220 220h160v-160H400v160Zm0 220h160v-160H400v160ZM180-400h160v-160H180v160Zm440 0h160v-160H620v160ZM180-180h160v-160H180v160Zm440 0h160v-160H620v160Z\"/>\n",
              "  </svg>\n",
              "    </button>\n",
              "\n",
              "  <style>\n",
              "    .colab-df-container {\n",
              "      display:flex;\n",
              "      gap: 12px;\n",
              "    }\n",
              "\n",
              "    .colab-df-convert {\n",
              "      background-color: #E8F0FE;\n",
              "      border: none;\n",
              "      border-radius: 50%;\n",
              "      cursor: pointer;\n",
              "      display: none;\n",
              "      fill: #1967D2;\n",
              "      height: 32px;\n",
              "      padding: 0 0 0 0;\n",
              "      width: 32px;\n",
              "    }\n",
              "\n",
              "    .colab-df-convert:hover {\n",
              "      background-color: #E2EBFA;\n",
              "      box-shadow: 0px 1px 2px rgba(60, 64, 67, 0.3), 0px 1px 3px 1px rgba(60, 64, 67, 0.15);\n",
              "      fill: #174EA6;\n",
              "    }\n",
              "\n",
              "    .colab-df-buttons div {\n",
              "      margin-bottom: 4px;\n",
              "    }\n",
              "\n",
              "    [theme=dark] .colab-df-convert {\n",
              "      background-color: #3B4455;\n",
              "      fill: #D2E3FC;\n",
              "    }\n",
              "\n",
              "    [theme=dark] .colab-df-convert:hover {\n",
              "      background-color: #434B5C;\n",
              "      box-shadow: 0px 1px 3px 1px rgba(0, 0, 0, 0.15);\n",
              "      filter: drop-shadow(0px 1px 2px rgba(0, 0, 0, 0.3));\n",
              "      fill: #FFFFFF;\n",
              "    }\n",
              "  </style>\n",
              "\n",
              "    <script>\n",
              "      const buttonEl =\n",
              "        document.querySelector('#df-0318859d-ce5f-4ba3-8f25-62054f1d41a3 button.colab-df-convert');\n",
              "      buttonEl.style.display =\n",
              "        google.colab.kernel.accessAllowed ? 'block' : 'none';\n",
              "\n",
              "      async function convertToInteractive(key) {\n",
              "        const element = document.querySelector('#df-0318859d-ce5f-4ba3-8f25-62054f1d41a3');\n",
              "        const dataTable =\n",
              "          await google.colab.kernel.invokeFunction('convertToInteractive',\n",
              "                                                    [key], {});\n",
              "        if (!dataTable) return;\n",
              "\n",
              "        const docLinkHtml = 'Like what you see? Visit the ' +\n",
              "          '<a target=\"_blank\" href=https://colab.research.google.com/notebooks/data_table.ipynb>data table notebook</a>'\n",
              "          + ' to learn more about interactive tables.';\n",
              "        element.innerHTML = '';\n",
              "        dataTable['output_type'] = 'display_data';\n",
              "        await google.colab.output.renderOutput(dataTable, element);\n",
              "        const docLink = document.createElement('div');\n",
              "        docLink.innerHTML = docLinkHtml;\n",
              "        element.appendChild(docLink);\n",
              "      }\n",
              "    </script>\n",
              "  </div>\n",
              "\n",
              "\n",
              "<div id=\"df-90083806-c785-4f4c-821b-eb7dfae6da44\">\n",
              "  <button class=\"colab-df-quickchart\" onclick=\"quickchart('df-90083806-c785-4f4c-821b-eb7dfae6da44')\"\n",
              "            title=\"Suggest charts\"\n",
              "            style=\"display:none;\">\n",
              "\n",
              "<svg xmlns=\"http://www.w3.org/2000/svg\" height=\"24px\"viewBox=\"0 0 24 24\"\n",
              "     width=\"24px\">\n",
              "    <g>\n",
              "        <path d=\"M19 3H5c-1.1 0-2 .9-2 2v14c0 1.1.9 2 2 2h14c1.1 0 2-.9 2-2V5c0-1.1-.9-2-2-2zM9 17H7v-7h2v7zm4 0h-2V7h2v10zm4 0h-2v-4h2v4z\"/>\n",
              "    </g>\n",
              "</svg>\n",
              "  </button>\n",
              "\n",
              "<style>\n",
              "  .colab-df-quickchart {\n",
              "      --bg-color: #E8F0FE;\n",
              "      --fill-color: #1967D2;\n",
              "      --hover-bg-color: #E2EBFA;\n",
              "      --hover-fill-color: #174EA6;\n",
              "      --disabled-fill-color: #AAA;\n",
              "      --disabled-bg-color: #DDD;\n",
              "  }\n",
              "\n",
              "  [theme=dark] .colab-df-quickchart {\n",
              "      --bg-color: #3B4455;\n",
              "      --fill-color: #D2E3FC;\n",
              "      --hover-bg-color: #434B5C;\n",
              "      --hover-fill-color: #FFFFFF;\n",
              "      --disabled-bg-color: #3B4455;\n",
              "      --disabled-fill-color: #666;\n",
              "  }\n",
              "\n",
              "  .colab-df-quickchart {\n",
              "    background-color: var(--bg-color);\n",
              "    border: none;\n",
              "    border-radius: 50%;\n",
              "    cursor: pointer;\n",
              "    display: none;\n",
              "    fill: var(--fill-color);\n",
              "    height: 32px;\n",
              "    padding: 0;\n",
              "    width: 32px;\n",
              "  }\n",
              "\n",
              "  .colab-df-quickchart:hover {\n",
              "    background-color: var(--hover-bg-color);\n",
              "    box-shadow: 0 1px 2px rgba(60, 64, 67, 0.3), 0 1px 3px 1px rgba(60, 64, 67, 0.15);\n",
              "    fill: var(--button-hover-fill-color);\n",
              "  }\n",
              "\n",
              "  .colab-df-quickchart-complete:disabled,\n",
              "  .colab-df-quickchart-complete:disabled:hover {\n",
              "    background-color: var(--disabled-bg-color);\n",
              "    fill: var(--disabled-fill-color);\n",
              "    box-shadow: none;\n",
              "  }\n",
              "\n",
              "  .colab-df-spinner {\n",
              "    border: 2px solid var(--fill-color);\n",
              "    border-color: transparent;\n",
              "    border-bottom-color: var(--fill-color);\n",
              "    animation:\n",
              "      spin 1s steps(1) infinite;\n",
              "  }\n",
              "\n",
              "  @keyframes spin {\n",
              "    0% {\n",
              "      border-color: transparent;\n",
              "      border-bottom-color: var(--fill-color);\n",
              "      border-left-color: var(--fill-color);\n",
              "    }\n",
              "    20% {\n",
              "      border-color: transparent;\n",
              "      border-left-color: var(--fill-color);\n",
              "      border-top-color: var(--fill-color);\n",
              "    }\n",
              "    30% {\n",
              "      border-color: transparent;\n",
              "      border-left-color: var(--fill-color);\n",
              "      border-top-color: var(--fill-color);\n",
              "      border-right-color: var(--fill-color);\n",
              "    }\n",
              "    40% {\n",
              "      border-color: transparent;\n",
              "      border-right-color: var(--fill-color);\n",
              "      border-top-color: var(--fill-color);\n",
              "    }\n",
              "    60% {\n",
              "      border-color: transparent;\n",
              "      border-right-color: var(--fill-color);\n",
              "    }\n",
              "    80% {\n",
              "      border-color: transparent;\n",
              "      border-right-color: var(--fill-color);\n",
              "      border-bottom-color: var(--fill-color);\n",
              "    }\n",
              "    90% {\n",
              "      border-color: transparent;\n",
              "      border-bottom-color: var(--fill-color);\n",
              "    }\n",
              "  }\n",
              "</style>\n",
              "\n",
              "  <script>\n",
              "    async function quickchart(key) {\n",
              "      const quickchartButtonEl =\n",
              "        document.querySelector('#' + key + ' button');\n",
              "      quickchartButtonEl.disabled = true;  // To prevent multiple clicks.\n",
              "      quickchartButtonEl.classList.add('colab-df-spinner');\n",
              "      try {\n",
              "        const charts = await google.colab.kernel.invokeFunction(\n",
              "            'suggestCharts', [key], {});\n",
              "      } catch (error) {\n",
              "        console.error('Error during call to suggestCharts:', error);\n",
              "      }\n",
              "      quickchartButtonEl.classList.remove('colab-df-spinner');\n",
              "      quickchartButtonEl.classList.add('colab-df-quickchart-complete');\n",
              "    }\n",
              "    (() => {\n",
              "      let quickchartButtonEl =\n",
              "        document.querySelector('#df-90083806-c785-4f4c-821b-eb7dfae6da44 button');\n",
              "      quickchartButtonEl.style.display =\n",
              "        google.colab.kernel.accessAllowed ? 'block' : 'none';\n",
              "    })();\n",
              "  </script>\n",
              "</div>\n",
              "    </div>\n",
              "  </div>\n"
            ],
            "text/plain": [
              "        timestamp_UTC  MA_sent_score  predicted return  predicted price\n",
              "0 2022-11-10 13:32:00       0.048509         -0.000045       363.139500\n",
              "1 2022-11-10 13:33:00       0.048509         -0.000045       363.123168\n",
              "2 2022-11-10 13:34:00       0.048509         -0.000045       363.106837\n",
              "3 2022-11-10 13:35:00       0.048509         -0.000045       363.090507\n",
              "4 2022-11-10 13:36:00       0.048509         -0.000045       363.074177"
            ]
          },
          "execution_count": 34,
          "metadata": {},
          "output_type": "execute_result"
        }
      ],
      "source": [
        "df_predict.head()"
      ]
    },
    {
      "cell_type": "code",
      "execution_count": null,
      "metadata": {
        "colab": {
          "base_uri": "https://localhost:8080/",
          "height": 570
        },
        "id": "yVmQRHxJ2dzq",
        "outputId": "876c1cec-a210-44b1-c32b-5c533b6cabcd"
      },
      "outputs": [
        {
          "name": "stderr",
          "output_type": "stream",
          "text": [
            "<ipython-input-55-a873214d7c6e>:1: SettingWithCopyWarning: \n",
            "A value is trying to be set on a copy of a slice from a DataFrame.\n",
            "Try using .loc[row_indexer,col_indexer] = value instead\n",
            "\n",
            "See the caveats in the documentation: https://pandas.pydata.org/pandas-docs/stable/user_guide/indexing.html#returning-a-view-versus-a-copy\n",
            "  data_1min_filter['Normalized return']=(data_1min_filter['return']-np.mean(data_1min_filter['return']))/np.std(data_1min_filter['return']);\n"
          ]
        },
        {
          "data": {
            "image/png": "[encoded data removed]",
            "text/plain": [
              "<Figure size 640x480 with 1 Axes>"
            ]
          },
          "metadata": {},
          "output_type": "display_data"
        }
      ],
      "source": [
        "data_1min_filter['Normalized return']=(data_1min_filter['return']-np.mean(data_1min_filter['return']))/np.std(data_1min_filter['return']);\n",
        "df_lilly_emo['Normalized score']=(df_lilly['BERT sentiment score']-np.mean(df_lilly['BERT sentiment score']))/np.std(df_lilly['BERT sentiment score']);\n",
        "plt.plot(data_1min_filter.loc[:,'timestamp_UTC'],data_1min_filter.loc[:,'Normalized return'],'r+',label='Return');\n",
        "plt.plot(df_lilly.index,df_lilly.loc[:,'Normalized score'],'bo',label='Sentiment');\n",
        "date_format = DateFormatter(\"%m-%d\\n%H:%M\")\n",
        "plt.gca().xaxis.set_major_formatter(date_format)\n",
        "plt.gca().xaxis.set_major_locator(HourLocator(interval=12))\n"
      ]
    },
    {
      "cell_type": "code",
      "execution_count": null,
      "metadata": {
        "id": "B0aosy0S9vcO"
      },
      "outputs": [],
      "source": [
        "df_lilly_emo['date']=pd.to_datetime(df_lilly_emo['date'])"
      ]
    },
    {
      "cell_type": "code",
      "execution_count": null,
      "metadata": {
        "colab": {
          "base_uri": "https://localhost:8080/"
        },
        "id": "_q0s56jB_eKu",
        "outputId": "062f3fc2-e1ca-4294-9437-833bbb8b893f"
      },
      "outputs": [
        {
          "data": {
            "text/plain": [
              "0     2022-12-08 14:42:58\n",
              "1     2022-12-05 17:58:35\n",
              "2     2022-12-01 20:33:41\n",
              "3     2022-11-30 18:53:33\n",
              "4     2022-11-28 03:01:05\n",
              "              ...        \n",
              "99    2022-11-12 00:18:05\n",
              "100   2022-11-13 04:13:37\n",
              "101   2022-11-12 07:41:00\n",
              "102   2022-11-12 01:21:12\n",
              "103   2022-11-11 21:24:12\n",
              "Name: date, Length: 104, dtype: datetime64[ns]"
            ]
          },
          "execution_count": 17,
          "metadata": {},
          "output_type": "execute_result"
        }
      ],
      "source": [
        "df_lilly_emo['date']"
      ]
    },
    {
      "cell_type": "code",
      "execution_count": null,
      "metadata": {
        "colab": {
          "base_uri": "https://localhost:8080/",
          "height": 554
        },
        "id": "xIwj1wxf-gGA",
        "outputId": "3dd8c191-050f-4560-b0d5-f044c580a3a0"
      },
      "outputs": [
        {
          "name": "stderr",
          "output_type": "stream",
          "text": [
            "<ipython-input-18-f55b31b09f22>:1: SettingWithCopyWarning: \n",
            "A value is trying to be set on a copy of a slice from a DataFrame.\n",
            "Try using .loc[row_indexer,col_indexer] = value instead\n",
            "\n",
            "See the caveats in the documentation: https://pandas.pydata.org/pandas-docs/stable/user_guide/indexing.html#returning-a-view-versus-a-copy\n",
            "  data_1min_filter['Normalized return']=(data_1min_filter['return']-np.mean(data_1min_filter['return']))/np.std(data_1min_filter['return']);\n"
          ]
        },
        {
          "data": {
            "image/png": "[encoded data removed]",
            "text/plain": [
              "<Figure size 640x480 with 1 Axes>"
            ]
          },
          "metadata": {},
          "output_type": "display_data"
        }
      ],
      "source": [
        "data_1min_filter['Normalized return']=(data_1min_filter['return']-np.mean(data_1min_filter['return']))/np.std(data_1min_filter['return']);\n",
        "df_lilly_emo['Normalized a']=(df_lilly_emo['a']-np.mean(df_lilly_emo['a']))/np.std(df_lilly_emo['a']);\n",
        "plt.plot(data_1min_filter.loc[:,'timestamp_UTC'],data_1min_filter.loc[:,'Normalized return'],'r+',label='Return');\n",
        "plt.plot(df_lilly_emo.loc[:,'date'],df_lilly_emo.loc[:,'Normalized a'],'bo',label='Arousal');"
      ]
    },
    {
      "cell_type": "code",
      "execution_count": null,
      "metadata": {
        "id": "PJqSxblEfPVb"
      },
      "outputs": [],
      "source": [
        "data_1min.to_excel('/content/drive/MyDrive/Sociophysics/data_LLY_1min.xlsx')\n",
        "data_daily.to_excel('/content/drive/MyDrive/Sociophysics/data_LLY_daily.xlsx')"
      ]
    },
    {
      "cell_type": "code",
      "execution_count": null,
      "metadata": {
        "id": "-WeUCPseMNTm"
      },
      "outputs": [],
      "source": [
        "data_1min.sort_values(by=['timestamp'],inplace=True)\n",
        "data_daily.sort_values(by=['timestamp'],inplace=True)\n",
        "data_1min.reset_index(inplace=True)\n",
        "data_daily.reset_index(inplace=True)"
      ]
    },
    {
      "cell_type": "code",
      "execution_count": null,
      "metadata": {
        "id": "Ne7Y0MPnmuf7"
      },
      "outputs": [],
      "source": [
        "data_1min.drop(columns=['index','Unnamed: 0'],inplace=True)\n",
        "data_daily.drop(columns=['index','Unnamed: 0'],inplace=True)"
      ]
    },
    {
      "cell_type": "code",
      "execution_count": null,
      "metadata": {
        "colab": {
          "base_uri": "https://localhost:8080/"
        },
        "id": "7lunHpAWOvSx",
        "outputId": "a1d9750c-2182-4315-a651-56ac600d60bb"
      },
      "outputs": [
        {
          "data": {
            "text/plain": [
              "0   NaN\n",
              "1   NaN\n",
              "2   NaN\n",
              "3   NaN\n",
              "4   NaN\n",
              "Name: MA4_sent_score, dtype: float64"
            ]
          },
          "execution_count": 19,
          "metadata": {},
          "output_type": "execute_result"
        }
      ],
      "source": [
        "data_1min_filter['MA4_sent_score'].head()"
      ]
    },
    {
      "cell_type": "code",
      "execution_count": null,
      "metadata": {
        "id": "AdzEUeAveyQW"
      },
      "outputs": [],
      "source": [
        "plt.plot(data_1min['volume']);\n",
        "id_ticks=[0,len(data_1min['timestamp'])-1];\n",
        "id_labels=data_1min.loc[id_ticks,'timestamp'];\n",
        "plt.xticks(ticks=id_ticks,labels=id_labels);\n",
        "plt.title('Trading volume ');"
      ]
    },
    {
      "cell_type": "code",
      "execution_count": null,
      "metadata": {
        "id": "8bTSuHR958tz"
      },
      "outputs": [],
      "source": [
        "axs=plt.plot(data_1min_filter['timestamp_UTC'],(data_1min_filter['open']+data_1min_filter['close'])/2,'bo:',markersize=2);\n"
      ]
    },
    {
      "cell_type": "code",
      "execution_count": null,
      "metadata": {
        "colab": {
          "base_uri": "https://localhost:8080/",
          "height": 514
        },
        "id": "XlI-fH7ixdd6",
        "outputId": "8ffaf1df-5007-45cc-e64c-0c6db1292da8"
      },
      "outputs": [
        {
          "data": {
            "image/png": "[encoded data removed]",
            "text/plain": [
              "<Figure size 640x480 with 3 Axes>"
            ]
          },
          "metadata": {},
          "output_type": "display_data"
        }
      ],
      "source": [
        "fig,axs=plt.subplots(3,1,sharex=True);\n",
        "axs[0].plot(data_1min_filter['timestamp_UTC'],data_1min_filter['return'],'o:',markersize=1);\n",
        "axs[1].plot(data_1min_filter['timestamp_UTC'],data_1min_filter['volatility'],'o:',markersize=1);\n",
        "axs[2].plot(data_1min_filter['timestamp_UTC'],data_1min_filter['volume'],'o:',markersize=1);\n",
        "axs[0].set_ylabel('Logarithm return');\n",
        "axs[1].set_ylabel('Volatility');\n",
        "axs[2].set_ylabel('Trading volume');\n",
        "axs[2].xaxis.set_major_locator(mdates.HourLocator(interval=4))\n",
        "axs[2].xaxis.set_major_formatter(mdates.DateFormatter('%m/%d \\n%H:%M'))\n",
        "axs[0].axvline(x=pd.to_datetime('2022-11-10 18:36:00'),color='red',linestyle='--')\n",
        "axs[1].axvline(x=pd.to_datetime('2022-11-10 18:36:00'),color='red',linestyle='--')\n",
        "axs[2].axvline(x=pd.to_datetime('2022-11-10 18:36:00'),color='red',linestyle='--')\n",
        "axs[2].set_xlabel('Date')\n",
        "\n",
        "for label in axs[2].get_xticklabels(which='major'):\n",
        "    label.set(rotation=0, horizontalalignment='right')\n",
        "fig.suptitle('Technical analysis of Eli Lilly and Co stock');\n",
        "plt.savefig('/content/drive/MyDrive/Sociophysics/stock_1.jpg')"
      ]
    },
    {
      "cell_type": "code",
      "execution_count": null,
      "metadata": {
        "id": "K3SYPcXcR_N9"
      },
      "outputs": [],
      "source": [
        "ax=plt.axes()\n",
        "ax.plot(data_1min_filter['timestamp_UTC'],(data_1min_filter['open']+data_1min_filter['close'])/2,'o:',markersize=2);\n",
        "ax.xaxis.set_major_locator(mdates.HourLocator(interval=4))\n",
        "ax.xaxis.set_major_formatter(mdates.DateFormatter('%m/%d \\n %H:%M'))\n",
        "ax.set_xlabel('Date')\n",
        "for label in ax.get_xticklabels(which='major'):\n",
        "    label.set(rotation=0, horizontalalignment='right')\n",
        "ax.set_title('Eli Lilly and Co stock price')\n",
        "plt.axvline(x=pd.to_datetime('2022-11-10 18:36:00'),color='red',linestyle='--')\n",
        "plt.savefig('/content/drive/MyDrive/Sociophysics/stock_2.jpg')"
      ]
    },
    {
      "cell_type": "code",
      "execution_count": null,
      "metadata": {
        "colab": {
          "base_uri": "https://localhost:8080/",
          "height": 487
        },
        "id": "lUicEfM9EMfD",
        "outputId": "3d4e7ea0-e73a-4008-b7c5-818728f850c5"
      },
      "outputs": [
        {
          "data": {
            "image/png": "[encoded data removed]",
            "text/plain": [
              "<Figure size 640x480 with 1 Axes>"
            ]
          },
          "metadata": {},
          "output_type": "display_data"
        }
      ],
      "source": [
        "from matplotlib.dates import DateFormatter, HourLocator\n",
        "\n",
        "plt.plot(data_1min_filter['timestamp_UTC'], (data_1min_filter['open']+data_1min_filter['close'])/2, color='black' ,linestyle='-', markersize=2)\n",
        "\n",
        "start_time = pd.Timestamp('2022-11-10 05:30:00')\n",
        "end_time = pd.Timestamp('2022-11-10 21:00:00')\n",
        "\n",
        "date_format = DateFormatter(\"%m-%d\\n%H:%M\")\n",
        "plt.gca().xaxis.set_major_formatter(date_format)\n",
        "plt.gca().xaxis.set_major_locator(HourLocator(interval=6))\n",
        "\n",
        "plt.xlabel('Date')\n",
        "plt.xlim()\n",
        "plt.grid(True)\n",
        "\n",
        "plt.tick_params(axis='both', direction='in',top=True, right=True)\n",
        "plt.title('Eli Lilly and Company (LLY) stock price')\n",
        "\n",
        "plt.axvline(pd.to_datetime('2022-11-10 18:36:00'),color='red',linestyle='--')\n",
        "\n",
        "plt.tight_layout()\n",
        "plt.show()"
      ]
    }
  ],
  "metadata": {
    "colab": {
      "include_colab_link": true,
      "provenance": []
    },
    "kernelspec": {
      "display_name": "Python 3",
      "name": "python3"
    },
    "language_info": {
      "name": "python"
    }
  },
  "nbformat": 4,
  "nbformat_minor": 0
}
